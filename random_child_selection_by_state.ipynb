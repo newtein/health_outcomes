{
 "cells": [
  {
   "cell_type": "code",
   "execution_count": 57,
   "id": "b6eeb39a",
   "metadata": {},
   "outputs": [],
   "source": [
    "from constants import *\n",
    "import pandas as pd\n",
    "import csv"
   ]
  },
  {
   "cell_type": "code",
   "execution_count": 47,
   "id": "791af4c2",
   "metadata": {},
   "outputs": [],
   "source": [
    "fname = \"{}/random_child_selection_by_state.xlsx\".format(OUTPUT_FILE)"
   ]
  },
  {
   "cell_type": "code",
   "execution_count": 48,
   "id": "57591707",
   "metadata": {},
   "outputs": [],
   "source": [
    "df = pd.read_excel(fname, sheet_name='Sheet2')"
   ]
  },
  {
   "cell_type": "code",
   "execution_count": 49,
   "id": "10dd81b4",
   "metadata": {},
   "outputs": [
    {
     "data": {
      "text/html": [
       "<div>\n",
       "<style scoped>\n",
       "    .dataframe tbody tr th:only-of-type {\n",
       "        vertical-align: middle;\n",
       "    }\n",
       "\n",
       "    .dataframe tbody tr th {\n",
       "        vertical-align: top;\n",
       "    }\n",
       "\n",
       "    .dataframe thead th {\n",
       "        text-align: right;\n",
       "    }\n",
       "</style>\n",
       "<table border=\"1\" class=\"dataframe\">\n",
       "  <thead>\n",
       "    <tr style=\"text-align: right;\">\n",
       "      <th></th>\n",
       "      <th>Module</th>\n",
       "      <th>Year</th>\n",
       "      <th>States</th>\n",
       "    </tr>\n",
       "  </thead>\n",
       "  <tbody>\n",
       "    <tr>\n",
       "      <th>0</th>\n",
       "      <td>BRFSS: Childhood Asthma Prevalence</td>\n",
       "      <td>2016</td>\n",
       "      <td>Arizona, California, Connecticut, Florida, Geo...</td>\n",
       "    </tr>\n",
       "    <tr>\n",
       "      <th>1</th>\n",
       "      <td>NaN</td>\n",
       "      <td>2017</td>\n",
       "      <td>California, Connecticut, District of Columbia,...</td>\n",
       "    </tr>\n",
       "    <tr>\n",
       "      <th>2</th>\n",
       "      <td>NaN</td>\n",
       "      <td>2018</td>\n",
       "      <td>California, Connecticut, District of Columbia,...</td>\n",
       "    </tr>\n",
       "    <tr>\n",
       "      <th>3</th>\n",
       "      <td>NaN</td>\n",
       "      <td>2019</td>\n",
       "      <td>California, Connecticut, District of Columbia,...</td>\n",
       "    </tr>\n",
       "    <tr>\n",
       "      <th>4</th>\n",
       "      <td>NaN</td>\n",
       "      <td>2020</td>\n",
       "      <td>California, Connecticut, District of Columbia,...</td>\n",
       "    </tr>\n",
       "  </tbody>\n",
       "</table>\n",
       "</div>"
      ],
      "text/plain": [
       "                               Module  Year  \\\n",
       "0  BRFSS: Childhood Asthma Prevalence  2016   \n",
       "1                                 NaN  2017   \n",
       "2                                 NaN  2018   \n",
       "3                                 NaN  2019   \n",
       "4                                 NaN  2020   \n",
       "\n",
       "                                              States  \n",
       "0  Arizona, California, Connecticut, Florida, Geo...  \n",
       "1  California, Connecticut, District of Columbia,...  \n",
       "2  California, Connecticut, District of Columbia,...  \n",
       "3  California, Connecticut, District of Columbia,...  \n",
       "4  California, Connecticut, District of Columbia,...  "
      ]
     },
     "execution_count": 49,
     "metadata": {},
     "output_type": "execute_result"
    }
   ],
   "source": [
    "df"
   ]
  },
  {
   "cell_type": "code",
   "execution_count": 52,
   "id": "2825d6d8",
   "metadata": {},
   "outputs": [],
   "source": [
    "com_states = []\n",
    "state_year = {}\n",
    "for index, row in df.iterrows():\n",
    "    year = row['Year']\n",
    "    states = [i.strip() for i in row['States'].strip().split(\",\")]\n",
    "    for state in states:\n",
    "        if state not in state_year:\n",
    "            state_year[state] = []\n",
    "        state_year[state].append(year)\n",
    "    com_states.append(states)"
   ]
  },
  {
   "cell_type": "code",
   "execution_count": 53,
   "id": "4264dfc3",
   "metadata": {},
   "outputs": [
    {
     "data": {
      "text/plain": [
       "{'Arizona': [2016],\n",
       " 'California': [2016, 2017, 2018, 2019, 2020],\n",
       " 'Connecticut': [2016, 2017, 2018, 2019, 2020],\n",
       " 'Florida': [2016, 2017, 2018, 2019, 2020],\n",
       " 'Georgia': [2016, 2017, 2018, 2019, 2020],\n",
       " 'Hawaii': [2016, 2017, 2018, 2019, 2020],\n",
       " 'Illinois': [2016, 2017, 2018, 2019],\n",
       " 'Indiana': [2016, 2017, 2018, 2019, 2020],\n",
       " 'Kansas': [2016, 2017, 2018, 2019, 2020],\n",
       " 'Kentucky': [2016, 2018, 2020],\n",
       " 'Maine': [2016, 2017, 2018, 2019, 2020],\n",
       " 'Michigan': [2016, 2017, 2018, 2019, 2020],\n",
       " 'Minnesota': [2016, 2017, 2018, 2019, 2020],\n",
       " 'Mississippi': [2016, 2017, 2018, 2019, 2020],\n",
       " 'Missouri': [2016, 2017, 2018, 2019, 2020],\n",
       " 'Montana': [2016, 2017, 2018, 2019, 2020],\n",
       " 'Nebraska': [2016, 2017, 2018, 2019, 2020],\n",
       " 'Nevada': [2016, 2017, 2018, 2019, 2020],\n",
       " 'New Jersey': [2016, 2017, 2018, 2020],\n",
       " 'New Mexico': [2016, 2017, 2018, 2019, 2020],\n",
       " 'Ohio': [2016, 2017, 2018, 2019, 2020],\n",
       " 'Oklahoma': [2016],\n",
       " 'Oregon': [2016, 2017, 2018, 2019],\n",
       " 'Pennsylvania': [2016, 2017, 2018, 2019, 2020],\n",
       " 'Puerto Rico': [2016, 2017, 2018, 2019, 2020],\n",
       " 'Rhode Island': [2016, 2017, 2018, 2019, 2020],\n",
       " 'Utah': [2016, 2017, 2018, 2019, 2020],\n",
       " 'Vermont': [2016, 2017, 2018, 2019, 2020],\n",
       " 'Washington': [2016],\n",
       " 'Wisconsin': [2016, 2017, 2018, 2019, 2020],\n",
       " 'Massachusetts': [2016, 2017, 2018, 2019, 2020],\n",
       " 'New York': [2016, 2017, 2018, 2019, 2020],\n",
       " 'District of Columbia': [2017, 2018, 2019, 2020],\n",
       " 'New Hampshire': [2018, 2019, 2020],\n",
       " 'Maryland': [2018],\n",
       " 'Texas': [2019, 2020],\n",
       " 'Virgin Islands': [2020]}"
      ]
     },
     "execution_count": 53,
     "metadata": {},
     "output_type": "execute_result"
    }
   ],
   "source": [
    "state_year"
   ]
  },
  {
   "cell_type": "code",
   "execution_count": 14,
   "id": "425468db",
   "metadata": {},
   "outputs": [],
   "source": [
    "common_states = set([j for i in com_states for j in i])"
   ]
  },
  {
   "cell_type": "code",
   "execution_count": 15,
   "id": "d963b352",
   "metadata": {},
   "outputs": [
    {
     "data": {
      "text/plain": [
       "37"
      ]
     },
     "execution_count": 15,
     "metadata": {},
     "output_type": "execute_result"
    }
   ],
   "source": [
    "len(common_states)"
   ]
  },
  {
   "cell_type": "code",
   "execution_count": 27,
   "id": "936ea3a2",
   "metadata": {},
   "outputs": [],
   "source": [
    "epa_region = pd.read_csv(\"data/states_and_counties.csv\")\n",
    "epa_region = epa_region[['State Name','State Code', \"EPA Region\"]]\n",
    "epa_region = epa_region[epa_region['State Code'] != 'CC']\n",
    "epa_region['State Code'] = epa_region['State Code'].apply(int)\n",
    "epa_region = epa_region.drop_duplicates(['State Code'], keep='first')\n",
    "epa_region = epa_region.replace(\"District of Columbia\", \"District Of Columbia\")"
   ]
  },
  {
   "cell_type": "code",
   "execution_count": 29,
   "id": "3c9f090f",
   "metadata": {},
   "outputs": [],
   "source": [
    "state_code_lookup = {}\n",
    "for index, row in epa_region.iterrows():\n",
    "    state_code_lookup[row['State Code']] = row['State Name']"
   ]
  },
  {
   "cell_type": "code",
   "execution_count": 37,
   "id": "cb319af6",
   "metadata": {},
   "outputs": [],
   "source": [
    "ZEV_STATE_NAMES = {state_code_lookup.get(i) for i in ZEV_STATES}\n",
    "EXCLUDE_STATE_NAMES = {state_code_lookup.get(i) for i in EXCLUDE_STATES}"
   ]
  },
  {
   "cell_type": "code",
   "execution_count": 59,
   "id": "7a76b321",
   "metadata": {},
   "outputs": [],
   "source": [
    "def join_str(int_l):\n",
    "    return \", \". join([str(i) for i in int_l])\n",
    "\n",
    "headers = [\"Presence of ZEV mandates\", \"State Name\", \"Participated in BRFSS Childhood Asthma Prevalence Module\"]\n",
    "f = open(\"{}/Supplementary_Table_ZEV_STATE_YEAR.csv\".format(OUTPUT_FILE), \"w\", newline='')\n",
    "\n",
    "temp = []\n",
    "for state in state_year:\n",
    "    if state not in EXCLUDE_STATE_NAMES:\n",
    "        if state in ZEV_STATE_NAMES:\n",
    "            row = [\"Yes\", state, join_str(state_year[state])]\n",
    "            temp.append(row)\n",
    "for state in state_year:\n",
    "    if state not in EXCLUDE_STATE_NAMES:\n",
    "        if state not in ZEV_STATE_NAMES:\n",
    "            row = [\"No\", state, join_str(state_year[state])]\n",
    "            temp.append(row) \n",
    "writer = csv.writer(f)\n",
    "writer.writerow(headers)\n",
    "for l in temp:\n",
    "    writer.writerow(l)\n",
    "f.close()"
   ]
  },
  {
   "cell_type": "code",
   "execution_count": 33,
   "id": "697d3b54",
   "metadata": {},
   "outputs": [],
   "source": [
    "zev_states_in_rcsm = common_states.intersection(ZEV_STATE_NAMES) - EXCLUDE_STATE_NAMES\n",
    "other_states_in_rcsm = common_states - zev_states_in_rcsm - EXCLUDE_STATE_NAMES"
   ]
  },
  {
   "cell_type": "code",
   "execution_count": 34,
   "id": "4e923cc2",
   "metadata": {},
   "outputs": [
    {
     "data": {
      "text/plain": [
       "{'California',\n",
       " 'Connecticut',\n",
       " 'Maine',\n",
       " 'New Jersey',\n",
       " 'Oregon',\n",
       " 'Rhode Island',\n",
       " 'Vermont'}"
      ]
     },
     "execution_count": 34,
     "metadata": {},
     "output_type": "execute_result"
    }
   ],
   "source": [
    "zev_states_in_rcsm"
   ]
  },
  {
   "cell_type": "code",
   "execution_count": 36,
   "id": "09668d92",
   "metadata": {},
   "outputs": [
    {
     "data": {
      "text/plain": [
       "{'Arizona',\n",
       " 'District of Columbia',\n",
       " 'Florida',\n",
       " 'Georgia',\n",
       " 'Hawaii',\n",
       " 'Illinois',\n",
       " 'Indiana',\n",
       " 'Kansas',\n",
       " 'Kentucky',\n",
       " 'Michigan',\n",
       " 'Minnesota',\n",
       " 'Mississippi',\n",
       " 'Missouri',\n",
       " 'Montana',\n",
       " 'Nebraska',\n",
       " 'Nevada',\n",
       " 'New Hampshire',\n",
       " 'New Mexico',\n",
       " 'North Carolina',\n",
       " 'Ohio',\n",
       " 'Oklahoma',\n",
       " 'Pennsylvania',\n",
       " 'Puerto Rico',\n",
       " 'South Carolina',\n",
       " 'South Dakota',\n",
       " 'Texas',\n",
       " 'Utah',\n",
       " 'Virgin Islands',\n",
       " 'Washington',\n",
       " 'Wisconsin'}"
      ]
     },
     "execution_count": 36,
     "metadata": {},
     "output_type": "execute_result"
    }
   ],
   "source": [
    "other_states_in_rcsm"
   ]
  },
  {
   "cell_type": "code",
   "execution_count": 61,
   "id": "30b62566",
   "metadata": {},
   "outputs": [
    {
     "name": "stdout",
     "output_type": "stream",
     "text": [
      "0\n",
      "1\n",
      "2\n",
      "3\n",
      "4\n"
     ]
    }
   ],
   "source": [
    "for index, row in df.iterrows():\n",
    "    print(index)"
   ]
  },
  {
   "cell_type": "code",
   "execution_count": 62,
   "id": "139f3595",
   "metadata": {},
   "outputs": [
    {
     "data": {
      "text/plain": [
       "(5, 3)"
      ]
     },
     "execution_count": 62,
     "metadata": {},
     "output_type": "execute_result"
    }
   ],
   "source": [
    "df.shape"
   ]
  },
  {
   "cell_type": "code",
   "execution_count": null,
   "id": "ef968f0e",
   "metadata": {},
   "outputs": [],
   "source": []
  }
 ],
 "metadata": {
  "kernelspec": {
   "display_name": "Python 3 (ipykernel)",
   "language": "python",
   "name": "python3"
  },
  "language_info": {
   "codemirror_mode": {
    "name": "ipython",
    "version": 3
   },
   "file_extension": ".py",
   "mimetype": "text/x-python",
   "name": "python",
   "nbconvert_exporter": "python",
   "pygments_lexer": "ipython3",
   "version": "3.10.4"
  }
 },
 "nbformat": 4,
 "nbformat_minor": 5
}
