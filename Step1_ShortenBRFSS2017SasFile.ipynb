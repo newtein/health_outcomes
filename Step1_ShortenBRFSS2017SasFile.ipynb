{
 "cells": [
  {
   "cell_type": "code",
   "execution_count": 1,
   "metadata": {},
   "outputs": [],
   "source": [
    "import pandas as pd"
   ]
  },
  {
   "cell_type": "code",
   "execution_count": 6,
   "metadata": {},
   "outputs": [],
   "source": [
    "pd.read_sas?"
   ]
  },
  {
   "cell_type": "code",
   "execution_count": 4,
   "metadata": {},
   "outputs": [],
   "source": [
    "filename = \"data/COPD/LLCP2017.XPT\""
   ]
  },
  {
   "cell_type": "code",
   "execution_count": 5,
   "metadata": {},
   "outputs": [
    {
     "ename": "TypeError",
     "evalue": "read_sas() got an unexpected keyword argument 'names'",
     "output_type": "error",
     "traceback": [
      "\u001b[1;31m---------------------------------------------------------------------------\u001b[0m",
      "\u001b[1;31mTypeError\u001b[0m                                 Traceback (most recent call last)",
      "\u001b[1;32m<ipython-input-5-74d374ba3438>\u001b[0m in \u001b[0;36m<module>\u001b[1;34m\u001b[0m\n\u001b[0;32m     17\u001b[0m                     \"_SMOKER3\", \"_RFSMOK3\", \"_ECIGSTS\", \"_CURECIG\", \"_PNEUMO2\"]\n\u001b[0;32m     18\u001b[0m \u001b[1;33m\u001b[0m\u001b[0m\n\u001b[1;32m---> 19\u001b[1;33m \u001b[0mdf\u001b[0m \u001b[1;33m=\u001b[0m \u001b[0mpd\u001b[0m\u001b[1;33m.\u001b[0m\u001b[0mread_sas\u001b[0m\u001b[1;33m(\u001b[0m\u001b[0mfilename\u001b[0m\u001b[1;33m,\u001b[0m \u001b[0mnames\u001b[0m \u001b[1;33m=\u001b[0m \u001b[0mmandetory_columns\u001b[0m\u001b[1;33m)\u001b[0m\u001b[1;33m\u001b[0m\u001b[1;33m\u001b[0m\u001b[0m\n\u001b[0m",
      "\u001b[1;31mTypeError\u001b[0m: read_sas() got an unexpected keyword argument 'names'"
     ]
    }
   ],
   "source": [
    "\n",
    "\n",
    "df = pd.read_sas(filename, names = mandetory_columns)"
   ]
  },
  {
   "cell_type": "code",
   "execution_count": null,
   "metadata": {},
   "outputs": [],
   "source": [
    "df.head(5)"
   ]
  },
  {
   "cell_type": "code",
   "execution_count": null,
   "metadata": {},
   "outputs": [],
   "source": [
    "\n",
    "# MEDCOST: Was there a time in the past 12 months when you needed to see a doctor but could not because of cost?\n",
    "# ASTHMA3: (Ever told) you had asthma?\n",
    "# ASTHNOW: Do you still have asthma?\n",
    "# CHCCOPD1: (Ever told) you have chronic obstructive pulmonary disease, C.O.P.D., emphysema or chronic bronchitis?\n",
    "# SDHMOVE: In the last 12 months, how many times have you moved from one home to another?\n",
    "\n",
    "mandetory_columns = [\"_STATE\", \"FMONTH\", \"IDATE\", \"IMONTH\", \"IDAY\", \"IYEAR\",\n",
    "                     \"LADULT\", \"CADULT\",\n",
    "                    \"DISPCODE\", \"NUMADULT\", \"NUMMEN\", \"NUMWOMEN\", \"CSTATE1\",\n",
    "                    \"HHADULT\", \"HLTHPLN1\", \"MEDCOST\", \"ASTHMA3\", \"ASTHNOW\",\n",
    "                    \"CHCCOPD1\", \"SEX\", \"EDUCA\", \"RENTHOM1\", \"EMPLOY1\", \"INCOME2\",\n",
    "                    \"SMOKE100\", \"SMOKDAY2\", \"STOPSMK2\", \"LASTSMK2\", \"USENOW3\",\n",
    "                    \"ECIGARET\", \"ECIGNOW\", \"COPDCOGH\", \"COPDFLEM\", \"COPDBRTH\",\n",
    "                    \"COPDBTST\", \"COPDSMOK\", \"ASTHMAGE\", \"ASATTACK\", \"ASERVIST\",\n",
    "                    \"ASDRVIST\", \"ASRCHKUP\", \"ASACTLIM\", \"ASYMPTOM\", \"ASNOSLEP\",\n",
    "                    \"ASTHMED3\", \"ASINHALR\", \"MEDICARE\", \"DELAYMED\", \"NOCOV121\",\n",
    "                    \"LSTCOVRG\", \"MEDSCOS1\", \"MEDBILL1\", \"MARIJANA\", \"USEMRJN1\",\n",
    "                    \"RSNMRJNA\", \"LCSFIRST\", \"LCSLAST\", \"LCSNUMCG\", \"LCSCTSCN\",\n",
    "                    \"SDHBILLS\", \"SDHMOVE\", \"SDHFOOD\", \"SDHMEALS\", \"SDHMONEY\",\n",
    "                    \"CASTHDX2\", \"CASTHNO2\", \"_IMPRACE\", \"_CHISPNC\", \"_CRACE1\",\n",
    "                    \"_CPRACE\", \"_HCVU651\", \"_LTASTH1\", \"_CASTHM1\", \"_ASTHMS1\",\n",
    "                    \"_PRACE1\", \"_MRACE1\", \"_RACEG21\", \"_CHLDCNT\", \"_INCOMG\", \n",
    "                    \"_SMOKER3\", \"_RFSMOK3\", \"_ECIGSTS\", \"_CURECIG\", \"_PNEUMO2\"]"
   ]
  },
  {
   "cell_type": "code",
   "execution_count": null,
   "metadata": {},
   "outputs": [],
   "source": [
    "df_ = df[mandetory_columns]"
   ]
  },
  {
   "cell_type": "code",
   "execution_count": null,
   "metadata": {},
   "outputs": [],
   "source": [
    "df_.to_csv(\"data/BRFSS_health_data_2017_selected_columns.csv\")"
   ]
  },
  {
   "cell_type": "code",
   "execution_count": null,
   "metadata": {},
   "outputs": [],
   "source": [
    "df_.head(4)"
   ]
  },
  {
   "cell_type": "code",
   "execution_count": null,
   "metadata": {},
   "outputs": [],
   "source": []
  }
 ],
 "metadata": {
  "kernelspec": {
   "display_name": "Python 3",
   "language": "python",
   "name": "python3"
  },
  "language_info": {
   "codemirror_mode": {
    "name": "ipython",
    "version": 3
   },
   "file_extension": ".py",
   "mimetype": "text/x-python",
   "name": "python",
   "nbconvert_exporter": "python",
   "pygments_lexer": "ipython3",
   "version": "3.7.9"
  }
 },
 "nbformat": 4,
 "nbformat_minor": 4
}
