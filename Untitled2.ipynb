{
 "cells": [
  {
   "cell_type": "code",
   "execution_count": 8,
   "id": "1882a5ad",
   "metadata": {},
   "outputs": [],
   "source": [
    "import pandas as pd\n",
    "from constants import *\n",
    "import matplotlib.pyplot as plt\n",
    "import numpy as np\n",
    "import seaborn as sns\n",
    "import matplotlib.gridspec as gridspec\n"
   ]
  },
  {
   "cell_type": "code",
   "execution_count": 9,
   "id": "929b66fa",
   "metadata": {},
   "outputs": [],
   "source": [
    "fname = \"data/ev_sales/total_registration.xlsx\"\n",
    "total_df = pd.read_excel(fname)"
   ]
  },
  {
   "cell_type": "code",
   "execution_count": 24,
   "id": "03d44dd3",
   "metadata": {},
   "outputs": [],
   "source": [
    "total_df['State'] = total_df['State'].apply(lambda x:x.strip())"
   ]
  },
  {
   "cell_type": "code",
   "execution_count": 12,
   "id": "c0853520",
   "metadata": {},
   "outputs": [],
   "source": [
    "fname = \"data/ev_sales/BEV-PHEV-HEV-FCEV Sales By State for 2011-2021-EVAdoption.xlsx\"\n",
    "ev_df = pd.read_excel(fname, sheet_name = '2018')"
   ]
  },
  {
   "cell_type": "code",
   "execution_count": 14,
   "id": "c2d4c35f",
   "metadata": {},
   "outputs": [],
   "source": [
    "ev_df['ev_sales'] = ev_df['2018 FCEV Sales'] + ev_df['2018 BEV Sales'] + ev_df['2018 PHEV Sales']"
   ]
  },
  {
   "cell_type": "code",
   "execution_count": 17,
   "id": "ecbd2124",
   "metadata": {},
   "outputs": [],
   "source": [
    "ev_df['State'] = ev_df['State'].replace(\"District of Columbia\", \"District Of Columbia\")"
   ]
  },
  {
   "cell_type": "code",
   "execution_count": 18,
   "id": "10c64195",
   "metadata": {},
   "outputs": [],
   "source": [
    "epa_region = pd.read_csv(\"data/states_and_counties.csv\")\n",
    "epa_region = epa_region[['State Name','State Code', \"EPA Region\"]]\n",
    "epa_region = epa_region[epa_region['State Code'] != 'CC']\n",
    "epa_region['State Code'] = epa_region['State Code'].apply(int)\n",
    "epa_region = epa_region.drop_duplicates(['State Code'], keep='first')\n",
    "mdf_ev = ev_df.merge(epa_region, left_on=\"State\", right_on=\"State Name\", how='left')"
   ]
  },
  {
   "cell_type": "code",
   "execution_count": 31,
   "id": "760ddd22",
   "metadata": {},
   "outputs": [],
   "source": [
    "mdf_total = total_df.merge(epa_region, left_on=\"State\", right_on=\"State Name\", how='left')"
   ]
  },
  {
   "cell_type": "code",
   "execution_count": 32,
   "id": "2bc6333e",
   "metadata": {},
   "outputs": [],
   "source": [
    "mdf_total = mdf_total.drop(['State', 'EPA Region', 'State Name'], axis = 1)"
   ]
  },
  {
   "cell_type": "code",
   "execution_count": 33,
   "id": "0f6048c7",
   "metadata": {},
   "outputs": [],
   "source": [
    "mdf = mdf_total.merge(mdf_ev, on= 'State Code')"
   ]
  },
  {
   "cell_type": "code",
   "execution_count": 35,
   "id": "5a173760",
   "metadata": {},
   "outputs": [],
   "source": [
    "mdf['market_share'] = (mdf['ev_sales'] * 100)/mdf['Total']"
   ]
  },
  {
   "cell_type": "code",
   "execution_count": 37,
   "id": "d9319663",
   "metadata": {},
   "outputs": [],
   "source": [
    "mdf = mdf[~mdf['State Code'].isin(EXCLUDE_STATES)]\n",
    "mdf_carb = mdf[mdf['State Code'].isin(ZEV_STATES)]\n",
    "mdf_noncarb = mdf[~mdf['State Code'].isin(ZEV_STATES)]\n",
    "mdf_noncarb = mdf_noncarb[mdf_noncarb['State']!='Total US']"
   ]
  },
  {
   "cell_type": "code",
   "execution_count": 41,
   "id": "32f48108",
   "metadata": {},
   "outputs": [
    {
     "data": {
      "text/plain": [
       "0.6882551061089176"
      ]
     },
     "execution_count": 41,
     "metadata": {},
     "output_type": "execute_result"
    }
   ],
   "source": [
    "(mdf_carb['ev_sales'].sum()*100)/mdf_carb['Total'].sum()"
   ]
  },
  {
   "cell_type": "code",
   "execution_count": 42,
   "id": "bbcb040b",
   "metadata": {},
   "outputs": [
    {
     "data": {
      "text/plain": [
       "0.13059940331225783"
      ]
     },
     "execution_count": 42,
     "metadata": {},
     "output_type": "execute_result"
    }
   ],
   "source": [
    "(mdf_noncarb['ev_sales'].sum()*100)/mdf_noncarb['Total'].sum()"
   ]
  },
  {
   "cell_type": "code",
   "execution_count": 39,
   "id": "3ac8a514",
   "metadata": {},
   "outputs": [
    {
     "data": {
      "text/plain": [
       "3.8809737360970367"
      ]
     },
     "execution_count": 39,
     "metadata": {},
     "output_type": "execute_result"
    }
   ],
   "source": [
    "mdf_carb['market_share'].sum()"
   ]
  },
  {
   "cell_type": "code",
   "execution_count": 40,
   "id": "3de7eb32",
   "metadata": {},
   "outputs": [
    {
     "data": {
      "text/html": [
       "<div>\n",
       "<style scoped>\n",
       "    .dataframe tbody tr th:only-of-type {\n",
       "        vertical-align: middle;\n",
       "    }\n",
       "\n",
       "    .dataframe tbody tr th {\n",
       "        vertical-align: top;\n",
       "    }\n",
       "\n",
       "    .dataframe thead th {\n",
       "        text-align: right;\n",
       "    }\n",
       "</style>\n",
       "<table border=\"1\" class=\"dataframe\">\n",
       "  <thead>\n",
       "    <tr style=\"text-align: right;\">\n",
       "      <th></th>\n",
       "      <th>Total</th>\n",
       "      <th>State Code</th>\n",
       "      <th>State</th>\n",
       "      <th>2018 FCEV Sales</th>\n",
       "      <th>2018 FCEV Market Share</th>\n",
       "      <th>2018 BEV Sales</th>\n",
       "      <th>2018 BEV Market Share</th>\n",
       "      <th>2018 PHEV Sales</th>\n",
       "      <th>2018 PHEV Market Share</th>\n",
       "      <th>2018 HEV Sales</th>\n",
       "      <th>2018 HEV Market Share</th>\n",
       "      <th>ev_sales</th>\n",
       "      <th>State Name</th>\n",
       "      <th>EPA Region</th>\n",
       "      <th>market_share</th>\n",
       "    </tr>\n",
       "  </thead>\n",
       "  <tbody>\n",
       "    <tr>\n",
       "      <th>4</th>\n",
       "      <td>14820833</td>\n",
       "      <td>6</td>\n",
       "      <td>California</td>\n",
       "      <td>1729</td>\n",
       "      <td>0.0009</td>\n",
       "      <td>91171</td>\n",
       "      <td>0.0466</td>\n",
       "      <td>62271</td>\n",
       "      <td>0.0318</td>\n",
       "      <td>77198</td>\n",
       "      <td>0.0394</td>\n",
       "      <td>155171</td>\n",
       "      <td>California</td>\n",
       "      <td>9.0</td>\n",
       "      <td>1.046979</td>\n",
       "    </tr>\n",
       "    <tr>\n",
       "      <th>6</th>\n",
       "      <td>1305544</td>\n",
       "      <td>9</td>\n",
       "      <td>Connecticut</td>\n",
       "      <td>0</td>\n",
       "      <td>0.0000</td>\n",
       "      <td>1844</td>\n",
       "      <td>0.0109</td>\n",
       "      <td>1571</td>\n",
       "      <td>0.0093</td>\n",
       "      <td>2933</td>\n",
       "      <td>0.0174</td>\n",
       "      <td>3415</td>\n",
       "      <td>Connecticut</td>\n",
       "      <td>1.0</td>\n",
       "      <td>0.261577</td>\n",
       "    </tr>\n",
       "    <tr>\n",
       "      <th>19</th>\n",
       "      <td>386449</td>\n",
       "      <td>23</td>\n",
       "      <td>Maine</td>\n",
       "      <td>0</td>\n",
       "      <td>0.0000</td>\n",
       "      <td>254</td>\n",
       "      <td>0.0036</td>\n",
       "      <td>545</td>\n",
       "      <td>0.0077</td>\n",
       "      <td>1311</td>\n",
       "      <td>1.8600</td>\n",
       "      <td>799</td>\n",
       "      <td>Maine</td>\n",
       "      <td>1.0</td>\n",
       "      <td>0.206754</td>\n",
       "    </tr>\n",
       "    <tr>\n",
       "      <th>20</th>\n",
       "      <td>1893626</td>\n",
       "      <td>24</td>\n",
       "      <td>Maryland</td>\n",
       "      <td>0</td>\n",
       "      <td>0.0000</td>\n",
       "      <td>3815</td>\n",
       "      <td>0.0116</td>\n",
       "      <td>2484</td>\n",
       "      <td>0.0075</td>\n",
       "      <td>7826</td>\n",
       "      <td>0.0238</td>\n",
       "      <td>6299</td>\n",
       "      <td>Maryland</td>\n",
       "      <td>3.0</td>\n",
       "      <td>0.332642</td>\n",
       "    </tr>\n",
       "    <tr>\n",
       "      <th>21</th>\n",
       "      <td>2178472</td>\n",
       "      <td>25</td>\n",
       "      <td>Massachusetts</td>\n",
       "      <td>0</td>\n",
       "      <td>0.0000</td>\n",
       "      <td>4959</td>\n",
       "      <td>0.0139</td>\n",
       "      <td>4031</td>\n",
       "      <td>0.0113</td>\n",
       "      <td>7022</td>\n",
       "      <td>0.0197</td>\n",
       "      <td>8990</td>\n",
       "      <td>Massachusetts</td>\n",
       "      <td>1.0</td>\n",
       "      <td>0.412675</td>\n",
       "    </tr>\n",
       "    <tr>\n",
       "      <th>30</th>\n",
       "      <td>2730210</td>\n",
       "      <td>34</td>\n",
       "      <td>New Jersey</td>\n",
       "      <td>0</td>\n",
       "      <td>0.0000</td>\n",
       "      <td>5651</td>\n",
       "      <td>0.0097</td>\n",
       "      <td>3579</td>\n",
       "      <td>0.0062</td>\n",
       "      <td>7556</td>\n",
       "      <td>0.0130</td>\n",
       "      <td>9230</td>\n",
       "      <td>New Jersey</td>\n",
       "      <td>2.0</td>\n",
       "      <td>0.338069</td>\n",
       "    </tr>\n",
       "    <tr>\n",
       "      <th>32</th>\n",
       "      <td>4690752</td>\n",
       "      <td>36</td>\n",
       "      <td>New York</td>\n",
       "      <td>2</td>\n",
       "      <td>0.0000</td>\n",
       "      <td>6903</td>\n",
       "      <td>0.0068</td>\n",
       "      <td>8849</td>\n",
       "      <td>0.0088</td>\n",
       "      <td>14406</td>\n",
       "      <td>0.0143</td>\n",
       "      <td>15754</td>\n",
       "      <td>New York</td>\n",
       "      <td>2.0</td>\n",
       "      <td>0.335852</td>\n",
       "    </tr>\n",
       "    <tr>\n",
       "      <th>37</th>\n",
       "      <td>1462295</td>\n",
       "      <td>41</td>\n",
       "      <td>Oregon</td>\n",
       "      <td>0</td>\n",
       "      <td>0.0000</td>\n",
       "      <td>3600</td>\n",
       "      <td>0.0205</td>\n",
       "      <td>2376</td>\n",
       "      <td>0.0135</td>\n",
       "      <td>6276</td>\n",
       "      <td>0.0358</td>\n",
       "      <td>5976</td>\n",
       "      <td>Oregon</td>\n",
       "      <td>10.0</td>\n",
       "      <td>0.408673</td>\n",
       "    </tr>\n",
       "    <tr>\n",
       "      <th>39</th>\n",
       "      <td>404987</td>\n",
       "      <td>44</td>\n",
       "      <td>Rhode Island</td>\n",
       "      <td>0</td>\n",
       "      <td>0.0000</td>\n",
       "      <td>276</td>\n",
       "      <td>0.0056</td>\n",
       "      <td>343</td>\n",
       "      <td>0.0070</td>\n",
       "      <td>759</td>\n",
       "      <td>0.0154</td>\n",
       "      <td>619</td>\n",
       "      <td>Rhode Island</td>\n",
       "      <td>1.0</td>\n",
       "      <td>0.152844</td>\n",
       "    </tr>\n",
       "    <tr>\n",
       "      <th>45</th>\n",
       "      <td>214077</td>\n",
       "      <td>50</td>\n",
       "      <td>Vermont</td>\n",
       "      <td>0</td>\n",
       "      <td>0.0000</td>\n",
       "      <td>355</td>\n",
       "      <td>0.0083</td>\n",
       "      <td>469</td>\n",
       "      <td>0.0109</td>\n",
       "      <td>876</td>\n",
       "      <td>0.0204</td>\n",
       "      <td>824</td>\n",
       "      <td>Vermont</td>\n",
       "      <td>1.0</td>\n",
       "      <td>0.384908</td>\n",
       "    </tr>\n",
       "  </tbody>\n",
       "</table>\n",
       "</div>"
      ],
      "text/plain": [
       "       Total  State Code          State  2018 FCEV Sales  \\\n",
       "4   14820833           6     California             1729   \n",
       "6    1305544           9    Connecticut                0   \n",
       "19    386449          23          Maine                0   \n",
       "20   1893626          24       Maryland                0   \n",
       "21   2178472          25  Massachusetts                0   \n",
       "30   2730210          34     New Jersey                0   \n",
       "32   4690752          36       New York                2   \n",
       "37   1462295          41         Oregon                0   \n",
       "39    404987          44   Rhode Island                0   \n",
       "45    214077          50        Vermont                0   \n",
       "\n",
       "    2018 FCEV Market Share  2018 BEV Sales  2018 BEV Market Share  \\\n",
       "4                   0.0009           91171                 0.0466   \n",
       "6                   0.0000            1844                 0.0109   \n",
       "19                  0.0000             254                 0.0036   \n",
       "20                  0.0000            3815                 0.0116   \n",
       "21                  0.0000            4959                 0.0139   \n",
       "30                  0.0000            5651                 0.0097   \n",
       "32                  0.0000            6903                 0.0068   \n",
       "37                  0.0000            3600                 0.0205   \n",
       "39                  0.0000             276                 0.0056   \n",
       "45                  0.0000             355                 0.0083   \n",
       "\n",
       "    2018 PHEV Sales  2018 PHEV Market Share  2018 HEV Sales  \\\n",
       "4             62271                  0.0318           77198   \n",
       "6              1571                  0.0093            2933   \n",
       "19              545                  0.0077            1311   \n",
       "20             2484                  0.0075            7826   \n",
       "21             4031                  0.0113            7022   \n",
       "30             3579                  0.0062            7556   \n",
       "32             8849                  0.0088           14406   \n",
       "37             2376                  0.0135            6276   \n",
       "39              343                  0.0070             759   \n",
       "45              469                  0.0109             876   \n",
       "\n",
       "    2018 HEV Market Share  ev_sales     State Name  EPA Region  market_share  \n",
       "4                  0.0394    155171     California         9.0      1.046979  \n",
       "6                  0.0174      3415    Connecticut         1.0      0.261577  \n",
       "19                 1.8600       799          Maine         1.0      0.206754  \n",
       "20                 0.0238      6299       Maryland         3.0      0.332642  \n",
       "21                 0.0197      8990  Massachusetts         1.0      0.412675  \n",
       "30                 0.0130      9230     New Jersey         2.0      0.338069  \n",
       "32                 0.0143     15754       New York         2.0      0.335852  \n",
       "37                 0.0358      5976         Oregon        10.0      0.408673  \n",
       "39                 0.0154       619   Rhode Island         1.0      0.152844  \n",
       "45                 0.0204       824        Vermont         1.0      0.384908  "
      ]
     },
     "execution_count": 40,
     "metadata": {},
     "output_type": "execute_result"
    }
   ],
   "source": [
    "mdf_carb"
   ]
  },
  {
   "cell_type": "code",
   "execution_count": null,
   "id": "34fce81f",
   "metadata": {},
   "outputs": [],
   "source": []
  }
 ],
 "metadata": {
  "kernelspec": {
   "display_name": "Python 3 (ipykernel)",
   "language": "python",
   "name": "python3"
  },
  "language_info": {
   "codemirror_mode": {
    "name": "ipython",
    "version": 3
   },
   "file_extension": ".py",
   "mimetype": "text/x-python",
   "name": "python",
   "nbconvert_exporter": "python",
   "pygments_lexer": "ipython3",
   "version": "3.10.4"
  }
 },
 "nbformat": 4,
 "nbformat_minor": 5
}
