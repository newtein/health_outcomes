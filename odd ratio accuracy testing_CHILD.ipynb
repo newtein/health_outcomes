{
 "cells": [
  {
   "cell_type": "code",
   "execution_count": 1,
   "metadata": {},
   "outputs": [],
   "source": [
    "from prepare_data_for_modeling_child_or import ModelingData\n",
    "import statsmodels.api as sm\n",
    "from constants import *\n",
    "import numpy as np\n",
    "from sklearn.metrics import accuracy_score\n"
   ]
  },
  {
   "cell_type": "code",
   "execution_count": 2,
   "metadata": {},
   "outputs": [
    {
     "name": "stdout",
     "output_type": "stream",
     "text": [
      "data/BRFSS/2016/LLCP2016.XPT\n",
      "data/BRFSS/2017/LLCP2017.XPT\n",
      "data/BRFSS/2018/LLCP2018.XPT\n"
     ]
    }
   ],
   "source": [
    "obj = ModelingData()"
   ]
  },
  {
   "cell_type": "code",
   "execution_count": 4,
   "metadata": {},
   "outputs": [],
   "source": [
    "mdf = obj.get_data_with_epa_region()"
   ]
  },
  {
   "cell_type": "code",
   "execution_count": 5,
   "metadata": {},
   "outputs": [
    {
     "data": {
      "text/plain": [
       "3908017450.0"
      ]
     },
     "execution_count": 5,
     "metadata": {},
     "output_type": "execute_result"
    }
   ],
   "source": [
    "mdf['POVERTY_GUIDE'].sum()"
   ]
  },
  {
   "cell_type": "code",
   "execution_count": 6,
   "metadata": {},
   "outputs": [],
   "source": [
    "def fit_logistic(X, y):\n",
    "    res = sm.Logit(y, X).fit()\n",
    "    params = res.params\n",
    "    conf = res.conf_int()\n",
    "    conf['Odds Ratio'] = params\n",
    "    conf.columns = ['5%', '95%', 'Odds Ratio']\n",
    "    prediction = res.predict(X).apply(lambda x: 0 if x<0.5 else 1).tolist()\n",
    "    print(\"Accuracy: \", accuracy_score(y,prediction))\n",
    "    print(np.exp(conf))\n",
    "    return conf, res"
   ]
  },
  {
   "cell_type": "code",
   "execution_count": 28,
   "metadata": {},
   "outputs": [],
   "source": [
    "sc = MODELING_COLUMNS_FOR_CHILD + ['CHILDREN']"
   ]
  },
  {
   "cell_type": "code",
   "execution_count": 29,
   "metadata": {},
   "outputs": [],
   "source": [
    "df = mdf[sc]"
   ]
  },
  {
   "cell_type": "code",
   "execution_count": 30,
   "metadata": {},
   "outputs": [
    {
     "data": {
      "text/html": [
       "<div>\n",
       "<style scoped>\n",
       "    .dataframe tbody tr th:only-of-type {\n",
       "        vertical-align: middle;\n",
       "    }\n",
       "\n",
       "    .dataframe tbody tr th {\n",
       "        vertical-align: top;\n",
       "    }\n",
       "\n",
       "    .dataframe thead th {\n",
       "        text-align: right;\n",
       "    }\n",
       "</style>\n",
       "<table border=\"1\" class=\"dataframe\">\n",
       "  <thead>\n",
       "    <tr style=\"text-align: right;\">\n",
       "      <th></th>\n",
       "      <th>TAILPIPE</th>\n",
       "      <th>RCSGENDR</th>\n",
       "      <th>_CPRACE</th>\n",
       "      <th>POVERTY</th>\n",
       "      <th>POPEST2017_CIV</th>\n",
       "      <th>ASTHMA</th>\n",
       "      <th>CHILDREN</th>\n",
       "    </tr>\n",
       "  </thead>\n",
       "  <tbody>\n",
       "    <tr>\n",
       "      <th>0</th>\n",
       "      <td>0</td>\n",
       "      <td>2.0</td>\n",
       "      <td>1.0</td>\n",
       "      <td>0.0</td>\n",
       "      <td>0.093197</td>\n",
       "      <td>0</td>\n",
       "      <td>1.0</td>\n",
       "    </tr>\n",
       "    <tr>\n",
       "      <th>1</th>\n",
       "      <td>0</td>\n",
       "      <td>1.0</td>\n",
       "      <td>4.0</td>\n",
       "      <td>0.0</td>\n",
       "      <td>0.093197</td>\n",
       "      <td>0</td>\n",
       "      <td>1.0</td>\n",
       "    </tr>\n",
       "    <tr>\n",
       "      <th>2</th>\n",
       "      <td>0</td>\n",
       "      <td>2.0</td>\n",
       "      <td>1.0</td>\n",
       "      <td>0.0</td>\n",
       "      <td>0.093197</td>\n",
       "      <td>0</td>\n",
       "      <td>1.0</td>\n",
       "    </tr>\n",
       "    <tr>\n",
       "      <th>3</th>\n",
       "      <td>0</td>\n",
       "      <td>2.0</td>\n",
       "      <td>1.0</td>\n",
       "      <td>0.0</td>\n",
       "      <td>0.093197</td>\n",
       "      <td>1</td>\n",
       "      <td>1.0</td>\n",
       "    </tr>\n",
       "    <tr>\n",
       "      <th>4</th>\n",
       "      <td>0</td>\n",
       "      <td>2.0</td>\n",
       "      <td>1.0</td>\n",
       "      <td>1.0</td>\n",
       "      <td>0.093197</td>\n",
       "      <td>0</td>\n",
       "      <td>2.0</td>\n",
       "    </tr>\n",
       "    <tr>\n",
       "      <th>...</th>\n",
       "      <td>...</td>\n",
       "      <td>...</td>\n",
       "      <td>...</td>\n",
       "      <td>...</td>\n",
       "      <td>...</td>\n",
       "      <td>...</td>\n",
       "      <td>...</td>\n",
       "    </tr>\n",
       "    <tr>\n",
       "      <th>164566</th>\n",
       "      <td>0</td>\n",
       "      <td>2.0</td>\n",
       "      <td>1.0</td>\n",
       "      <td>1.0</td>\n",
       "      <td>NaN</td>\n",
       "      <td>0</td>\n",
       "      <td>2.0</td>\n",
       "    </tr>\n",
       "    <tr>\n",
       "      <th>164567</th>\n",
       "      <td>0</td>\n",
       "      <td>2.0</td>\n",
       "      <td>6.0</td>\n",
       "      <td>1.0</td>\n",
       "      <td>NaN</td>\n",
       "      <td>0</td>\n",
       "      <td>1.0</td>\n",
       "    </tr>\n",
       "    <tr>\n",
       "      <th>164568</th>\n",
       "      <td>0</td>\n",
       "      <td>1.0</td>\n",
       "      <td>1.0</td>\n",
       "      <td>1.0</td>\n",
       "      <td>NaN</td>\n",
       "      <td>0</td>\n",
       "      <td>1.0</td>\n",
       "    </tr>\n",
       "    <tr>\n",
       "      <th>164569</th>\n",
       "      <td>0</td>\n",
       "      <td>2.0</td>\n",
       "      <td>6.0</td>\n",
       "      <td>0.0</td>\n",
       "      <td>NaN</td>\n",
       "      <td>1</td>\n",
       "      <td>2.0</td>\n",
       "    </tr>\n",
       "    <tr>\n",
       "      <th>164570</th>\n",
       "      <td>0</td>\n",
       "      <td>2.0</td>\n",
       "      <td>1.0</td>\n",
       "      <td>0.0</td>\n",
       "      <td>NaN</td>\n",
       "      <td>0</td>\n",
       "      <td>2.0</td>\n",
       "    </tr>\n",
       "  </tbody>\n",
       "</table>\n",
       "<p>164571 rows × 7 columns</p>\n",
       "</div>"
      ],
      "text/plain": [
       "        TAILPIPE  RCSGENDR  _CPRACE  POVERTY  POPEST2017_CIV  ASTHMA  CHILDREN\n",
       "0              0       2.0      1.0      0.0        0.093197       0       1.0\n",
       "1              0       1.0      4.0      0.0        0.093197       0       1.0\n",
       "2              0       2.0      1.0      0.0        0.093197       0       1.0\n",
       "3              0       2.0      1.0      0.0        0.093197       1       1.0\n",
       "4              0       2.0      1.0      1.0        0.093197       0       2.0\n",
       "...          ...       ...      ...      ...             ...     ...       ...\n",
       "164566         0       2.0      1.0      1.0             NaN       0       2.0\n",
       "164567         0       2.0      6.0      1.0             NaN       0       1.0\n",
       "164568         0       1.0      1.0      1.0             NaN       0       1.0\n",
       "164569         0       2.0      6.0      0.0             NaN       1       2.0\n",
       "164570         0       2.0      1.0      0.0             NaN       0       2.0\n",
       "\n",
       "[164571 rows x 7 columns]"
      ]
     },
     "execution_count": 30,
     "metadata": {},
     "output_type": "execute_result"
    }
   ],
   "source": [
    "df"
   ]
  },
  {
   "cell_type": "code",
   "execution_count": 31,
   "metadata": {},
   "outputs": [
    {
     "name": "stdout",
     "output_type": "stream",
     "text": [
      "_CPRACE\n",
      "POVERTY\n",
      "POPEST2017_CIV\n"
     ]
    },
    {
     "name": "stderr",
     "output_type": "stream",
     "text": [
      "c:\\users\\administrator\\appdata\\local\\programs\\python\\python37\\lib\\site-packages\\ipykernel_launcher.py:5: SettingWithCopyWarning: \n",
      "A value is trying to be set on a copy of a slice from a DataFrame.\n",
      "Try using .loc[row_indexer,col_indexer] = value instead\n",
      "\n",
      "See the caveats in the documentation: https://pandas.pydata.org/pandas-docs/stable/user_guide/indexing.html#returning-a-view-versus-a-copy\n",
      "  \"\"\"\n"
     ]
    }
   ],
   "source": [
    "# keeping the same method for fillna\n",
    "for column in df.columns:\n",
    "    if df[column].isna().mean() > 0:\n",
    "        print(column)\n",
    "        df[column] = df[column].fillna(df[column].mode()[0])"
   ]
  },
  {
   "cell_type": "code",
   "execution_count": 32,
   "metadata": {},
   "outputs": [
    {
     "name": "stdout",
     "output_type": "stream",
     "text": [
      "Optimization terminated successfully.\n",
      "         Current function value: 0.293155\n",
      "         Iterations 7\n",
      "Accuracy:  0.9198886802656604\n",
      "                      5%       95%  Odds Ratio\n",
      "TAILPIPE        0.789237  0.860767    0.824226\n",
      "RCSGENDR        0.354920  0.371723    0.363224\n",
      "_CPRACE         0.996114  0.998875    0.997493\n",
      "POVERTY         1.380226  1.513174    1.445172\n",
      "POPEST2017_CIV  0.943405  0.971617    0.957407\n",
      "CHILDREN        0.611330  0.632682    0.621914\n"
     ]
    }
   ],
   "source": [
    "# A: just adding poverty/no income\n",
    "X = df.drop(['ASTHMA'], axis=1)\n",
    "y = df['ASTHMA']\n",
    "conf, res = fit_logistic(X, y)"
   ]
  },
  {
   "cell_type": "code",
   "execution_count": 33,
   "metadata": {},
   "outputs": [],
   "source": [
    "df2 = mdf[sc]"
   ]
  },
  {
   "cell_type": "code",
   "execution_count": 34,
   "metadata": {},
   "outputs": [
    {
     "data": {
      "text/plain": [
       "TAILPIPE          0.000000\n",
       "RCSGENDR          0.000000\n",
       "_CPRACE           0.000036\n",
       "POVERTY           0.095266\n",
       "POPEST2017_CIV    0.020556\n",
       "ASTHMA            0.000000\n",
       "CHILDREN          0.000000\n",
       "dtype: float64"
      ]
     },
     "execution_count": 34,
     "metadata": {},
     "output_type": "execute_result"
    }
   ],
   "source": [
    "df2.isna().mean()"
   ]
  },
  {
   "cell_type": "code",
   "execution_count": 35,
   "metadata": {},
   "outputs": [],
   "source": [
    "df2 = df2.dropna()"
   ]
  },
  {
   "cell_type": "code",
   "execution_count": 36,
   "metadata": {},
   "outputs": [
    {
     "name": "stdout",
     "output_type": "stream",
     "text": [
      "Optimization terminated successfully.\n",
      "         Current function value: 0.290425\n",
      "         Iterations 7\n",
      "Accuracy:  0.9207108540254543\n",
      "                      5%       95%  Odds Ratio\n",
      "TAILPIPE        0.805682  0.883144    0.843524\n",
      "RCSGENDR        0.342038  0.359447    0.350634\n",
      "_CPRACE         0.996224  0.999327    0.997774\n",
      "POVERTY         1.340882  1.478165    1.407851\n",
      "POPEST2017_CIV  0.933245  0.963877    0.948438\n",
      "CHILDREN        0.621489  0.644404    0.632843\n"
     ]
    }
   ],
   "source": [
    "# C: [dropping na]just adding poverty\n",
    "X = df2.drop(['ASTHMA'], axis=1)\n",
    "y = df2['ASTHMA']\n",
    "conf, res = fit_logistic(X, y)"
   ]
  },
  {
   "cell_type": "code",
   "execution_count": null,
   "metadata": {},
   "outputs": [],
   "source": []
  },
  {
   "cell_type": "code",
   "execution_count": null,
   "metadata": {},
   "outputs": [],
   "source": []
  },
  {
   "cell_type": "code",
   "execution_count": null,
   "metadata": {},
   "outputs": [],
   "source": []
  }
 ],
 "metadata": {
  "kernelspec": {
   "display_name": "Python 3",
   "language": "python",
   "name": "python3"
  },
  "language_info": {
   "codemirror_mode": {
    "name": "ipython",
    "version": 3
   },
   "file_extension": ".py",
   "mimetype": "text/x-python",
   "name": "python",
   "nbconvert_exporter": "python",
   "pygments_lexer": "ipython3",
   "version": "3.7.9"
  }
 },
 "nbformat": 4,
 "nbformat_minor": 4
}
