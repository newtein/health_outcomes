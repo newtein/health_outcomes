{
 "cells": [
  {
   "cell_type": "code",
   "execution_count": 3,
   "id": "10be7478",
   "metadata": {},
   "outputs": [],
   "source": [
    "import pandas as pd\n",
    "from AF_calculations.read_county_population import ReadCountyCensus\n",
    "from constants import ZEV_STATES\n",
    "import csv"
   ]
  },
  {
   "cell_type": "code",
   "execution_count": 10,
   "id": "c000266d",
   "metadata": {},
   "outputs": [
    {
     "name": "stdout",
     "output_type": "stream",
     "text": [
      "data/CENSUS/state_data/cc-est2019-agesex-01.csv\n",
      "data/CENSUS/state_data/cc-est2019-agesex-02.csv\n",
      "data/CENSUS/state_data/cc-est2019-agesex-04.csv\n",
      "data/CENSUS/state_data/cc-est2019-agesex-05.csv\n"
     ]
    },
    {
     "name": "stderr",
     "output_type": "stream",
     "text": [
      "C:\\Users\\harsh\\OneDrive - University of Toronto\\Projects\\Environmental Discrimination\\AF_calculations\\read_county_population.py:62: FutureWarning: The frame.append method is deprecated and will be removed from pandas in a future version. Use pandas.concat instead.\n",
      "  df = df.append(tdf)\n",
      "C:\\Users\\harsh\\OneDrive - University of Toronto\\Projects\\Environmental Discrimination\\AF_calculations\\read_county_population.py:62: FutureWarning: The frame.append method is deprecated and will be removed from pandas in a future version. Use pandas.concat instead.\n",
      "  df = df.append(tdf)\n",
      "C:\\Users\\harsh\\OneDrive - University of Toronto\\Projects\\Environmental Discrimination\\AF_calculations\\read_county_population.py:62: FutureWarning: The frame.append method is deprecated and will be removed from pandas in a future version. Use pandas.concat instead.\n",
      "  df = df.append(tdf)\n",
      "C:\\Users\\harsh\\OneDrive - University of Toronto\\Projects\\Environmental Discrimination\\AF_calculations\\read_county_population.py:62: FutureWarning: The frame.append method is deprecated and will be removed from pandas in a future version. Use pandas.concat instead.\n",
      "  df = df.append(tdf)\n"
     ]
    },
    {
     "name": "stdout",
     "output_type": "stream",
     "text": [
      "data/CENSUS/state_data/cc-est2019-agesex-06.csv\n",
      "data/CENSUS/state_data/cc-est2019-agesex-08.csv\n",
      "data/CENSUS/state_data/cc-est2019-agesex-09.csv\n",
      "data/CENSUS/state_data/cc-est2019-agesex-10.csv\n",
      "data/CENSUS/state_data/cc-est2019-agesex-11.csv\n",
      "data/CENSUS/state_data/cc-est2019-agesex-12.csv\n"
     ]
    },
    {
     "name": "stderr",
     "output_type": "stream",
     "text": [
      "C:\\Users\\harsh\\OneDrive - University of Toronto\\Projects\\Environmental Discrimination\\AF_calculations\\read_county_population.py:62: FutureWarning: The frame.append method is deprecated and will be removed from pandas in a future version. Use pandas.concat instead.\n",
      "  df = df.append(tdf)\n",
      "C:\\Users\\harsh\\OneDrive - University of Toronto\\Projects\\Environmental Discrimination\\AF_calculations\\read_county_population.py:62: FutureWarning: The frame.append method is deprecated and will be removed from pandas in a future version. Use pandas.concat instead.\n",
      "  df = df.append(tdf)\n",
      "C:\\Users\\harsh\\OneDrive - University of Toronto\\Projects\\Environmental Discrimination\\AF_calculations\\read_county_population.py:62: FutureWarning: The frame.append method is deprecated and will be removed from pandas in a future version. Use pandas.concat instead.\n",
      "  df = df.append(tdf)\n",
      "C:\\Users\\harsh\\OneDrive - University of Toronto\\Projects\\Environmental Discrimination\\AF_calculations\\read_county_population.py:62: FutureWarning: The frame.append method is deprecated and will be removed from pandas in a future version. Use pandas.concat instead.\n",
      "  df = df.append(tdf)\n",
      "C:\\Users\\harsh\\OneDrive - University of Toronto\\Projects\\Environmental Discrimination\\AF_calculations\\read_county_population.py:62: FutureWarning: The frame.append method is deprecated and will be removed from pandas in a future version. Use pandas.concat instead.\n",
      "  df = df.append(tdf)\n",
      "C:\\Users\\harsh\\OneDrive - University of Toronto\\Projects\\Environmental Discrimination\\AF_calculations\\read_county_population.py:62: FutureWarning: The frame.append method is deprecated and will be removed from pandas in a future version. Use pandas.concat instead.\n",
      "  df = df.append(tdf)\n"
     ]
    },
    {
     "name": "stdout",
     "output_type": "stream",
     "text": [
      "data/CENSUS/state_data/cc-est2019-agesex-13.csv\n"
     ]
    },
    {
     "name": "stderr",
     "output_type": "stream",
     "text": [
      "C:\\Users\\harsh\\OneDrive - University of Toronto\\Projects\\Environmental Discrimination\\AF_calculations\\read_county_population.py:62: FutureWarning: The frame.append method is deprecated and will be removed from pandas in a future version. Use pandas.concat instead.\n",
      "  df = df.append(tdf)\n",
      "C:\\Users\\harsh\\OneDrive - University of Toronto\\Projects\\Environmental Discrimination\\AF_calculations\\read_county_population.py:62: FutureWarning: The frame.append method is deprecated and will be removed from pandas in a future version. Use pandas.concat instead.\n",
      "  df = df.append(tdf)\n",
      "C:\\Users\\harsh\\OneDrive - University of Toronto\\Projects\\Environmental Discrimination\\AF_calculations\\read_county_population.py:62: FutureWarning: The frame.append method is deprecated and will be removed from pandas in a future version. Use pandas.concat instead.\n",
      "  df = df.append(tdf)\n",
      "C:\\Users\\harsh\\OneDrive - University of Toronto\\Projects\\Environmental Discrimination\\AF_calculations\\read_county_population.py:62: FutureWarning: The frame.append method is deprecated and will be removed from pandas in a future version. Use pandas.concat instead.\n",
      "  df = df.append(tdf)\n"
     ]
    },
    {
     "name": "stdout",
     "output_type": "stream",
     "text": [
      "data/CENSUS/state_data/cc-est2019-agesex-15.csv\n",
      "data/CENSUS/state_data/cc-est2019-agesex-16.csv\n",
      "data/CENSUS/state_data/cc-est2019-agesex-17.csv\n",
      "data/CENSUS/state_data/cc-est2019-agesex-18.csv\n"
     ]
    },
    {
     "name": "stderr",
     "output_type": "stream",
     "text": [
      "C:\\Users\\harsh\\OneDrive - University of Toronto\\Projects\\Environmental Discrimination\\AF_calculations\\read_county_population.py:62: FutureWarning: The frame.append method is deprecated and will be removed from pandas in a future version. Use pandas.concat instead.\n",
      "  df = df.append(tdf)\n",
      "C:\\Users\\harsh\\OneDrive - University of Toronto\\Projects\\Environmental Discrimination\\AF_calculations\\read_county_population.py:62: FutureWarning: The frame.append method is deprecated and will be removed from pandas in a future version. Use pandas.concat instead.\n",
      "  df = df.append(tdf)\n"
     ]
    },
    {
     "name": "stdout",
     "output_type": "stream",
     "text": [
      "data/CENSUS/state_data/cc-est2019-agesex-19.csv\n",
      "data/CENSUS/state_data/cc-est2019-agesex-20.csv\n"
     ]
    },
    {
     "name": "stderr",
     "output_type": "stream",
     "text": [
      "C:\\Users\\harsh\\OneDrive - University of Toronto\\Projects\\Environmental Discrimination\\AF_calculations\\read_county_population.py:62: FutureWarning: The frame.append method is deprecated and will be removed from pandas in a future version. Use pandas.concat instead.\n",
      "  df = df.append(tdf)\n",
      "C:\\Users\\harsh\\OneDrive - University of Toronto\\Projects\\Environmental Discrimination\\AF_calculations\\read_county_population.py:62: FutureWarning: The frame.append method is deprecated and will be removed from pandas in a future version. Use pandas.concat instead.\n",
      "  df = df.append(tdf)\n",
      "C:\\Users\\harsh\\OneDrive - University of Toronto\\Projects\\Environmental Discrimination\\AF_calculations\\read_county_population.py:62: FutureWarning: The frame.append method is deprecated and will be removed from pandas in a future version. Use pandas.concat instead.\n",
      "  df = df.append(tdf)\n"
     ]
    },
    {
     "name": "stdout",
     "output_type": "stream",
     "text": [
      "data/CENSUS/state_data/cc-est2019-agesex-21.csv\n",
      "data/CENSUS/state_data/cc-est2019-agesex-22.csv\n",
      "data/CENSUS/state_data/cc-est2019-agesex-23.csv\n"
     ]
    },
    {
     "name": "stderr",
     "output_type": "stream",
     "text": [
      "C:\\Users\\harsh\\OneDrive - University of Toronto\\Projects\\Environmental Discrimination\\AF_calculations\\read_county_population.py:62: FutureWarning: The frame.append method is deprecated and will be removed from pandas in a future version. Use pandas.concat instead.\n",
      "  df = df.append(tdf)\n",
      "C:\\Users\\harsh\\OneDrive - University of Toronto\\Projects\\Environmental Discrimination\\AF_calculations\\read_county_population.py:62: FutureWarning: The frame.append method is deprecated and will be removed from pandas in a future version. Use pandas.concat instead.\n",
      "  df = df.append(tdf)\n",
      "C:\\Users\\harsh\\OneDrive - University of Toronto\\Projects\\Environmental Discrimination\\AF_calculations\\read_county_population.py:62: FutureWarning: The frame.append method is deprecated and will be removed from pandas in a future version. Use pandas.concat instead.\n",
      "  df = df.append(tdf)\n",
      "C:\\Users\\harsh\\OneDrive - University of Toronto\\Projects\\Environmental Discrimination\\AF_calculations\\read_county_population.py:62: FutureWarning: The frame.append method is deprecated and will be removed from pandas in a future version. Use pandas.concat instead.\n",
      "  df = df.append(tdf)\n"
     ]
    },
    {
     "name": "stdout",
     "output_type": "stream",
     "text": [
      "data/CENSUS/state_data/cc-est2019-agesex-24.csv\n",
      "data/CENSUS/state_data/cc-est2019-agesex-25.csv\n",
      "data/CENSUS/state_data/cc-est2019-agesex-26.csv\n",
      "data/CENSUS/state_data/cc-est2019-agesex-27.csv\n"
     ]
    },
    {
     "name": "stderr",
     "output_type": "stream",
     "text": [
      "C:\\Users\\harsh\\OneDrive - University of Toronto\\Projects\\Environmental Discrimination\\AF_calculations\\read_county_population.py:62: FutureWarning: The frame.append method is deprecated and will be removed from pandas in a future version. Use pandas.concat instead.\n",
      "  df = df.append(tdf)\n",
      "C:\\Users\\harsh\\OneDrive - University of Toronto\\Projects\\Environmental Discrimination\\AF_calculations\\read_county_population.py:62: FutureWarning: The frame.append method is deprecated and will be removed from pandas in a future version. Use pandas.concat instead.\n",
      "  df = df.append(tdf)\n"
     ]
    },
    {
     "name": "stdout",
     "output_type": "stream",
     "text": [
      "data/CENSUS/state_data/cc-est2019-agesex-28.csv\n",
      "data/CENSUS/state_data/cc-est2019-agesex-29.csv\n"
     ]
    },
    {
     "name": "stderr",
     "output_type": "stream",
     "text": [
      "C:\\Users\\harsh\\OneDrive - University of Toronto\\Projects\\Environmental Discrimination\\AF_calculations\\read_county_population.py:62: FutureWarning: The frame.append method is deprecated and will be removed from pandas in a future version. Use pandas.concat instead.\n",
      "  df = df.append(tdf)\n",
      "C:\\Users\\harsh\\OneDrive - University of Toronto\\Projects\\Environmental Discrimination\\AF_calculations\\read_county_population.py:62: FutureWarning: The frame.append method is deprecated and will be removed from pandas in a future version. Use pandas.concat instead.\n",
      "  df = df.append(tdf)\n",
      "C:\\Users\\harsh\\OneDrive - University of Toronto\\Projects\\Environmental Discrimination\\AF_calculations\\read_county_population.py:62: FutureWarning: The frame.append method is deprecated and will be removed from pandas in a future version. Use pandas.concat instead.\n",
      "  df = df.append(tdf)\n",
      "C:\\Users\\harsh\\OneDrive - University of Toronto\\Projects\\Environmental Discrimination\\AF_calculations\\read_county_population.py:62: FutureWarning: The frame.append method is deprecated and will be removed from pandas in a future version. Use pandas.concat instead.\n",
      "  df = df.append(tdf)\n",
      "C:\\Users\\harsh\\OneDrive - University of Toronto\\Projects\\Environmental Discrimination\\AF_calculations\\read_county_population.py:62: FutureWarning: The frame.append method is deprecated and will be removed from pandas in a future version. Use pandas.concat instead.\n",
      "  df = df.append(tdf)\n"
     ]
    },
    {
     "name": "stdout",
     "output_type": "stream",
     "text": [
      "data/CENSUS/state_data/cc-est2019-agesex-30.csv\n",
      "data/CENSUS/state_data/cc-est2019-agesex-31.csv\n",
      "data/CENSUS/state_data/cc-est2019-agesex-32.csv\n",
      "data/CENSUS/state_data/cc-est2019-agesex-33.csv\n",
      "data/CENSUS/state_data/cc-est2019-agesex-34.csv\n"
     ]
    },
    {
     "name": "stderr",
     "output_type": "stream",
     "text": [
      "C:\\Users\\harsh\\OneDrive - University of Toronto\\Projects\\Environmental Discrimination\\AF_calculations\\read_county_population.py:62: FutureWarning: The frame.append method is deprecated and will be removed from pandas in a future version. Use pandas.concat instead.\n",
      "  df = df.append(tdf)\n",
      "C:\\Users\\harsh\\OneDrive - University of Toronto\\Projects\\Environmental Discrimination\\AF_calculations\\read_county_population.py:62: FutureWarning: The frame.append method is deprecated and will be removed from pandas in a future version. Use pandas.concat instead.\n",
      "  df = df.append(tdf)\n",
      "C:\\Users\\harsh\\OneDrive - University of Toronto\\Projects\\Environmental Discrimination\\AF_calculations\\read_county_population.py:62: FutureWarning: The frame.append method is deprecated and will be removed from pandas in a future version. Use pandas.concat instead.\n",
      "  df = df.append(tdf)\n",
      "C:\\Users\\harsh\\OneDrive - University of Toronto\\Projects\\Environmental Discrimination\\AF_calculations\\read_county_population.py:62: FutureWarning: The frame.append method is deprecated and will be removed from pandas in a future version. Use pandas.concat instead.\n",
      "  df = df.append(tdf)\n"
     ]
    },
    {
     "name": "stdout",
     "output_type": "stream",
     "text": [
      "data/CENSUS/state_data/cc-est2019-agesex-35.csv\n",
      "data/CENSUS/state_data/cc-est2019-agesex-36.csv\n",
      "data/CENSUS/state_data/cc-est2019-agesex-37.csv\n",
      "data/CENSUS/state_data/cc-est2019-agesex-38.csv\n",
      "data/CENSUS/state_data/cc-est2019-agesex-39.csv\n",
      "data/CENSUS/state_data/cc-est2019-agesex-40.csv\n"
     ]
    },
    {
     "name": "stderr",
     "output_type": "stream",
     "text": [
      "C:\\Users\\harsh\\OneDrive - University of Toronto\\Projects\\Environmental Discrimination\\AF_calculations\\read_county_population.py:62: FutureWarning: The frame.append method is deprecated and will be removed from pandas in a future version. Use pandas.concat instead.\n",
      "  df = df.append(tdf)\n",
      "C:\\Users\\harsh\\OneDrive - University of Toronto\\Projects\\Environmental Discrimination\\AF_calculations\\read_county_population.py:62: FutureWarning: The frame.append method is deprecated and will be removed from pandas in a future version. Use pandas.concat instead.\n",
      "  df = df.append(tdf)\n",
      "C:\\Users\\harsh\\OneDrive - University of Toronto\\Projects\\Environmental Discrimination\\AF_calculations\\read_county_population.py:62: FutureWarning: The frame.append method is deprecated and will be removed from pandas in a future version. Use pandas.concat instead.\n",
      "  df = df.append(tdf)\n",
      "C:\\Users\\harsh\\OneDrive - University of Toronto\\Projects\\Environmental Discrimination\\AF_calculations\\read_county_population.py:62: FutureWarning: The frame.append method is deprecated and will be removed from pandas in a future version. Use pandas.concat instead.\n",
      "  df = df.append(tdf)\n"
     ]
    },
    {
     "name": "stdout",
     "output_type": "stream",
     "text": [
      "data/CENSUS/state_data/cc-est2019-agesex-41.csv\n",
      "data/CENSUS/state_data/cc-est2019-agesex-42.csv\n",
      "data/CENSUS/state_data/cc-est2019-agesex-44.csv\n",
      "data/CENSUS/state_data/cc-est2019-agesex-45.csv\n",
      "data/CENSUS/state_data/cc-est2019-agesex-46.csv\n"
     ]
    },
    {
     "name": "stderr",
     "output_type": "stream",
     "text": [
      "C:\\Users\\harsh\\OneDrive - University of Toronto\\Projects\\Environmental Discrimination\\AF_calculations\\read_county_population.py:62: FutureWarning: The frame.append method is deprecated and will be removed from pandas in a future version. Use pandas.concat instead.\n",
      "  df = df.append(tdf)\n",
      "C:\\Users\\harsh\\OneDrive - University of Toronto\\Projects\\Environmental Discrimination\\AF_calculations\\read_county_population.py:62: FutureWarning: The frame.append method is deprecated and will be removed from pandas in a future version. Use pandas.concat instead.\n",
      "  df = df.append(tdf)\n",
      "C:\\Users\\harsh\\OneDrive - University of Toronto\\Projects\\Environmental Discrimination\\AF_calculations\\read_county_population.py:62: FutureWarning: The frame.append method is deprecated and will be removed from pandas in a future version. Use pandas.concat instead.\n",
      "  df = df.append(tdf)\n",
      "C:\\Users\\harsh\\OneDrive - University of Toronto\\Projects\\Environmental Discrimination\\AF_calculations\\read_county_population.py:62: FutureWarning: The frame.append method is deprecated and will be removed from pandas in a future version. Use pandas.concat instead.\n",
      "  df = df.append(tdf)\n"
     ]
    },
    {
     "name": "stdout",
     "output_type": "stream",
     "text": [
      "data/CENSUS/state_data/cc-est2019-agesex-47.csv\n",
      "data/CENSUS/state_data/cc-est2019-agesex-48.csv\n"
     ]
    },
    {
     "name": "stderr",
     "output_type": "stream",
     "text": [
      "C:\\Users\\harsh\\OneDrive - University of Toronto\\Projects\\Environmental Discrimination\\AF_calculations\\read_county_population.py:62: FutureWarning: The frame.append method is deprecated and will be removed from pandas in a future version. Use pandas.concat instead.\n",
      "  df = df.append(tdf)\n",
      "C:\\Users\\harsh\\OneDrive - University of Toronto\\Projects\\Environmental Discrimination\\AF_calculations\\read_county_population.py:62: FutureWarning: The frame.append method is deprecated and will be removed from pandas in a future version. Use pandas.concat instead.\n",
      "  df = df.append(tdf)\n",
      "C:\\Users\\harsh\\OneDrive - University of Toronto\\Projects\\Environmental Discrimination\\AF_calculations\\read_county_population.py:62: FutureWarning: The frame.append method is deprecated and will be removed from pandas in a future version. Use pandas.concat instead.\n",
      "  df = df.append(tdf)\n",
      "C:\\Users\\harsh\\OneDrive - University of Toronto\\Projects\\Environmental Discrimination\\AF_calculations\\read_county_population.py:62: FutureWarning: The frame.append method is deprecated and will be removed from pandas in a future version. Use pandas.concat instead.\n",
      "  df = df.append(tdf)\n",
      "C:\\Users\\harsh\\OneDrive - University of Toronto\\Projects\\Environmental Discrimination\\AF_calculations\\read_county_population.py:62: FutureWarning: The frame.append method is deprecated and will be removed from pandas in a future version. Use pandas.concat instead.\n",
      "  df = df.append(tdf)\n"
     ]
    },
    {
     "name": "stdout",
     "output_type": "stream",
     "text": [
      "data/CENSUS/state_data/cc-est2019-agesex-49.csv\n",
      "data/CENSUS/state_data/cc-est2019-agesex-50.csv\n",
      "data/CENSUS/state_data/cc-est2019-agesex-51.csv\n",
      "data/CENSUS/state_data/cc-est2019-agesex-53.csv\n",
      "data/CENSUS/state_data/cc-est2019-agesex-54.csv\n",
      "data/CENSUS/state_data/cc-est2019-agesex-55.csv\n",
      "data/CENSUS/state_data/cc-est2019-agesex-56.csv\n"
     ]
    },
    {
     "name": "stderr",
     "output_type": "stream",
     "text": [
      "C:\\Users\\harsh\\OneDrive - University of Toronto\\Projects\\Environmental Discrimination\\AF_calculations\\read_county_population.py:62: FutureWarning: The frame.append method is deprecated and will be removed from pandas in a future version. Use pandas.concat instead.\n",
      "  df = df.append(tdf)\n",
      "C:\\Users\\harsh\\OneDrive - University of Toronto\\Projects\\Environmental Discrimination\\AF_calculations\\read_county_population.py:62: FutureWarning: The frame.append method is deprecated and will be removed from pandas in a future version. Use pandas.concat instead.\n",
      "  df = df.append(tdf)\n",
      "C:\\Users\\harsh\\OneDrive - University of Toronto\\Projects\\Environmental Discrimination\\AF_calculations\\read_county_population.py:62: FutureWarning: The frame.append method is deprecated and will be removed from pandas in a future version. Use pandas.concat instead.\n",
      "  df = df.append(tdf)\n",
      "C:\\Users\\harsh\\OneDrive - University of Toronto\\Projects\\Environmental Discrimination\\AF_calculations\\read_county_population.py:62: FutureWarning: The frame.append method is deprecated and will be removed from pandas in a future version. Use pandas.concat instead.\n",
      "  df = df.append(tdf)\n"
     ]
    }
   ],
   "source": [
    "obj = ReadCountyCensus()\n",
    "df = obj.get_df()"
   ]
  },
  {
   "cell_type": "code",
   "execution_count": 11,
   "id": "dd62f1d8",
   "metadata": {},
   "outputs": [],
   "source": [
    "mdf = df.groupby(['state_code', 'year']).agg({'population': 'sum', 'state_name': 'first'}).reset_index()\n",
    "mdf['ZEV'] = mdf['state_code'].apply(lambda x:1 if x in ZEV_STATES else 0)"
   ]
  },
  {
   "cell_type": "code",
   "execution_count": 12,
   "id": "a7a6f880",
   "metadata": {},
   "outputs": [],
   "source": [
    "mdf['pop_shift'] = mdf.groupby(['state_code'])['population'].shift(1)"
   ]
  },
  {
   "cell_type": "code",
   "execution_count": 13,
   "id": "89c63ebe",
   "metadata": {},
   "outputs": [
    {
     "data": {
      "text/html": [
       "<div>\n",
       "<style scoped>\n",
       "    .dataframe tbody tr th:only-of-type {\n",
       "        vertical-align: middle;\n",
       "    }\n",
       "\n",
       "    .dataframe tbody tr th {\n",
       "        vertical-align: top;\n",
       "    }\n",
       "\n",
       "    .dataframe thead th {\n",
       "        text-align: right;\n",
       "    }\n",
       "</style>\n",
       "<table border=\"1\" class=\"dataframe\">\n",
       "  <thead>\n",
       "    <tr style=\"text-align: right;\">\n",
       "      <th></th>\n",
       "      <th>state_code</th>\n",
       "      <th>year</th>\n",
       "      <th>population</th>\n",
       "      <th>state_name</th>\n",
       "      <th>ZEV</th>\n",
       "      <th>pop_shift</th>\n",
       "    </tr>\n",
       "  </thead>\n",
       "  <tbody>\n",
       "    <tr>\n",
       "      <th>0</th>\n",
       "      <td>1</td>\n",
       "      <td>2010</td>\n",
       "      <td>1130433</td>\n",
       "      <td>Alabama</td>\n",
       "      <td>0</td>\n",
       "      <td>NaN</td>\n",
       "    </tr>\n",
       "    <tr>\n",
       "      <th>1</th>\n",
       "      <td>1</td>\n",
       "      <td>2011</td>\n",
       "      <td>1123827</td>\n",
       "      <td>Alabama</td>\n",
       "      <td>0</td>\n",
       "      <td>1130433.0</td>\n",
       "    </tr>\n",
       "    <tr>\n",
       "      <th>2</th>\n",
       "      <td>1</td>\n",
       "      <td>2012</td>\n",
       "      <td>1116702</td>\n",
       "      <td>Alabama</td>\n",
       "      <td>0</td>\n",
       "      <td>1123827.0</td>\n",
       "    </tr>\n",
       "    <tr>\n",
       "      <th>3</th>\n",
       "      <td>1</td>\n",
       "      <td>2013</td>\n",
       "      <td>1109908</td>\n",
       "      <td>Alabama</td>\n",
       "      <td>0</td>\n",
       "      <td>1116702.0</td>\n",
       "    </tr>\n",
       "    <tr>\n",
       "      <th>4</th>\n",
       "      <td>1</td>\n",
       "      <td>2014</td>\n",
       "      <td>1105744</td>\n",
       "      <td>Alabama</td>\n",
       "      <td>0</td>\n",
       "      <td>1109908.0</td>\n",
       "    </tr>\n",
       "    <tr>\n",
       "      <th>5</th>\n",
       "      <td>1</td>\n",
       "      <td>2015</td>\n",
       "      <td>1102585</td>\n",
       "      <td>Alabama</td>\n",
       "      <td>0</td>\n",
       "      <td>1105744.0</td>\n",
       "    </tr>\n",
       "    <tr>\n",
       "      <th>6</th>\n",
       "      <td>1</td>\n",
       "      <td>2016</td>\n",
       "      <td>1099450</td>\n",
       "      <td>Alabama</td>\n",
       "      <td>0</td>\n",
       "      <td>1102585.0</td>\n",
       "    </tr>\n",
       "    <tr>\n",
       "      <th>7</th>\n",
       "      <td>1</td>\n",
       "      <td>2017</td>\n",
       "      <td>1096017</td>\n",
       "      <td>Alabama</td>\n",
       "      <td>0</td>\n",
       "      <td>1099450.0</td>\n",
       "    </tr>\n",
       "    <tr>\n",
       "      <th>8</th>\n",
       "      <td>1</td>\n",
       "      <td>2018</td>\n",
       "      <td>1091854</td>\n",
       "      <td>Alabama</td>\n",
       "      <td>0</td>\n",
       "      <td>1096017.0</td>\n",
       "    </tr>\n",
       "    <tr>\n",
       "      <th>9</th>\n",
       "      <td>1</td>\n",
       "      <td>2019</td>\n",
       "      <td>1088306</td>\n",
       "      <td>Alabama</td>\n",
       "      <td>0</td>\n",
       "      <td>1091854.0</td>\n",
       "    </tr>\n",
       "    <tr>\n",
       "      <th>10</th>\n",
       "      <td>2</td>\n",
       "      <td>2010</td>\n",
       "      <td>187995</td>\n",
       "      <td>Alaska</td>\n",
       "      <td>0</td>\n",
       "      <td>NaN</td>\n",
       "    </tr>\n",
       "    <tr>\n",
       "      <th>11</th>\n",
       "      <td>2</td>\n",
       "      <td>2011</td>\n",
       "      <td>188580</td>\n",
       "      <td>Alaska</td>\n",
       "      <td>0</td>\n",
       "      <td>187995.0</td>\n",
       "    </tr>\n",
       "    <tr>\n",
       "      <th>12</th>\n",
       "      <td>2</td>\n",
       "      <td>2012</td>\n",
       "      <td>188399</td>\n",
       "      <td>Alaska</td>\n",
       "      <td>0</td>\n",
       "      <td>188580.0</td>\n",
       "    </tr>\n",
       "    <tr>\n",
       "      <th>13</th>\n",
       "      <td>2</td>\n",
       "      <td>2013</td>\n",
       "      <td>188349</td>\n",
       "      <td>Alaska</td>\n",
       "      <td>0</td>\n",
       "      <td>188399.0</td>\n",
       "    </tr>\n",
       "    <tr>\n",
       "      <th>14</th>\n",
       "      <td>2</td>\n",
       "      <td>2014</td>\n",
       "      <td>186818</td>\n",
       "      <td>Alaska</td>\n",
       "      <td>0</td>\n",
       "      <td>188349.0</td>\n",
       "    </tr>\n",
       "    <tr>\n",
       "      <th>15</th>\n",
       "      <td>2</td>\n",
       "      <td>2015</td>\n",
       "      <td>186144</td>\n",
       "      <td>Alaska</td>\n",
       "      <td>0</td>\n",
       "      <td>186818.0</td>\n",
       "    </tr>\n",
       "    <tr>\n",
       "      <th>16</th>\n",
       "      <td>2</td>\n",
       "      <td>2016</td>\n",
       "      <td>186851</td>\n",
       "      <td>Alaska</td>\n",
       "      <td>0</td>\n",
       "      <td>186144.0</td>\n",
       "    </tr>\n",
       "    <tr>\n",
       "      <th>17</th>\n",
       "      <td>2</td>\n",
       "      <td>2017</td>\n",
       "      <td>185410</td>\n",
       "      <td>Alaska</td>\n",
       "      <td>0</td>\n",
       "      <td>186851.0</td>\n",
       "    </tr>\n",
       "    <tr>\n",
       "      <th>18</th>\n",
       "      <td>2</td>\n",
       "      <td>2018</td>\n",
       "      <td>182696</td>\n",
       "      <td>Alaska</td>\n",
       "      <td>0</td>\n",
       "      <td>185410.0</td>\n",
       "    </tr>\n",
       "    <tr>\n",
       "      <th>19</th>\n",
       "      <td>2</td>\n",
       "      <td>2019</td>\n",
       "      <td>179983</td>\n",
       "      <td>Alaska</td>\n",
       "      <td>0</td>\n",
       "      <td>182696.0</td>\n",
       "    </tr>\n",
       "  </tbody>\n",
       "</table>\n",
       "</div>"
      ],
      "text/plain": [
       "    state_code  year  population state_name  ZEV  pop_shift\n",
       "0            1  2010     1130433    Alabama    0        NaN\n",
       "1            1  2011     1123827    Alabama    0  1130433.0\n",
       "2            1  2012     1116702    Alabama    0  1123827.0\n",
       "3            1  2013     1109908    Alabama    0  1116702.0\n",
       "4            1  2014     1105744    Alabama    0  1109908.0\n",
       "5            1  2015     1102585    Alabama    0  1105744.0\n",
       "6            1  2016     1099450    Alabama    0  1102585.0\n",
       "7            1  2017     1096017    Alabama    0  1099450.0\n",
       "8            1  2018     1091854    Alabama    0  1096017.0\n",
       "9            1  2019     1088306    Alabama    0  1091854.0\n",
       "10           2  2010      187995     Alaska    0        NaN\n",
       "11           2  2011      188580     Alaska    0   187995.0\n",
       "12           2  2012      188399     Alaska    0   188580.0\n",
       "13           2  2013      188349     Alaska    0   188399.0\n",
       "14           2  2014      186818     Alaska    0   188349.0\n",
       "15           2  2015      186144     Alaska    0   186818.0\n",
       "16           2  2016      186851     Alaska    0   186144.0\n",
       "17           2  2017      185410     Alaska    0   186851.0\n",
       "18           2  2018      182696     Alaska    0   185410.0\n",
       "19           2  2019      179983     Alaska    0   182696.0"
      ]
     },
     "execution_count": 13,
     "metadata": {},
     "output_type": "execute_result"
    }
   ],
   "source": [
    "mdf[mdf['state_code'].isin([1,2])]"
   ]
  },
  {
   "cell_type": "code",
   "execution_count": 14,
   "id": "8cd9edd4",
   "metadata": {},
   "outputs": [],
   "source": [
    "mdf['change'] = ((mdf['population'] - mdf['pop_shift'])*100)/mdf['pop_shift']"
   ]
  },
  {
   "cell_type": "code",
   "execution_count": 15,
   "id": "29360950",
   "metadata": {},
   "outputs": [],
   "source": [
    "mdf_zev = mdf[mdf['ZEV'] == 1]\n",
    "mdf_others = mdf[mdf['ZEV'] == 0]"
   ]
  },
  {
   "cell_type": "code",
   "execution_count": 16,
   "id": "7b7b8f16",
   "metadata": {},
   "outputs": [
    {
     "data": {
      "text/html": [
       "<div>\n",
       "<style scoped>\n",
       "    .dataframe tbody tr th:only-of-type {\n",
       "        vertical-align: middle;\n",
       "    }\n",
       "\n",
       "    .dataframe tbody tr th {\n",
       "        vertical-align: top;\n",
       "    }\n",
       "\n",
       "    .dataframe thead th {\n",
       "        text-align: right;\n",
       "    }\n",
       "</style>\n",
       "<table border=\"1\" class=\"dataframe\">\n",
       "  <thead>\n",
       "    <tr style=\"text-align: right;\">\n",
       "      <th></th>\n",
       "      <th>state_code</th>\n",
       "      <th>year</th>\n",
       "      <th>population</th>\n",
       "      <th>state_name</th>\n",
       "      <th>ZEV</th>\n",
       "      <th>pop_shift</th>\n",
       "      <th>change</th>\n",
       "    </tr>\n",
       "  </thead>\n",
       "  <tbody>\n",
       "    <tr>\n",
       "      <th>40</th>\n",
       "      <td>6</td>\n",
       "      <td>2010</td>\n",
       "      <td>9280492</td>\n",
       "      <td>California</td>\n",
       "      <td>1</td>\n",
       "      <td>NaN</td>\n",
       "      <td>NaN</td>\n",
       "    </tr>\n",
       "    <tr>\n",
       "      <th>41</th>\n",
       "      <td>6</td>\n",
       "      <td>2011</td>\n",
       "      <td>9244611</td>\n",
       "      <td>California</td>\n",
       "      <td>1</td>\n",
       "      <td>9280492.0</td>\n",
       "      <td>-0.386628</td>\n",
       "    </tr>\n",
       "    <tr>\n",
       "      <th>42</th>\n",
       "      <td>6</td>\n",
       "      <td>2012</td>\n",
       "      <td>9193534</td>\n",
       "      <td>California</td>\n",
       "      <td>1</td>\n",
       "      <td>9244611.0</td>\n",
       "      <td>-0.552506</td>\n",
       "    </tr>\n",
       "    <tr>\n",
       "      <th>43</th>\n",
       "      <td>6</td>\n",
       "      <td>2013</td>\n",
       "      <td>9157430</td>\n",
       "      <td>California</td>\n",
       "      <td>1</td>\n",
       "      <td>9193534.0</td>\n",
       "      <td>-0.392711</td>\n",
       "    </tr>\n",
       "    <tr>\n",
       "      <th>44</th>\n",
       "      <td>6</td>\n",
       "      <td>2014</td>\n",
       "      <td>9134153</td>\n",
       "      <td>California</td>\n",
       "      <td>1</td>\n",
       "      <td>9157430.0</td>\n",
       "      <td>-0.254187</td>\n",
       "    </tr>\n",
       "    <tr>\n",
       "      <th>...</th>\n",
       "      <td>...</td>\n",
       "      <td>...</td>\n",
       "      <td>...</td>\n",
       "      <td>...</td>\n",
       "      <td>...</td>\n",
       "      <td>...</td>\n",
       "      <td>...</td>\n",
       "    </tr>\n",
       "    <tr>\n",
       "      <th>455</th>\n",
       "      <td>50</td>\n",
       "      <td>2015</td>\n",
       "      <td>120051</td>\n",
       "      <td>Vermont</td>\n",
       "      <td>1</td>\n",
       "      <td>121497.0</td>\n",
       "      <td>-1.190153</td>\n",
       "    </tr>\n",
       "    <tr>\n",
       "      <th>456</th>\n",
       "      <td>50</td>\n",
       "      <td>2016</td>\n",
       "      <td>118191</td>\n",
       "      <td>Vermont</td>\n",
       "      <td>1</td>\n",
       "      <td>120051.0</td>\n",
       "      <td>-1.549342</td>\n",
       "    </tr>\n",
       "    <tr>\n",
       "      <th>457</th>\n",
       "      <td>50</td>\n",
       "      <td>2017</td>\n",
       "      <td>116906</td>\n",
       "      <td>Vermont</td>\n",
       "      <td>1</td>\n",
       "      <td>118191.0</td>\n",
       "      <td>-1.087223</td>\n",
       "    </tr>\n",
       "    <tr>\n",
       "      <th>458</th>\n",
       "      <td>50</td>\n",
       "      <td>2018</td>\n",
       "      <td>115394</td>\n",
       "      <td>Vermont</td>\n",
       "      <td>1</td>\n",
       "      <td>116906.0</td>\n",
       "      <td>-1.293347</td>\n",
       "    </tr>\n",
       "    <tr>\n",
       "      <th>459</th>\n",
       "      <td>50</td>\n",
       "      <td>2019</td>\n",
       "      <td>114005</td>\n",
       "      <td>Vermont</td>\n",
       "      <td>1</td>\n",
       "      <td>115394.0</td>\n",
       "      <td>-1.203702</td>\n",
       "    </tr>\n",
       "  </tbody>\n",
       "</table>\n",
       "<p>100 rows × 7 columns</p>\n",
       "</div>"
      ],
      "text/plain": [
       "     state_code  year  population  state_name  ZEV  pop_shift    change\n",
       "40            6  2010     9280492  California    1        NaN       NaN\n",
       "41            6  2011     9244611  California    1  9280492.0 -0.386628\n",
       "42            6  2012     9193534  California    1  9244611.0 -0.552506\n",
       "43            6  2013     9157430  California    1  9193534.0 -0.392711\n",
       "44            6  2014     9134153  California    1  9157430.0 -0.254187\n",
       "..          ...   ...         ...         ...  ...        ...       ...\n",
       "455          50  2015      120051     Vermont    1   121497.0 -1.190153\n",
       "456          50  2016      118191     Vermont    1   120051.0 -1.549342\n",
       "457          50  2017      116906     Vermont    1   118191.0 -1.087223\n",
       "458          50  2018      115394     Vermont    1   116906.0 -1.293347\n",
       "459          50  2019      114005     Vermont    1   115394.0 -1.203702\n",
       "\n",
       "[100 rows x 7 columns]"
      ]
     },
     "execution_count": 16,
     "metadata": {},
     "output_type": "execute_result"
    }
   ],
   "source": [
    "mdf_zev"
   ]
  },
  {
   "cell_type": "code",
   "execution_count": 26,
   "id": "a96c7325",
   "metadata": {},
   "outputs": [],
   "source": [
    "def twop(x):\n",
    "    return \"{:.2f}\".format(x)\n",
    "\n",
    "def make_change(row):\n",
    "    pop = row['population']\n",
    "    delta = row['change']\n",
    "    if not pd.isna(delta):\n",
    "        delta = twop(delta)\n",
    "        if delta[0] != '-':\n",
    "            return \"{} (+{}%)\".format(pop, delta)\n",
    "        else:\n",
    "            return \"{} ({}%)\".format(pop, delta)\n",
    "    else:\n",
    "        return \"{}\".format(pop)\n",
    "    \n",
    "\n",
    "mdf['write_pop'] = mdf.apply(make_change, axis=1)"
   ]
  },
  {
   "cell_type": "code",
   "execution_count": 33,
   "id": "a31c3472",
   "metadata": {},
   "outputs": [],
   "source": [
    "fname = \"output_files/tables1_sup.csv\"\n",
    "f = open(fname, \"w\", newline='')\n",
    "writer = csv.writer(f)\n",
    "columns = ['state_name', '2010', '2011', '2012', '2013', '2014', '2015', '2016', '2017', '2018', '2019']\n",
    "writer.writerow(columns)\n",
    "for state_code in mdf['state_code'].unique():\n",
    "    tdf = mdf[mdf['state_code'] == state_code]\n",
    "    ttdf = tdf.groupby(['state_code']).agg({'write_pop': list, 'ZEV': 'first', 'state_name': 'first'})\n",
    "    l = ttdf.values[0]\n",
    "    write_row = [l[-1]] + l[0]\n",
    "    writer.writerow(write_row)\n",
    "f.close()"
   ]
  },
  {
   "cell_type": "code",
   "execution_count": null,
   "id": "44309945",
   "metadata": {},
   "outputs": [],
   "source": []
  },
  {
   "cell_type": "code",
   "execution_count": 34,
   "id": "4f210dd6",
   "metadata": {},
   "outputs": [],
   "source": [
    "mdf = mdf.groupby(['ZEV', 'year']).agg({'population': 'sum'}).reset_index()\n",
    "mdf['pop_shift'] = mdf.groupby(['ZEV'])['population'].shift(1)\n",
    "mdf['change'] = ((mdf['population'] - mdf['pop_shift'])*100)/mdf['pop_shift']"
   ]
  },
  {
   "cell_type": "code",
   "execution_count": 42,
   "id": "9e5d98b7",
   "metadata": {},
   "outputs": [],
   "source": [
    "fname = \"output_files/tables1.csv\"\n",
    "f = open(fname, \"w\", newline='')\n",
    "writer = csv.writer(f)\n",
    "columns = ['Year', 'Population_ZEV', 'Change_ZEV', 'Population_Other', 'Change_Other']\n",
    "writer.writerow(columns)\n",
    "tdf_zev = mdf[mdf['ZEV'] == 1]\n",
    "tdf_non = mdf[mdf['ZEV'] == 0]\n",
    "for zev_df, non_df in zip(tdf_zev.iterrows(), tdf_non.iterrows()):\n",
    "    zev_row, non_row = zev_df[1], non_df[1]\n",
    "    write_row = [zev_row['year'], zev_row['population'], twop(zev_row['change'])+'%', non_row['population'], twop(non_row['change'])+'%']\n",
    "    writer.writerow(write_row)\n",
    "f.close()"
   ]
  },
  {
   "cell_type": "code",
   "execution_count": 38,
   "id": "f4144512",
   "metadata": {},
   "outputs": [
    {
     "data": {
      "text/plain": [
       "ZEV                  1.0\n",
       "year              2010.0\n",
       "population    20738160.0\n",
       "pop_shift            NaN\n",
       "change               NaN\n",
       "Name: 10, dtype: float64"
      ]
     },
     "execution_count": 38,
     "metadata": {},
     "output_type": "execute_result"
    }
   ],
   "source": [
    "zev_df[1]"
   ]
  },
  {
   "cell_type": "code",
   "execution_count": null,
   "id": "62e4aafd",
   "metadata": {},
   "outputs": [],
   "source": []
  }
 ],
 "metadata": {
  "kernelspec": {
   "display_name": "Python 3 (ipykernel)",
   "language": "python",
   "name": "python3"
  },
  "language_info": {
   "codemirror_mode": {
    "name": "ipython",
    "version": 3
   },
   "file_extension": ".py",
   "mimetype": "text/x-python",
   "name": "python",
   "nbconvert_exporter": "python",
   "pygments_lexer": "ipython3",
   "version": "3.8.10"
  }
 },
 "nbformat": 4,
 "nbformat_minor": 5
}
