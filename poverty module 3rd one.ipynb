{
 "cells": [
  {
   "cell_type": "code",
   "execution_count": 25,
   "metadata": {},
   "outputs": [],
   "source": [
    "import pandas as pd\n",
    "from prepare_data_for_modeling_or import ModelingData\n",
    "from get_population_by_state import GetAgeSex\n"
   ]
  },
  {
   "cell_type": "code",
   "execution_count": 3,
   "metadata": {},
   "outputs": [
    {
     "name": "stdout",
     "output_type": "stream",
     "text": [
      "File already exists: reading now...\n",
      "File already exists: reading now...\n",
      "File already exists: reading now...\n"
     ]
    }
   ],
   "source": [
    "obj = ModelingData()"
   ]
  },
  {
   "cell_type": "code",
   "execution_count": 4,
   "metadata": {},
   "outputs": [],
   "source": [
    "df = obj.get_data_with_epa_region()"
   ]
  },
  {
   "cell_type": "code",
   "execution_count": 6,
   "metadata": {},
   "outputs": [
    {
     "data": {
      "text/plain": [
       "TAILPIPE\n",
       "0    555386\n",
       "1    191864\n",
       "Name: ASTHMA, dtype: int64"
      ]
     },
     "execution_count": 6,
     "metadata": {},
     "output_type": "execute_result"
    }
   ],
   "source": [
    "df.groupby(['TAILPIPE'])['ASTHMA'].agg('count')"
   ]
  },
  {
   "cell_type": "code",
   "execution_count": 7,
   "metadata": {},
   "outputs": [
    {
     "data": {
      "text/plain": [
       "TAILPIPE  ASTHMA\n",
       "0         0         424102\n",
       "          1          38962\n",
       "1         0         144511\n",
       "          1          15054\n",
       "Name: POVERTY, dtype: int64"
      ]
     },
     "execution_count": 7,
     "metadata": {},
     "output_type": "execute_result"
    }
   ],
   "source": [
    "df.groupby(['TAILPIPE', 'ASTHMA'])['POVERTY'].agg('count')"
   ]
  },
  {
   "cell_type": "code",
   "execution_count": 21,
   "metadata": {},
   "outputs": [],
   "source": [
    "def get_numbers(df):\n",
    "    results = {}\n",
    "    for epa_region in [1,2,3,4,5,6,7,8,9, 10]:\n",
    "        f1 = (df['POVERTY']==1) & (df['EPA Region']==epa_region)\n",
    "        f1_bar = (df['EPA Region']==epa_region)\n",
    "        f2 = (df['ASTHMA']==1) & (df['POVERTY']==1) & (df['EPA Region']==epa_region)\n",
    "        f2_bar = (df['POVERTY']==1) & (df['EPA Region']==epa_region)\n",
    "        try:\n",
    "            poverty_count = (df[f1].shape[0]*100)/df[f1_bar].shape[0] \n",
    "            poverty_with_asthma_count = (df[f2].shape[0]*100)/df[f2_bar].shape[0]\n",
    "            # print(epa_region, poverty_count, poverty_with_asthma_count)\n",
    "        except:\n",
    "            poverty_count, poverty_with_asthma_count = None, None\n",
    "              \n",
    "        temp = {\n",
    "            \"POVERTY%\": poverty_count,\n",
    "            \"POVERTYASTHMA%\": poverty_with_asthma_count\n",
    "        }\n",
    "        results[epa_region] = temp\n",
    "    return results\n",
    "\n",
    "def get_weighted_numbers(df):\n",
    "    results = {}\n",
    "    for epa_region in [1,2,3,4,5,6,7,8,9, 10]:\n",
    "        f_pop = df['EPA Region'] == epa_region\n",
    "        population = df[f_pop][\"POPEST2017_CIV\"].sum()\n",
    "        f1 = (df['POVERTY']==1) & (df['EPA Region']==epa_region)\n",
    "        f1_bar = (df['EPA Region']==epa_region)\n",
    "        f2 = (df['ASTHMA']==1) & (df['POVERTY']==1) & (df['EPA Region']==epa_region)\n",
    "        f2_bar = (df['POVERTY']==1) & (df['EPA Region']==epa_region)\n",
    "        try:\n",
    "            poverty_count = (df[f1].shape[0]*population)/df[f1_bar].shape[0] \n",
    "            poverty_with_asthma_count = (df[f2].shape[0]*population)/df[f2_bar].shape[0]\n",
    "            # print(epa_region, poverty_count, poverty_with_asthma_count)\n",
    "        except:\n",
    "            poverty_count, poverty_with_asthma_count = None, None\n",
    "              \n",
    "        temp = {\n",
    "            \"POVERTY%\": poverty_count,\n",
    "            \"POVERTYASTHMA%\": poverty_with_asthma_count\n",
    "        }\n",
    "        results[epa_region] = temp\n",
    "    return results"
   ]
  },
  {
   "cell_type": "code",
   "execution_count": 19,
   "metadata": {},
   "outputs": [
    {
     "name": "stdout",
     "output_type": "stream",
     "text": [
      "1 3.2433633233366654 23.28767123287671\n",
      "2 36.71263193735104 12.427544632506375\n",
      "3 6.208036776417928 16.466385189996753\n",
      "4 8.587977510913323 13.568037974683545\n",
      "5 5.0826748390069 13.241379310344827\n",
      "6 10.48697025533035 10.776439089692103\n",
      "7 5.619207862617846 13.80703422053232\n",
      "8 5.019169275585542 12.608405603735823\n",
      "9 10.410999554874127 11.330166270783849\n",
      "10 6.575713922548936 12.757731958762887\n"
     ]
    },
    {
     "data": {
      "text/plain": [
       "{1: {'POVERTY%': 3.2433633233366654, 'POVERTYASTHMA%': 23.28767123287671},\n",
       " 2: {'POVERTY%': 36.71263193735104, 'POVERTYASTHMA%': 12.427544632506375},\n",
       " 3: {'POVERTY%': 6.208036776417928, 'POVERTYASTHMA%': 16.466385189996753},\n",
       " 4: {'POVERTY%': 8.587977510913323, 'POVERTYASTHMA%': 13.568037974683545},\n",
       " 5: {'POVERTY%': 5.0826748390069, 'POVERTYASTHMA%': 13.241379310344827},\n",
       " 6: {'POVERTY%': 10.48697025533035, 'POVERTYASTHMA%': 10.776439089692103},\n",
       " 7: {'POVERTY%': 5.619207862617846, 'POVERTYASTHMA%': 13.80703422053232},\n",
       " 8: {'POVERTY%': 5.019169275585542, 'POVERTYASTHMA%': 12.608405603735823},\n",
       " 9: {'POVERTY%': 10.410999554874127, 'POVERTYASTHMA%': 11.330166270783849},\n",
       " 10: {'POVERTY%': 6.575713922548936, 'POVERTYASTHMA%': 12.757731958762887}}"
      ]
     },
     "execution_count": 19,
     "metadata": {},
     "output_type": "execute_result"
    }
   ],
   "source": [
    "get_numbers(df[df['TAILPIPE']==0])"
   ]
  },
  {
   "cell_type": "code",
   "execution_count": null,
   "metadata": {},
   "outputs": [],
   "source": []
  },
  {
   "cell_type": "code",
   "execution_count": 26,
   "metadata": {},
   "outputs": [],
   "source": [
    "population__df = GetAgeSex('2017').read_file_by_population()\n",
    "population__df = population__df[population__df['STATE'] != 0]\n",
    "df = df.merge(population__df[['STATE', 'POPEST2017_CIV']], left_on=\"_STATE\", right_on=\"STATE\", how=\"left\")"
   ]
  },
  {
   "cell_type": "code",
   "execution_count": 34,
   "metadata": {},
   "outputs": [
    {
     "data": {
      "text/plain": [
       "323794924"
      ]
     },
     "execution_count": 34,
     "metadata": {},
     "output_type": "execute_result"
    }
   ],
   "source": []
  },
  {
   "cell_type": "code",
   "execution_count": 28,
   "metadata": {},
   "outputs": [
    {
     "name": "stderr",
     "output_type": "stream",
     "text": [
      "c:\\users\\administrator\\appdata\\local\\programs\\python\\python37\\lib\\site-packages\\ipykernel_launcher.py:32: RuntimeWarning: invalid value encountered in double_scalars\n",
      "c:\\users\\administrator\\appdata\\local\\programs\\python\\python37\\lib\\site-packages\\ipykernel_launcher.py:33: RuntimeWarning: invalid value encountered in double_scalars\n",
      "c:\\users\\administrator\\appdata\\local\\programs\\python\\python37\\lib\\site-packages\\ipykernel_launcher.py:32: RuntimeWarning: invalid value encountered in double_scalars\n",
      "c:\\users\\administrator\\appdata\\local\\programs\\python\\python37\\lib\\site-packages\\ipykernel_launcher.py:33: RuntimeWarning: invalid value encountered in double_scalars\n",
      "c:\\users\\administrator\\appdata\\local\\programs\\python\\python37\\lib\\site-packages\\ipykernel_launcher.py:32: RuntimeWarning: invalid value encountered in double_scalars\n",
      "c:\\users\\administrator\\appdata\\local\\programs\\python\\python37\\lib\\site-packages\\ipykernel_launcher.py:33: RuntimeWarning: invalid value encountered in double_scalars\n",
      "c:\\users\\administrator\\appdata\\local\\programs\\python\\python37\\lib\\site-packages\\ipykernel_launcher.py:32: RuntimeWarning: invalid value encountered in double_scalars\n",
      "c:\\users\\administrator\\appdata\\local\\programs\\python\\python37\\lib\\site-packages\\ipykernel_launcher.py:33: RuntimeWarning: invalid value encountered in double_scalars\n"
     ]
    },
    {
     "data": {
      "text/plain": [
       "{1: {'POVERTY%': 9250099305.63821, 'POVERTYASTHMA%': 28108758195.071075},\n",
       " 2: {'POVERTY%': 75247325593.15408, 'POVERTYASTHMA%': 118091128448.18057},\n",
       " 3: {'POVERTY%': 8125198983.0, 'POVERTYASTHMA%': 23792247542.12233},\n",
       " 4: {'POVERTY%': nan, 'POVERTYASTHMA%': nan},\n",
       " 5: {'POVERTY%': nan, 'POVERTYASTHMA%': nan},\n",
       " 6: {'POVERTY%': nan, 'POVERTYASTHMA%': nan},\n",
       " 7: {'POVERTY%': nan, 'POVERTYASTHMA%': nan},\n",
       " 8: {'POVERTY%': 5486522256.0, 'POVERTYASTHMA%': 10017299107.481707},\n",
       " 9: {'POVERTY%': 120219588193.0, 'POVERTYASTHMA%': 60327452321.23411},\n",
       " 10: {'POVERTY%': 2451567904.0, 'POVERTYASTHMA%': 5048859941.081081}}"
      ]
     },
     "execution_count": 28,
     "metadata": {},
     "output_type": "execute_result"
    }
   ],
   "source": [
    "get_weighted_numbers(df[df['TAILPIPE']==1])"
   ]
  },
  {
   "cell_type": "code",
   "execution_count": 29,
   "metadata": {},
   "outputs": [
    {
     "data": {
      "text/plain": [
       "True"
      ]
     },
     "execution_count": 29,
     "metadata": {},
     "output_type": "execute_result"
    }
   ],
   "source": [
    "pd.isna(None)"
   ]
  },
  {
   "cell_type": "code",
   "execution_count": 35,
   "metadata": {},
   "outputs": [],
   "source": [
    "import matplotlib.pyplot as plt"
   ]
  },
  {
   "cell_type": "code",
   "execution_count": 36,
   "metadata": {},
   "outputs": [],
   "source": []
  },
  {
   "cell_type": "code",
   "execution_count": 41,
   "metadata": {},
   "outputs": [
    {
     "data": {
      "text/plain": [
       "(0.12156862745098039, 0.47058823529411764, 0.7058823529411765, 1.0)"
      ]
     },
     "execution_count": 41,
     "metadata": {},
     "output_type": "execute_result"
    }
   ],
   "source": [
    "cmap(1)"
   ]
  },
  {
   "cell_type": "code",
   "execution_count": null,
   "metadata": {},
   "outputs": [],
   "source": []
  }
 ],
 "metadata": {
  "kernelspec": {
   "display_name": "Python 3 (ipykernel)",
   "language": "python",
   "name": "python3"
  },
  "language_info": {
   "codemirror_mode": {
    "name": "ipython",
    "version": 3
   },
   "file_extension": ".py",
   "mimetype": "text/x-python",
   "name": "python",
   "nbconvert_exporter": "python",
   "pygments_lexer": "ipython3",
   "version": "3.10.4"
  }
 },
 "nbformat": 4,
 "nbformat_minor": 4
}
