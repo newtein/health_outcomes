{
 "cells": [
  {
   "cell_type": "code",
   "execution_count": 1,
   "metadata": {},
   "outputs": [],
   "source": [
    "import pandas as pd\n",
    "from config import CONFIG\n",
    "from constants import *\n",
    "from read_brfss_file import ReadBRFSS\n",
    "from sklearn.linear_model import LogisticRegression\n",
    "import numpy as np\n",
    "from get_population_by_state import GetAgeSex"
   ]
  },
  {
   "cell_type": "code",
   "execution_count": 2,
   "metadata": {},
   "outputs": [],
   "source": [
    "fname = CONFIG.get('BRFSS').get('2017')"
   ]
  },
  {
   "cell_type": "code",
   "execution_count": 3,
   "metadata": {},
   "outputs": [],
   "source": [
    "COLUMNS_FOR_ODD_RATIO = [\"SMOKE100\", \"_STATE\", \"ASTHMA3\", \"ASTHNOW\", \"_AGEG5YR\", \"SEX\", \"_RACE_G1\",\n",
    "\"INCOME2\", \"_INCOMG\", \"EDUCA\", \"_EDUCAG\", \"_BMI5\", \"_BMI5CAT\"]\n",
    "\n",
    "RENAME  = {\n",
    "    \"SEX1\": \"SEX\",\n",
    "    \"SOMKE100\": \"SMOKE100\"\n",
    "}"
   ]
  },
  {
   "cell_type": "code",
   "execution_count": 4,
   "metadata": {},
   "outputs": [
    {
     "name": "stdout",
     "output_type": "stream",
     "text": [
      "data/BRFSS/2016/LLCP2016.XPT\n",
      "data/BRFSS/2017/LLCP2017.XPT\n",
      "data/BRFSS/2018/LLCP2018.XPT\n"
     ]
    }
   ],
   "source": [
    "years = CONFIG.get(\"analysis_years\")\n",
    "dfs = []\n",
    "for year in years:\n",
    "    fname = \"data/{}/{}/{}\".format(\"BRFSS\", year, CONFIG.get('BRFSS').get(year))\n",
    "    df = pd.read_sas(fname)\n",
    "    for i, j in RENAME.items():\n",
    "        try:\n",
    "            df[j] = df[i]\n",
    "        except:\n",
    "            pass\n",
    "    df = df[COLUMNS_FOR_ODD_RATIO]\n",
    "    dfs.append(df)\n",
    "    print(fname)"
   ]
  },
  {
   "cell_type": "code",
   "execution_count": 100,
   "metadata": {},
   "outputs": [],
   "source": [
    "mdf = pd.DataFrame()\n",
    "for i in [0, 1, 2]:\n",
    "    mdf = mdf.append(dfs[i])"
   ]
  },
  {
   "cell_type": "code",
   "execution_count": 101,
   "metadata": {},
   "outputs": [],
   "source": [
    "mdf = mdf[mdf['SMOKE100'] == 2]"
   ]
  },
  {
   "cell_type": "code",
   "execution_count": 102,
   "metadata": {},
   "outputs": [],
   "source": [
    "def if_carb(x):\n",
    "    if x in CARB:\n",
    "        return 1\n",
    "    return 0\n",
    "\n",
    "mdf['TAILPIPE'] = mdf['_STATE'].apply(if_carb)"
   ]
  },
  {
   "cell_type": "code",
   "execution_count": 103,
   "metadata": {},
   "outputs": [
    {
     "data": {
      "text/plain": [
       "array([2., 1., 7., 9.])"
      ]
     },
     "execution_count": 103,
     "metadata": {},
     "output_type": "execute_result"
    }
   ],
   "source": [
    "mdf['ASTHMA3'].unique()"
   ]
  },
  {
   "cell_type": "code",
   "execution_count": 104,
   "metadata": {},
   "outputs": [],
   "source": [
    "mdf = mdf[mdf['ASTHMA3'].isin([1,2])] \n",
    "\n",
    "def get_primary_risk(x):\n",
    "    if x['ASTHMA3'] == 1:\n",
    "        if x['ASTHNOW'] == 1:\n",
    "            return 1\n",
    "    return 0\n",
    "\n",
    "mdf['ASTHMA'] = mdf.apply(get_primary_risk, axis=1)"
   ]
  },
  {
   "cell_type": "code",
   "execution_count": 105,
   "metadata": {},
   "outputs": [],
   "source": [
    "# adding pop\n",
    "population__df = GetAgeSex('2017').read_file_by_population()\n",
    "population__df = population__df[population__df['STATE']!=0]\n",
    "population__df['POPEST2017_CIV'] = (population__df['POPEST2017_CIV'] - population__df['POPEST2017_CIV'].mean()) / population__df['POPEST2017_CIV'].std()\n",
    "mdf = mdf.merge(population__df[['STATE', 'POPEST2017_CIV']], left_on=\"_STATE\", right_on=\"STATE\", how=\"left\")"
   ]
  },
  {
   "cell_type": "code",
   "execution_count": 106,
   "metadata": {},
   "outputs": [],
   "source": [
    "# adding epa region\n",
    "\n",
    "epa_region = pd.read_csv(\"data/states_and_counties.csv\")\n",
    "epa_region = epa_region[['State Code', \"EPA Region\"]]\n",
    "epa_region = epa_region[epa_region['State Code']!='CC']\n",
    "epa_region['State Code'] = epa_region['State Code'].apply(int)\n",
    "epa_region = epa_region.drop_duplicates(['State Code'], keep='first')\n",
    "mdf = mdf.merge(epa_region, left_on=\"_STATE\", right_on=\"State Code\", how='left')"
   ]
  },
  {
   "cell_type": "code",
   "execution_count": null,
   "metadata": {},
   "outputs": [],
   "source": []
  },
  {
   "cell_type": "code",
   "execution_count": 107,
   "metadata": {},
   "outputs": [],
   "source": [
    "MODELING_COLUMNS = [\"TAILPIPE\", \"_AGEG5YR\", \"SEX\", \"_RACE_G1\", \"_INCOMG\", \"_EDUCAG\", \"_BMI5CAT\", 'POPEST2017_CIV', \"EPA Region\" \"ASTHMA\"]\n",
    "mdf = mdf[MODELING_COLUMNS]"
   ]
  },
  {
   "cell_type": "code",
   "execution_count": 112,
   "metadata": {},
   "outputs": [],
   "source": [
    "mdf['POPEST2017_CIV'] = mdf['POPEST2017_CIV'].fillna(mdf['POPEST2017_CIV'].mean())"
   ]
  },
  {
   "cell_type": "code",
   "execution_count": 113,
   "metadata": {},
   "outputs": [],
   "source": [
    "for column in mdf.columns:\n",
    "    if mdf[column].isna().mean() > 0:\n",
    "        mdf[column] = mdf[column].fillna(mdf[column].mode()[0])"
   ]
  },
  {
   "cell_type": "code",
   "execution_count": 114,
   "metadata": {},
   "outputs": [],
   "source": [
    "X = mdf[[\"TAILPIPE\", \"_AGEG5YR\", \"SEX\", \"_RACE_G1\", \"_INCOMG\", \"_EDUCAG\", \"_BMI5CAT\", 'POPEST2017_CIV']]\n",
    "y = mdf['ASTHMA']\n"
   ]
  },
  {
   "cell_type": "code",
   "execution_count": 135,
   "metadata": {},
   "outputs": [
    {
     "data": {
      "text/html": [
       "<div>\n",
       "<style scoped>\n",
       "    .dataframe tbody tr th:only-of-type {\n",
       "        vertical-align: middle;\n",
       "    }\n",
       "\n",
       "    .dataframe tbody tr th {\n",
       "        vertical-align: top;\n",
       "    }\n",
       "\n",
       "    .dataframe thead th {\n",
       "        text-align: right;\n",
       "    }\n",
       "</style>\n",
       "<table border=\"1\" class=\"dataframe\">\n",
       "  <thead>\n",
       "    <tr style=\"text-align: right;\">\n",
       "      <th></th>\n",
       "      <th>TAILPIPE</th>\n",
       "      <th>_AGEG5YR</th>\n",
       "      <th>SEX</th>\n",
       "      <th>_RACE_G1</th>\n",
       "      <th>_INCOMG</th>\n",
       "      <th>_EDUCAG</th>\n",
       "      <th>_BMI5CAT</th>\n",
       "      <th>POPEST2017_CIV</th>\n",
       "    </tr>\n",
       "  </thead>\n",
       "  <tbody>\n",
       "    <tr>\n",
       "      <th>0</th>\n",
       "      <td>0</td>\n",
       "      <td>5.0</td>\n",
       "      <td>1.0</td>\n",
       "      <td>1.0</td>\n",
       "      <td>3.0</td>\n",
       "      <td>2.0</td>\n",
       "      <td>2.0</td>\n",
       "      <td>-0.204798</td>\n",
       "    </tr>\n",
       "    <tr>\n",
       "      <th>1</th>\n",
       "      <td>0</td>\n",
       "      <td>8.0</td>\n",
       "      <td>2.0</td>\n",
       "      <td>1.0</td>\n",
       "      <td>5.0</td>\n",
       "      <td>2.0</td>\n",
       "      <td>3.0</td>\n",
       "      <td>-0.204798</td>\n",
       "    </tr>\n",
       "    <tr>\n",
       "      <th>2</th>\n",
       "      <td>0</td>\n",
       "      <td>1.0</td>\n",
       "      <td>1.0</td>\n",
       "      <td>1.0</td>\n",
       "      <td>9.0</td>\n",
       "      <td>2.0</td>\n",
       "      <td>2.0</td>\n",
       "      <td>-0.204798</td>\n",
       "    </tr>\n",
       "    <tr>\n",
       "      <th>3</th>\n",
       "      <td>0</td>\n",
       "      <td>10.0</td>\n",
       "      <td>2.0</td>\n",
       "      <td>1.0</td>\n",
       "      <td>9.0</td>\n",
       "      <td>2.0</td>\n",
       "      <td>3.0</td>\n",
       "      <td>-0.204798</td>\n",
       "    </tr>\n",
       "    <tr>\n",
       "      <th>4</th>\n",
       "      <td>0</td>\n",
       "      <td>12.0</td>\n",
       "      <td>2.0</td>\n",
       "      <td>1.0</td>\n",
       "      <td>5.0</td>\n",
       "      <td>3.0</td>\n",
       "      <td>4.0</td>\n",
       "      <td>-0.204798</td>\n",
       "    </tr>\n",
       "    <tr>\n",
       "      <th>...</th>\n",
       "      <td>...</td>\n",
       "      <td>...</td>\n",
       "      <td>...</td>\n",
       "      <td>...</td>\n",
       "      <td>...</td>\n",
       "      <td>...</td>\n",
       "      <td>...</td>\n",
       "      <td>...</td>\n",
       "    </tr>\n",
       "    <tr>\n",
       "      <th>747245</th>\n",
       "      <td>0</td>\n",
       "      <td>7.0</td>\n",
       "      <td>1.0</td>\n",
       "      <td>3.0</td>\n",
       "      <td>2.0</td>\n",
       "      <td>2.0</td>\n",
       "      <td>3.0</td>\n",
       "      <td>0.252173</td>\n",
       "    </tr>\n",
       "    <tr>\n",
       "      <th>747246</th>\n",
       "      <td>0</td>\n",
       "      <td>2.0</td>\n",
       "      <td>2.0</td>\n",
       "      <td>3.0</td>\n",
       "      <td>3.0</td>\n",
       "      <td>4.0</td>\n",
       "      <td>4.0</td>\n",
       "      <td>0.252173</td>\n",
       "    </tr>\n",
       "    <tr>\n",
       "      <th>747247</th>\n",
       "      <td>0</td>\n",
       "      <td>11.0</td>\n",
       "      <td>2.0</td>\n",
       "      <td>3.0</td>\n",
       "      <td>9.0</td>\n",
       "      <td>3.0</td>\n",
       "      <td>1.0</td>\n",
       "      <td>0.252173</td>\n",
       "    </tr>\n",
       "    <tr>\n",
       "      <th>747248</th>\n",
       "      <td>0</td>\n",
       "      <td>10.0</td>\n",
       "      <td>2.0</td>\n",
       "      <td>3.0</td>\n",
       "      <td>3.0</td>\n",
       "      <td>4.0</td>\n",
       "      <td>3.0</td>\n",
       "      <td>0.252173</td>\n",
       "    </tr>\n",
       "    <tr>\n",
       "      <th>747249</th>\n",
       "      <td>0</td>\n",
       "      <td>6.0</td>\n",
       "      <td>2.0</td>\n",
       "      <td>3.0</td>\n",
       "      <td>3.0</td>\n",
       "      <td>4.0</td>\n",
       "      <td>3.0</td>\n",
       "      <td>0.252173</td>\n",
       "    </tr>\n",
       "  </tbody>\n",
       "</table>\n",
       "<p>747250 rows × 8 columns</p>\n",
       "</div>"
      ],
      "text/plain": [
       "        TAILPIPE  _AGEG5YR  SEX  _RACE_G1  _INCOMG  _EDUCAG  _BMI5CAT  \\\n",
       "0              0       5.0  1.0       1.0      3.0      2.0       2.0   \n",
       "1              0       8.0  2.0       1.0      5.0      2.0       3.0   \n",
       "2              0       1.0  1.0       1.0      9.0      2.0       2.0   \n",
       "3              0      10.0  2.0       1.0      9.0      2.0       3.0   \n",
       "4              0      12.0  2.0       1.0      5.0      3.0       4.0   \n",
       "...          ...       ...  ...       ...      ...      ...       ...   \n",
       "747245         0       7.0  1.0       3.0      2.0      2.0       3.0   \n",
       "747246         0       2.0  2.0       3.0      3.0      4.0       4.0   \n",
       "747247         0      11.0  2.0       3.0      9.0      3.0       1.0   \n",
       "747248         0      10.0  2.0       3.0      3.0      4.0       3.0   \n",
       "747249         0       6.0  2.0       3.0      3.0      4.0       3.0   \n",
       "\n",
       "        POPEST2017_CIV  \n",
       "0            -0.204798  \n",
       "1            -0.204798  \n",
       "2            -0.204798  \n",
       "3            -0.204798  \n",
       "4            -0.204798  \n",
       "...                ...  \n",
       "747245        0.252173  \n",
       "747246        0.252173  \n",
       "747247        0.252173  \n",
       "747248        0.252173  \n",
       "747249        0.252173  \n",
       "\n",
       "[747250 rows x 8 columns]"
      ]
     },
     "execution_count": 135,
     "metadata": {},
     "output_type": "execute_result"
    }
   ],
   "source": [
    "X"
   ]
  },
  {
   "cell_type": "code",
   "execution_count": 124,
   "metadata": {},
   "outputs": [
    {
     "data": {
      "text/plain": [
       "(array([[ 0.18826708, -0.02630761,  0.44595352,  0.00477631, -0.04650584,\n",
       "         -0.01132303,  0.36376419, -0.04253535]]),\n",
       " array([-3.8142465]))"
      ]
     },
     "execution_count": 124,
     "metadata": {},
     "output_type": "execute_result"
    }
   ],
   "source": [
    "clf = LogisticRegression()\n",
    "clf.fit(X,y)\n",
    "clf.coef_, clf.intercept_"
   ]
  },
  {
   "cell_type": "code",
   "execution_count": 125,
   "metadata": {},
   "outputs": [
    {
     "data": {
      "text/plain": [
       "0.9134466376714621"
      ]
     },
     "execution_count": 125,
     "metadata": {},
     "output_type": "execute_result"
    }
   ],
   "source": [
    "clf.score(X, y)"
   ]
  },
  {
   "cell_type": "code",
   "execution_count": 126,
   "metadata": {},
   "outputs": [
    {
     "data": {
      "text/plain": [
       "array([[1.20715587, 0.97403542, 1.56197886, 1.00478773, 0.95455898,\n",
       "        0.98874083, 1.4387349 , 0.95835659]])"
      ]
     },
     "execution_count": 126,
     "metadata": {},
     "output_type": "execute_result"
    }
   ],
   "source": [
    "np.exp(clf.coef_)"
   ]
  },
  {
   "cell_type": "code",
   "execution_count": 128,
   "metadata": {},
   "outputs": [
    {
     "data": {
      "text/plain": [
       "0.0006839292612615293"
      ]
     },
     "execution_count": 128,
     "metadata": {},
     "output_type": "execute_result"
    }
   ],
   "source": [
    "np.exp(clf.coef_[0][0]+1.96*clf.intercept_[0])"
   ]
  },
  {
   "cell_type": "code",
   "execution_count": 37,
   "metadata": {},
   "outputs": [
    {
     "data": {
      "text/plain": [
       "0.10281877960178415"
      ]
     },
     "execution_count": 37,
     "metadata": {},
     "output_type": "execute_result"
    }
   ],
   "source": [
    "mdf[mdf['TAILPIPE']==1]['ASTHMA'].sum()/(mdf[mdf['TAILPIPE']==1]['ASTHMA'].count()-mdf[mdf['TAILPIPE']==1]['ASTHMA'].sum())"
   ]
  },
  {
   "cell_type": "code",
   "execution_count": 38,
   "metadata": {},
   "outputs": [
    {
     "data": {
      "text/plain": [
       "0.09091087658096692"
      ]
     },
     "execution_count": 38,
     "metadata": {},
     "output_type": "execute_result"
    }
   ],
   "source": [
    "mdf[mdf['TAILPIPE']==0]['ASTHMA'].sum()/(mdf[mdf['TAILPIPE']==0]['ASTHMA'].count()-mdf[mdf['TAILPIPE']==0]['ASTHMA'].sum())"
   ]
  },
  {
   "cell_type": "code",
   "execution_count": 39,
   "metadata": {},
   "outputs": [
    {
     "data": {
      "text/plain": [
       "1.1309843603830156"
      ]
     },
     "execution_count": 39,
     "metadata": {},
     "output_type": "execute_result"
    }
   ],
   "source": [
    "0.10281877960178415/0.09091087658096692"
   ]
  },
  {
   "cell_type": "code",
   "execution_count": 22,
   "metadata": {},
   "outputs": [
    {
     "data": {
      "text/plain": [
       "1.130913091309131"
      ]
     },
     "execution_count": 22,
     "metadata": {},
     "output_type": "execute_result"
    }
   ],
   "source": [
    "0.1028/0.0909"
   ]
  },
  {
   "cell_type": "code",
   "execution_count": 140,
   "metadata": {},
   "outputs": [
    {
     "data": {
      "text/plain": [
       "{'C': 1.0,\n",
       " 'class_weight': None,\n",
       " 'dual': False,\n",
       " 'fit_intercept': True,\n",
       " 'intercept_scaling': 1,\n",
       " 'l1_ratio': None,\n",
       " 'max_iter': 100,\n",
       " 'multi_class': 'auto',\n",
       " 'n_jobs': None,\n",
       " 'penalty': 'l2',\n",
       " 'random_state': None,\n",
       " 'solver': 'lbfgs',\n",
       " 'tol': 0.0001,\n",
       " 'verbose': 0,\n",
       " 'warm_start': False}"
      ]
     },
     "execution_count": 140,
     "metadata": {},
     "output_type": "execute_result"
    }
   ],
   "source": [
    "clf.get_params()"
   ]
  },
  {
   "cell_type": "code",
   "execution_count": 129,
   "metadata": {},
   "outputs": [],
   "source": [
    "import statsmodels.api as sm"
   ]
  },
  {
   "cell_type": "code",
   "execution_count": 142,
   "metadata": {},
   "outputs": [],
   "source": [
    "sm.Logit?"
   ]
  },
  {
   "cell_type": "code",
   "execution_count": 141,
   "metadata": {},
   "outputs": [
    {
     "name": "stdout",
     "output_type": "stream",
     "text": [
      "Optimization terminated successfully.\n",
      "         Current function value: 0.298059\n",
      "         Iterations 7\n"
     ]
    }
   ],
   "source": [
    "res = sm.Logit(y, X).fit()"
   ]
  },
  {
   "cell_type": "code",
   "execution_count": 137,
   "metadata": {},
   "outputs": [
    {
     "data": {
      "text/html": [
       "<table class=\"simpletable\">\n",
       "<caption>Logit Regression Results</caption>\n",
       "<tr>\n",
       "  <th>Dep. Variable:</th>        <td>ASTHMA</td>      <th>  No. Observations:  </th>   <td>747250</td>   \n",
       "</tr>\n",
       "<tr>\n",
       "  <th>Model:</th>                 <td>Logit</td>      <th>  Df Residuals:      </th>   <td>747243</td>   \n",
       "</tr>\n",
       "<tr>\n",
       "  <th>Method:</th>                 <td>MLE</td>       <th>  Df Model:          </th>   <td>     6</td>   \n",
       "</tr>\n",
       "<tr>\n",
       "  <th>Date:</th>            <td>Wed, 17 Nov 2021</td> <th>  Pseudo R-squ.:     </th>  <td>-0.01807</td>  \n",
       "</tr>\n",
       "<tr>\n",
       "  <th>Time:</th>                <td>12:48:49</td>     <th>  Log-Likelihood:    </th> <td>-2.2282e+05</td>\n",
       "</tr>\n",
       "<tr>\n",
       "  <th>converged:</th>             <td>True</td>       <th>  LL-Null:           </th> <td>-2.1886e+05</td>\n",
       "</tr>\n",
       "<tr>\n",
       "  <th>Covariance Type:</th>     <td>nonrobust</td>    <th>  LLR p-value:       </th>   <td> 1.000</td>   \n",
       "</tr>\n",
       "</table>\n",
       "<table class=\"simpletable\">\n",
       "<tr>\n",
       "      <td></td>        <th>coef</th>     <th>std err</th>      <th>z</th>      <th>P>|z|</th>  <th>[0.025</th>    <th>0.975]</th>  \n",
       "</tr>\n",
       "<tr>\n",
       "  <th>TAILPIPE</th> <td>    0.0665</td> <td>    0.009</td> <td>    7.220</td> <td> 0.000</td> <td>    0.048</td> <td>    0.085</td>\n",
       "</tr>\n",
       "<tr>\n",
       "  <th>_AGEG5YR</th> <td>   -0.0669</td> <td>    0.001</td> <td>  -62.322</td> <td> 0.000</td> <td>   -0.069</td> <td>   -0.065</td>\n",
       "</tr>\n",
       "<tr>\n",
       "  <th>SEX</th>      <td>    0.0450</td> <td>    0.007</td> <td>    6.595</td> <td> 0.000</td> <td>    0.032</td> <td>    0.058</td>\n",
       "</tr>\n",
       "<tr>\n",
       "  <th>_RACE_G1</th> <td>   -0.2318</td> <td>    0.004</td> <td>  -52.281</td> <td> 0.000</td> <td>   -0.240</td> <td>   -0.223</td>\n",
       "</tr>\n",
       "<tr>\n",
       "  <th>_INCOMG</th>  <td>   -0.1158</td> <td>    0.002</td> <td>  -63.502</td> <td> 0.000</td> <td>   -0.119</td> <td>   -0.112</td>\n",
       "</tr>\n",
       "<tr>\n",
       "  <th>_EDUCAG</th>  <td>   -0.2881</td> <td>    0.004</td> <td>  -78.316</td> <td> 0.000</td> <td>   -0.295</td> <td>   -0.281</td>\n",
       "</tr>\n",
       "<tr>\n",
       "  <th>_BMI5CAT</th> <td>   -0.0608</td> <td>    0.004</td> <td>  -14.907</td> <td> 0.000</td> <td>   -0.069</td> <td>   -0.053</td>\n",
       "</tr>\n",
       "</table>"
      ],
      "text/plain": [
       "<class 'statsmodels.iolib.summary.Summary'>\n",
       "\"\"\"\n",
       "                           Logit Regression Results                           \n",
       "==============================================================================\n",
       "Dep. Variable:                 ASTHMA   No. Observations:               747250\n",
       "Model:                          Logit   Df Residuals:                   747243\n",
       "Method:                           MLE   Df Model:                            6\n",
       "Date:                Wed, 17 Nov 2021   Pseudo R-squ.:                -0.01807\n",
       "Time:                        12:48:49   Log-Likelihood:            -2.2282e+05\n",
       "converged:                       True   LL-Null:                   -2.1886e+05\n",
       "Covariance Type:            nonrobust   LLR p-value:                     1.000\n",
       "==============================================================================\n",
       "                 coef    std err          z      P>|z|      [0.025      0.975]\n",
       "------------------------------------------------------------------------------\n",
       "TAILPIPE       0.0665      0.009      7.220      0.000       0.048       0.085\n",
       "_AGEG5YR      -0.0669      0.001    -62.322      0.000      -0.069      -0.065\n",
       "SEX            0.0450      0.007      6.595      0.000       0.032       0.058\n",
       "_RACE_G1      -0.2318      0.004    -52.281      0.000      -0.240      -0.223\n",
       "_INCOMG       -0.1158      0.002    -63.502      0.000      -0.119      -0.112\n",
       "_EDUCAG       -0.2881      0.004    -78.316      0.000      -0.295      -0.281\n",
       "_BMI5CAT      -0.0608      0.004    -14.907      0.000      -0.069      -0.053\n",
       "==============================================================================\n",
       "\"\"\""
      ]
     },
     "execution_count": 137,
     "metadata": {},
     "output_type": "execute_result"
    }
   ],
   "source": [
    "res.summary()"
   ]
  },
  {
   "cell_type": "code",
   "execution_count": 139,
   "metadata": {},
   "outputs": [
    {
     "data": {
      "text/plain": [
       "TAILPIPE    1.068785\n",
       "_AGEG5YR    0.935322\n",
       "SEX         1.046002\n",
       "_RACE_G1    0.793119\n",
       "_INCOMG     0.890637\n",
       "_EDUCAG     0.749723\n",
       "_BMI5CAT    0.941052\n",
       "dtype: float64"
      ]
     },
     "execution_count": 139,
     "metadata": {},
     "output_type": "execute_result"
    }
   ],
   "source": [
    "np.exp(res.params)"
   ]
  },
  {
   "cell_type": "code",
   "execution_count": 133,
   "metadata": {},
   "outputs": [
    {
     "name": "stdout",
     "output_type": "stream",
     "text": [
      "                      5%       95%  Odds Ratio\n",
      "TAILPIPE        1.082065  1.122972    1.102329\n",
      "_AGEG5YR        0.933036  0.936971    0.935001\n",
      "SEX             1.033104  1.061094    1.047006\n",
      "_RACE_G1        0.792598  0.806566    0.799552\n",
      "_INCOMG         0.886893  0.893262    0.890072\n",
      "_EDUCAG         0.743134  0.753943    0.748519\n",
      "_BMI5CAT        0.933786  0.948822    0.941274\n",
      "POPEST2017_CIV  0.942911  0.957011    0.949935\n"
     ]
    }
   ],
   "source": [
    "params = res.params\n",
    "conf = res.conf_int()\n",
    "conf['Odds Ratio'] = params\n",
    "conf.columns = ['5%', '95%', 'Odds Ratio']\n",
    "print(np.exp(conf))"
   ]
  },
  {
   "cell_type": "code",
   "execution_count": 143,
   "metadata": {},
   "outputs": [
    {
     "data": {
      "text/html": [
       "<div>\n",
       "<style scoped>\n",
       "    .dataframe tbody tr th:only-of-type {\n",
       "        vertical-align: middle;\n",
       "    }\n",
       "\n",
       "    .dataframe tbody tr th {\n",
       "        vertical-align: top;\n",
       "    }\n",
       "\n",
       "    .dataframe thead th {\n",
       "        text-align: right;\n",
       "    }\n",
       "</style>\n",
       "<table border=\"1\" class=\"dataframe\">\n",
       "  <thead>\n",
       "    <tr style=\"text-align: right;\">\n",
       "      <th></th>\n",
       "      <th>TAILPIPE</th>\n",
       "      <th>_AGEG5YR</th>\n",
       "      <th>SEX</th>\n",
       "      <th>_RACE_G1</th>\n",
       "      <th>_INCOMG</th>\n",
       "      <th>_EDUCAG</th>\n",
       "      <th>_BMI5CAT</th>\n",
       "      <th>POPEST2017_CIV</th>\n",
       "      <th>ASTHMA</th>\n",
       "    </tr>\n",
       "  </thead>\n",
       "  <tbody>\n",
       "    <tr>\n",
       "      <th>0</th>\n",
       "      <td>0</td>\n",
       "      <td>5.0</td>\n",
       "      <td>1.0</td>\n",
       "      <td>1.0</td>\n",
       "      <td>3.0</td>\n",
       "      <td>2.0</td>\n",
       "      <td>2.0</td>\n",
       "      <td>-0.204798</td>\n",
       "      <td>0</td>\n",
       "    </tr>\n",
       "    <tr>\n",
       "      <th>1</th>\n",
       "      <td>0</td>\n",
       "      <td>8.0</td>\n",
       "      <td>2.0</td>\n",
       "      <td>1.0</td>\n",
       "      <td>5.0</td>\n",
       "      <td>2.0</td>\n",
       "      <td>3.0</td>\n",
       "      <td>-0.204798</td>\n",
       "      <td>0</td>\n",
       "    </tr>\n",
       "    <tr>\n",
       "      <th>2</th>\n",
       "      <td>0</td>\n",
       "      <td>1.0</td>\n",
       "      <td>1.0</td>\n",
       "      <td>1.0</td>\n",
       "      <td>9.0</td>\n",
       "      <td>2.0</td>\n",
       "      <td>2.0</td>\n",
       "      <td>-0.204798</td>\n",
       "      <td>0</td>\n",
       "    </tr>\n",
       "    <tr>\n",
       "      <th>3</th>\n",
       "      <td>0</td>\n",
       "      <td>10.0</td>\n",
       "      <td>2.0</td>\n",
       "      <td>1.0</td>\n",
       "      <td>9.0</td>\n",
       "      <td>2.0</td>\n",
       "      <td>3.0</td>\n",
       "      <td>-0.204798</td>\n",
       "      <td>0</td>\n",
       "    </tr>\n",
       "    <tr>\n",
       "      <th>4</th>\n",
       "      <td>0</td>\n",
       "      <td>12.0</td>\n",
       "      <td>2.0</td>\n",
       "      <td>1.0</td>\n",
       "      <td>5.0</td>\n",
       "      <td>3.0</td>\n",
       "      <td>4.0</td>\n",
       "      <td>-0.204798</td>\n",
       "      <td>1</td>\n",
       "    </tr>\n",
       "    <tr>\n",
       "      <th>...</th>\n",
       "      <td>...</td>\n",
       "      <td>...</td>\n",
       "      <td>...</td>\n",
       "      <td>...</td>\n",
       "      <td>...</td>\n",
       "      <td>...</td>\n",
       "      <td>...</td>\n",
       "      <td>...</td>\n",
       "      <td>...</td>\n",
       "    </tr>\n",
       "    <tr>\n",
       "      <th>747245</th>\n",
       "      <td>0</td>\n",
       "      <td>7.0</td>\n",
       "      <td>1.0</td>\n",
       "      <td>3.0</td>\n",
       "      <td>2.0</td>\n",
       "      <td>2.0</td>\n",
       "      <td>3.0</td>\n",
       "      <td>0.252173</td>\n",
       "      <td>0</td>\n",
       "    </tr>\n",
       "    <tr>\n",
       "      <th>747246</th>\n",
       "      <td>0</td>\n",
       "      <td>2.0</td>\n",
       "      <td>2.0</td>\n",
       "      <td>3.0</td>\n",
       "      <td>3.0</td>\n",
       "      <td>4.0</td>\n",
       "      <td>4.0</td>\n",
       "      <td>0.252173</td>\n",
       "      <td>1</td>\n",
       "    </tr>\n",
       "    <tr>\n",
       "      <th>747247</th>\n",
       "      <td>0</td>\n",
       "      <td>11.0</td>\n",
       "      <td>2.0</td>\n",
       "      <td>3.0</td>\n",
       "      <td>9.0</td>\n",
       "      <td>3.0</td>\n",
       "      <td>1.0</td>\n",
       "      <td>0.252173</td>\n",
       "      <td>0</td>\n",
       "    </tr>\n",
       "    <tr>\n",
       "      <th>747248</th>\n",
       "      <td>0</td>\n",
       "      <td>10.0</td>\n",
       "      <td>2.0</td>\n",
       "      <td>3.0</td>\n",
       "      <td>3.0</td>\n",
       "      <td>4.0</td>\n",
       "      <td>3.0</td>\n",
       "      <td>0.252173</td>\n",
       "      <td>0</td>\n",
       "    </tr>\n",
       "    <tr>\n",
       "      <th>747249</th>\n",
       "      <td>0</td>\n",
       "      <td>6.0</td>\n",
       "      <td>2.0</td>\n",
       "      <td>3.0</td>\n",
       "      <td>3.0</td>\n",
       "      <td>4.0</td>\n",
       "      <td>3.0</td>\n",
       "      <td>0.252173</td>\n",
       "      <td>0</td>\n",
       "    </tr>\n",
       "  </tbody>\n",
       "</table>\n",
       "<p>747250 rows × 9 columns</p>\n",
       "</div>"
      ],
      "text/plain": [
       "        TAILPIPE  _AGEG5YR  SEX  _RACE_G1  _INCOMG  _EDUCAG  _BMI5CAT  \\\n",
       "0              0       5.0  1.0       1.0      3.0      2.0       2.0   \n",
       "1              0       8.0  2.0       1.0      5.0      2.0       3.0   \n",
       "2              0       1.0  1.0       1.0      9.0      2.0       2.0   \n",
       "3              0      10.0  2.0       1.0      9.0      2.0       3.0   \n",
       "4              0      12.0  2.0       1.0      5.0      3.0       4.0   \n",
       "...          ...       ...  ...       ...      ...      ...       ...   \n",
       "747245         0       7.0  1.0       3.0      2.0      2.0       3.0   \n",
       "747246         0       2.0  2.0       3.0      3.0      4.0       4.0   \n",
       "747247         0      11.0  2.0       3.0      9.0      3.0       1.0   \n",
       "747248         0      10.0  2.0       3.0      3.0      4.0       3.0   \n",
       "747249         0       6.0  2.0       3.0      3.0      4.0       3.0   \n",
       "\n",
       "        POPEST2017_CIV  ASTHMA  \n",
       "0            -0.204798       0  \n",
       "1            -0.204798       0  \n",
       "2            -0.204798       0  \n",
       "3            -0.204798       0  \n",
       "4            -0.204798       1  \n",
       "...                ...     ...  \n",
       "747245        0.252173       0  \n",
       "747246        0.252173       1  \n",
       "747247        0.252173       0  \n",
       "747248        0.252173       0  \n",
       "747249        0.252173       0  \n",
       "\n",
       "[747250 rows x 9 columns]"
      ]
     },
     "execution_count": 143,
     "metadata": {},
     "output_type": "execute_result"
    }
   ],
   "source": [
    "mdf"
   ]
  },
  {
   "cell_type": "code",
   "execution_count": null,
   "metadata": {},
   "outputs": [],
   "source": []
  }
 ],
 "metadata": {
  "kernelspec": {
   "display_name": "Python 3",
   "language": "python",
   "name": "python3"
  },
  "language_info": {
   "codemirror_mode": {
    "name": "ipython",
    "version": 3
   },
   "file_extension": ".py",
   "mimetype": "text/x-python",
   "name": "python",
   "nbconvert_exporter": "python",
   "pygments_lexer": "ipython3",
   "version": "3.7.9"
  }
 },
 "nbformat": 4,
 "nbformat_minor": 4
}
