{
 "cells": [
  {
   "cell_type": "code",
   "execution_count": 9,
   "id": "59fbabc2",
   "metadata": {},
   "outputs": [],
   "source": [
    "import pandas as pd\n",
    "from constants import *\n",
    "import math"
   ]
  },
  {
   "cell_type": "code",
   "execution_count": 3,
   "id": "42b74955",
   "metadata": {},
   "outputs": [],
   "source": [
    "year = 2019"
   ]
  },
  {
   "cell_type": "code",
   "execution_count": 5,
   "id": "d5b608d2",
   "metadata": {},
   "outputs": [],
   "source": [
    "path = \"odds_ratio_module/data/{}/PR_IR_AF.csv\".format(year)\n",
    "df = pd.read_csv(path)"
   ]
  },
  {
   "cell_type": "code",
   "execution_count": 16,
   "id": "110e1722",
   "metadata": {},
   "outputs": [
    {
     "name": "stdout",
     "output_type": "stream",
     "text": [
      "For state 6\n",
      "1.0 467 1087839\n",
      "2.0 85 179898\n"
     ]
    },
    {
     "name": "stderr",
     "output_type": "stream",
     "text": [
      "C:\\Users\\harsh\\AppData\\Local\\Temp\\ipykernel_28976\\1857084934.py:25: FutureWarning: The frame.append method is deprecated and will be removed from pandas in a future version. Use pandas.concat instead.\n",
      "  state_df = state_df.append(tdf)\n",
      "C:\\Users\\harsh\\AppData\\Local\\Temp\\ipykernel_28976\\1857084934.py:25: FutureWarning: The frame.append method is deprecated and will be removed from pandas in a future version. Use pandas.concat instead.\n",
      "  state_df = state_df.append(tdf)\n"
     ]
    },
    {
     "name": "stdout",
     "output_type": "stream",
     "text": [
      "4.0 4526 1635710\n"
     ]
    },
    {
     "name": "stderr",
     "output_type": "stream",
     "text": [
      "C:\\Users\\harsh\\AppData\\Local\\Temp\\ipykernel_28976\\1857084934.py:25: FutureWarning: The frame.append method is deprecated and will be removed from pandas in a future version. Use pandas.concat instead.\n",
      "  state_df = state_df.append(tdf)\n",
      "C:\\Users\\harsh\\AppData\\Local\\Temp\\ipykernel_28976\\1857084934.py:25: FutureWarning: The frame.append method is deprecated and will be removed from pandas in a future version. Use pandas.concat instead.\n",
      "  state_df = state_df.append(tdf)\n"
     ]
    },
    {
     "name": "stdout",
     "output_type": "stream",
     "text": [
      "5.0 274 699881\n",
      "6.0 79303374 23820596993\n"
     ]
    },
    {
     "ename": "MemoryError",
     "evalue": "",
     "output_type": "error",
     "traceback": [
      "\u001b[1;31m---------------------------------------------------------------------------\u001b[0m",
      "\u001b[1;31mMemoryError\u001b[0m                               Traceback (most recent call last)",
      "Cell \u001b[1;32mIn [16], line 24\u001b[0m\n\u001b[0;32m     22\u001b[0m state_df \u001b[38;5;241m=\u001b[39m pd\u001b[38;5;241m.\u001b[39mDataFrame()\n\u001b[0;32m     23\u001b[0m \u001b[38;5;28;01mfor\u001b[39;00m index, row \u001b[38;5;129;01min\u001b[39;00m df\u001b[38;5;241m.\u001b[39miterrows():\n\u001b[1;32m---> 24\u001b[0m     tdf \u001b[38;5;241m=\u001b[39m \u001b[43mcreate_dataset\u001b[49m\u001b[43m(\u001b[49m\u001b[43mrow\u001b[49m\u001b[43m,\u001b[49m\u001b[43m \u001b[49m\u001b[43mselected_state\u001b[49m\u001b[43m)\u001b[49m\n\u001b[0;32m     25\u001b[0m     state_df \u001b[38;5;241m=\u001b[39m state_df\u001b[38;5;241m.\u001b[39mappend(tdf)\n\u001b[0;32m     26\u001b[0m \u001b[38;5;28;01mbreak\u001b[39;00m\n",
      "Cell \u001b[1;32mIn [16], line 9\u001b[0m, in \u001b[0;36mcreate_dataset\u001b[1;34m(row, selected_state)\u001b[0m\n\u001b[0;32m      7\u001b[0m total_non_asthma \u001b[38;5;241m=\u001b[39m population \u001b[38;5;241m-\u001b[39m total_asthma_due_to_trap\n\u001b[0;32m      8\u001b[0m \u001b[38;5;28mprint\u001b[39m(state_code, total_asthma_due_to_trap, total_non_asthma)\n\u001b[1;32m----> 9\u001b[0m primary_risk \u001b[38;5;241m=\u001b[39m [\u001b[38;5;241m1\u001b[39m]\u001b[38;5;241m*\u001b[39mtotal_asthma_due_to_trap \u001b[38;5;241m+\u001b[39m \u001b[43m[\u001b[49m\u001b[38;5;241;43m0\u001b[39;49m\u001b[43m]\u001b[49m\u001b[38;5;241;43m*\u001b[39;49m\u001b[43mtotal_non_asthma\u001b[49m\n\u001b[0;32m     10\u001b[0m primary_exposure \u001b[38;5;241m=\u001b[39m \u001b[38;5;241m1\u001b[39m \u001b[38;5;28;01mif\u001b[39;00m state_code \u001b[38;5;241m==\u001b[39m selected_state \u001b[38;5;28;01melse\u001b[39;00m \u001b[38;5;241m0\u001b[39m\n\u001b[0;32m     11\u001b[0m data \u001b[38;5;241m=\u001b[39m {\n\u001b[0;32m     12\u001b[0m     \u001b[38;5;124m\"\u001b[39m\u001b[38;5;124mx\u001b[39m\u001b[38;5;124m\"\u001b[39m: primary_exposure,\n\u001b[0;32m     13\u001b[0m     \u001b[38;5;124m\"\u001b[39m\u001b[38;5;124my\u001b[39m\u001b[38;5;124m\"\u001b[39m: primary_risk\n\u001b[0;32m     14\u001b[0m }\n",
      "\u001b[1;31mMemoryError\u001b[0m: "
     ]
    }
   ],
   "source": [
    "def create_dataset(row, selected_state):\n",
    "    state_code = row['state_code']\n",
    "    population = math.ceil(row['population'])\n",
    "    pr, ir = row['PR'], row['IR']\n",
    "    af = row['SAF']\n",
    "    total_asthma_due_to_trap = math.ceil(row['AC'])\n",
    "    total_non_asthma = population - total_asthma_due_to_trap\n",
    "    print(state_code, total_asthma_due_to_trap, total_non_asthma)\n",
    "    primary_risk = [1]*total_asthma_due_to_trap + [0]*total_non_asthma\n",
    "    primary_exposure = 1 if state_code == selected_state else 0\n",
    "    data = {\n",
    "        \"x\": primary_exposure,\n",
    "        \"y\": primary_risk\n",
    "    }\n",
    "    tdf = pd.DataFrame(columns = [\"x\", \"y\"], data=data)\n",
    "    return tdf\n",
    "    \n",
    "\n",
    "\n",
    "for selected_state in ZEV_STATES:\n",
    "    print(\"For state\", selected_state)\n",
    "    state_df = pd.DataFrame()\n",
    "    for index, row in df.iterrows():\n",
    "        tdf = create_dataset(row, selected_state)\n",
    "        state_df = state_df.append(tdf)\n",
    "    break"
   ]
  },
  {
   "cell_type": "code",
   "execution_count": 17,
   "id": "dd9c6ea9",
   "metadata": {},
   "outputs": [],
   "source": [
    "df = pd.read_csv(\"data/lur_no2/lur_no2_merged_with_pop.csv\")"
   ]
  },
  {
   "cell_type": "code",
   "execution_count": null,
   "id": "0052b876",
   "metadata": {},
   "outputs": [],
   "source": [
    "df[()]"
   ]
  }
 ],
 "metadata": {
  "kernelspec": {
   "display_name": "Python 3 (ipykernel)",
   "language": "python",
   "name": "python3"
  },
  "language_info": {
   "codemirror_mode": {
    "name": "ipython",
    "version": 3
   },
   "file_extension": ".py",
   "mimetype": "text/x-python",
   "name": "python",
   "nbconvert_exporter": "python",
   "pygments_lexer": "ipython3",
   "version": "3.8.10"
  }
 },
 "nbformat": 4,
 "nbformat_minor": 5
}
