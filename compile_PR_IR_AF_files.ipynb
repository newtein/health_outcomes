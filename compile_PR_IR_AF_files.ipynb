{
 "cells": [
  {
   "cell_type": "code",
   "execution_count": 1,
   "id": "9c77a5f0",
   "metadata": {},
   "outputs": [],
   "source": [
    "import pandas as pd"
   ]
  },
  {
   "cell_type": "code",
   "execution_count": 2,
   "id": "d773b4eb",
   "metadata": {},
   "outputs": [],
   "source": [
    "pollutant = 'pm10'\n",
    "filepath = \"odds_ratio_module/data/{}/PR_IR_AF_{}.csv\""
   ]
  },
  {
   "cell_type": "code",
   "execution_count": 3,
   "id": "1af29c84",
   "metadata": {},
   "outputs": [
    {
     "name": "stderr",
     "output_type": "stream",
     "text": [
      "C:\\Users\\harsh\\AppData\\Local\\Temp\\ipykernel_11544\\2847269209.py:7: FutureWarning: The frame.append method is deprecated and will be removed from pandas in a future version. Use pandas.concat instead.\n",
      "  df = df.append(tdf)\n",
      "C:\\Users\\harsh\\AppData\\Local\\Temp\\ipykernel_11544\\2847269209.py:7: FutureWarning: The frame.append method is deprecated and will be removed from pandas in a future version. Use pandas.concat instead.\n",
      "  df = df.append(tdf)\n",
      "C:\\Users\\harsh\\AppData\\Local\\Temp\\ipykernel_11544\\2847269209.py:7: FutureWarning: The frame.append method is deprecated and will be removed from pandas in a future version. Use pandas.concat instead.\n",
      "  df = df.append(tdf)\n",
      "C:\\Users\\harsh\\AppData\\Local\\Temp\\ipykernel_11544\\2847269209.py:7: FutureWarning: The frame.append method is deprecated and will be removed from pandas in a future version. Use pandas.concat instead.\n",
      "  df = df.append(tdf)\n",
      "C:\\Users\\harsh\\AppData\\Local\\Temp\\ipykernel_11544\\2847269209.py:7: FutureWarning: The frame.append method is deprecated and will be removed from pandas in a future version. Use pandas.concat instead.\n",
      "  df = df.append(tdf)\n",
      "C:\\Users\\harsh\\AppData\\Local\\Temp\\ipykernel_11544\\2847269209.py:7: FutureWarning: The frame.append method is deprecated and will be removed from pandas in a future version. Use pandas.concat instead.\n",
      "  df = df.append(tdf)\n",
      "C:\\Users\\harsh\\AppData\\Local\\Temp\\ipykernel_11544\\2847269209.py:7: FutureWarning: The frame.append method is deprecated and will be removed from pandas in a future version. Use pandas.concat instead.\n",
      "  df = df.append(tdf)\n",
      "C:\\Users\\harsh\\AppData\\Local\\Temp\\ipykernel_11544\\2847269209.py:7: FutureWarning: The frame.append method is deprecated and will be removed from pandas in a future version. Use pandas.concat instead.\n",
      "  df = df.append(tdf)\n",
      "C:\\Users\\harsh\\AppData\\Local\\Temp\\ipykernel_11544\\2847269209.py:7: FutureWarning: The frame.append method is deprecated and will be removed from pandas in a future version. Use pandas.concat instead.\n",
      "  df = df.append(tdf)\n",
      "C:\\Users\\harsh\\AppData\\Local\\Temp\\ipykernel_11544\\2847269209.py:7: FutureWarning: The frame.append method is deprecated and will be removed from pandas in a future version. Use pandas.concat instead.\n",
      "  df = df.append(tdf)\n"
     ]
    }
   ],
   "source": [
    "df = pd.DataFrame()\n",
    "for year in range(2010, 2020):\n",
    "    f = filepath.format(year, pollutant)\n",
    "    try:\n",
    "        tdf = pd.read_csv(f)\n",
    "        tdf['year'] = year\n",
    "        df = df.append(tdf)\n",
    "    except:\n",
    "        continue\n",
    "df['incidences_trap'] = df['AC']\n",
    "df.to_csv(\"odds_ratio_module/data/PR_IR_AF_2010_2019_pm10.csv\", index=False)"
   ]
  },
  {
   "cell_type": "code",
   "execution_count": 26,
   "id": "6aa60db7",
   "metadata": {},
   "outputs": [
    {
     "name": "stderr",
     "output_type": "stream",
     "text": [
      "C:\\Users\\harsh\\AppData\\Local\\Temp\\ipykernel_35704\\3299720030.py:17: FutureWarning: The frame.append method is deprecated and will be removed from pandas in a future version. Use pandas.concat instead.\n",
      "  combined_df = combined_df.append(mdf)\n",
      "C:\\Users\\harsh\\AppData\\Local\\Temp\\ipykernel_35704\\3299720030.py:17: FutureWarning: The frame.append method is deprecated and will be removed from pandas in a future version. Use pandas.concat instead.\n",
      "  combined_df = combined_df.append(mdf)\n",
      "C:\\Users\\harsh\\AppData\\Local\\Temp\\ipykernel_35704\\3299720030.py:17: FutureWarning: The frame.append method is deprecated and will be removed from pandas in a future version. Use pandas.concat instead.\n",
      "  combined_df = combined_df.append(mdf)\n",
      "C:\\Users\\harsh\\AppData\\Local\\Temp\\ipykernel_35704\\3299720030.py:17: FutureWarning: The frame.append method is deprecated and will be removed from pandas in a future version. Use pandas.concat instead.\n",
      "  combined_df = combined_df.append(mdf)\n",
      "C:\\Users\\harsh\\AppData\\Local\\Temp\\ipykernel_35704\\3299720030.py:17: FutureWarning: The frame.append method is deprecated and will be removed from pandas in a future version. Use pandas.concat instead.\n",
      "  combined_df = combined_df.append(mdf)\n",
      "C:\\Users\\harsh\\AppData\\Local\\Temp\\ipykernel_35704\\3299720030.py:17: FutureWarning: The frame.append method is deprecated and will be removed from pandas in a future version. Use pandas.concat instead.\n",
      "  combined_df = combined_df.append(mdf)\n",
      "C:\\Users\\harsh\\AppData\\Local\\Temp\\ipykernel_35704\\3299720030.py:17: FutureWarning: The frame.append method is deprecated and will be removed from pandas in a future version. Use pandas.concat instead.\n",
      "  combined_df = combined_df.append(mdf)\n",
      "C:\\Users\\harsh\\AppData\\Local\\Temp\\ipykernel_35704\\3299720030.py:17: FutureWarning: The frame.append method is deprecated and will be removed from pandas in a future version. Use pandas.concat instead.\n",
      "  combined_df = combined_df.append(mdf)\n",
      "C:\\Users\\harsh\\AppData\\Local\\Temp\\ipykernel_35704\\3299720030.py:17: FutureWarning: The frame.append method is deprecated and will be removed from pandas in a future version. Use pandas.concat instead.\n",
      "  combined_df = combined_df.append(mdf)\n",
      "C:\\Users\\harsh\\AppData\\Local\\Temp\\ipykernel_35704\\3299720030.py:17: FutureWarning: The frame.append method is deprecated and will be removed from pandas in a future version. Use pandas.concat instead.\n",
      "  combined_df = combined_df.append(mdf)\n"
     ]
    }
   ],
   "source": [
    "def calculate_trap_inc(row):\n",
    "    population, pr, ir, af = row['population_x'], row['PR'], row['IR'], row['SAF']\n",
    "    at_risk = population * (1- pr)\n",
    "    trap_inc = at_risk*ir*af\n",
    "    return trap_inc\n",
    "\n",
    "data_file = \"data/lur_no2/lur_no2_merged_with_pop_v5.csv\"\n",
    "filepath = \"odds_ratio_module/data/{}/PR_IR_AF_{}.csv\"\n",
    "combined_df = pd.DataFrame()\n",
    "for year in range(2010, 2020):\n",
    "    try:\n",
    "        df = pd.read_csv(data_file)\n",
    "        df = df[df['year'] == year]\n",
    "        af_df = pd.read_csv(filepath.format(year, pollutant))\n",
    "        mdf = df.merge(af_df, on='state_code', how='left')\n",
    "        mdf['incidences_trap'] = mdf.apply(calculate_trap_inc, axis=1)\n",
    "        combined_df = combined_df.append(mdf)\n",
    "    except:\n",
    "        pass"
   ]
  },
  {
   "cell_type": "code",
   "execution_count": 27,
   "id": "09f09fee",
   "metadata": {},
   "outputs": [],
   "source": [
    "rs = combined_df.groupby(['state_code', 'year']).agg({'incidences_trap': 'sum'}).reset_index()"
   ]
  },
  {
   "cell_type": "code",
   "execution_count": 28,
   "id": "caf04e64",
   "metadata": {},
   "outputs": [
    {
     "data": {
      "text/html": [
       "<div>\n",
       "<style scoped>\n",
       "    .dataframe tbody tr th:only-of-type {\n",
       "        vertical-align: middle;\n",
       "    }\n",
       "\n",
       "    .dataframe tbody tr th {\n",
       "        vertical-align: top;\n",
       "    }\n",
       "\n",
       "    .dataframe thead th {\n",
       "        text-align: right;\n",
       "    }\n",
       "</style>\n",
       "<table border=\"1\" class=\"dataframe\">\n",
       "  <thead>\n",
       "    <tr style=\"text-align: right;\">\n",
       "      <th></th>\n",
       "      <th>state_code</th>\n",
       "      <th>year</th>\n",
       "      <th>incidences_trap</th>\n",
       "    </tr>\n",
       "  </thead>\n",
       "  <tbody>\n",
       "    <tr>\n",
       "      <th>20</th>\n",
       "      <td>4</td>\n",
       "      <td>2010</td>\n",
       "      <td>5267.070674</td>\n",
       "    </tr>\n",
       "    <tr>\n",
       "      <th>21</th>\n",
       "      <td>4</td>\n",
       "      <td>2011</td>\n",
       "      <td>4534.332967</td>\n",
       "    </tr>\n",
       "    <tr>\n",
       "      <th>22</th>\n",
       "      <td>4</td>\n",
       "      <td>2012</td>\n",
       "      <td>5040.416359</td>\n",
       "    </tr>\n",
       "    <tr>\n",
       "      <th>23</th>\n",
       "      <td>4</td>\n",
       "      <td>2013</td>\n",
       "      <td>4218.856342</td>\n",
       "    </tr>\n",
       "    <tr>\n",
       "      <th>24</th>\n",
       "      <td>4</td>\n",
       "      <td>2014</td>\n",
       "      <td>5119.503107</td>\n",
       "    </tr>\n",
       "    <tr>\n",
       "      <th>25</th>\n",
       "      <td>4</td>\n",
       "      <td>2015</td>\n",
       "      <td>4845.117042</td>\n",
       "    </tr>\n",
       "    <tr>\n",
       "      <th>26</th>\n",
       "      <td>4</td>\n",
       "      <td>2016</td>\n",
       "      <td>5866.110816</td>\n",
       "    </tr>\n",
       "    <tr>\n",
       "      <th>27</th>\n",
       "      <td>4</td>\n",
       "      <td>2017</td>\n",
       "      <td>5748.901604</td>\n",
       "    </tr>\n",
       "    <tr>\n",
       "      <th>28</th>\n",
       "      <td>4</td>\n",
       "      <td>2018</td>\n",
       "      <td>4432.825777</td>\n",
       "    </tr>\n",
       "    <tr>\n",
       "      <th>29</th>\n",
       "      <td>4</td>\n",
       "      <td>2019</td>\n",
       "      <td>3077.180214</td>\n",
       "    </tr>\n",
       "  </tbody>\n",
       "</table>\n",
       "</div>"
      ],
      "text/plain": [
       "    state_code  year  incidences_trap\n",
       "20           4  2010      5267.070674\n",
       "21           4  2011      4534.332967\n",
       "22           4  2012      5040.416359\n",
       "23           4  2013      4218.856342\n",
       "24           4  2014      5119.503107\n",
       "25           4  2015      4845.117042\n",
       "26           4  2016      5866.110816\n",
       "27           4  2017      5748.901604\n",
       "28           4  2018      4432.825777\n",
       "29           4  2019      3077.180214"
      ]
     },
     "execution_count": 28,
     "metadata": {},
     "output_type": "execute_result"
    }
   ],
   "source": [
    "rs[rs['state_code']==4]"
   ]
  },
  {
   "cell_type": "code",
   "execution_count": null,
   "id": "5f6461c0",
   "metadata": {},
   "outputs": [],
   "source": []
  }
 ],
 "metadata": {
  "kernelspec": {
   "display_name": "Python 3 (ipykernel)",
   "language": "python",
   "name": "python3"
  },
  "language_info": {
   "codemirror_mode": {
    "name": "ipython",
    "version": 3
   },
   "file_extension": ".py",
   "mimetype": "text/x-python",
   "name": "python",
   "nbconvert_exporter": "python",
   "pygments_lexer": "ipython3",
   "version": "3.8.10"
  }
 },
 "nbformat": 4,
 "nbformat_minor": 5
}
