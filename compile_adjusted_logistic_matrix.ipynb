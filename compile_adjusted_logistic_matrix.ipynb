{
 "cells": [
  {
   "cell_type": "code",
   "execution_count": 1,
   "id": "4c25430b",
   "metadata": {},
   "outputs": [],
   "source": [
    "import os\n",
    "import pandas as pd"
   ]
  },
  {
   "cell_type": "code",
   "execution_count": 4,
   "id": "6a5f67ba",
   "metadata": {},
   "outputs": [],
   "source": [
    "syear, eyear = 2010, 2019\n",
    "path = \"odds_ratio_module/data/\""
   ]
  },
  {
   "cell_type": "code",
   "execution_count": 10,
   "id": "3c431786",
   "metadata": {},
   "outputs": [
    {
     "name": "stdout",
     "output_type": "stream",
     "text": [
      "[2010, 31, 1.9457897213608608]\n",
      "[2019, 6, 0.9079520369808816]\n",
      "[2019, 9, 1.2465908667165515]\n",
      "[2019, 11, 1.272628869192853]\n",
      "[2019, 12, 0.8728608025353474]\n",
      "[2019, 13, 0.9183913095342124]\n",
      "[2019, 15, 0.959069251420852]\n",
      "[2019, 17, 0.8349803823912757]\n",
      "[2019, 18, 0.9661848007769984]\n",
      "[2019, 20, 1.3625483614184914]\n",
      "[2019, 23, 1.1349632000839505]\n",
      "[2019, 26, 1.1472931493002383]\n",
      "[2019, 27, 0.7909372424940752]\n",
      "[2019, 28, 0.733129129949508]\n",
      "[2019, 29, 0.908858589834357]\n",
      "[2019, 30, 0.9752715756212696]\n",
      "[2019, 31, 0.838266187345664]\n",
      "[2019, 32, 0.8847203443033351]\n",
      "[2019, 33, 1.120187666513888]\n",
      "[2019, 35, 0.8200969446088064]\n",
      "[2019, 39, 0.9349995478790876]\n",
      "[2019, 41, 0.8263358174284784]\n",
      "[2019, 42, 1.2542617765617423]\n",
      "[2019, 44, 1.175278919220895]\n",
      "[2019, 48, 0.9739009027684472]\n",
      "[2019, 49, 0.9577273980975742]\n",
      "[2019, 50, 1.2773603488262129]\n",
      "[2019, 55, 0.5133021941618963]\n"
     ]
    }
   ],
   "source": [
    "data = []\n",
    "for year in range(syear, eyear+1):\n",
    "    for state_code in range(1, 57):\n",
    "        filename = \"{}/{}/odds_ratio_CHILD_{}.0.csv\".format(path, year, state_code)\n",
    "        if os.path.exists(filename):\n",
    "            tdf = pd.read_csv(filename, index_col=0)\n",
    "            odds = tdf.loc[\"NONCARB\", \"Odds Ratio\"]\n",
    "            row = [year, state_code, odds]\n",
    "            data.append(row)\n",
    "columns = ['year', 'state_code', 'aOR']\n",
    "df = pd.DataFrame(columns=columns, data=data)\n",
    "df.to_csv(\"odds_ratio_module/statewise_aOR.csv\".format(path), index=False)"
   ]
  },
  {
   "cell_type": "code",
   "execution_count": null,
   "id": "f7b01837",
   "metadata": {},
   "outputs": [],
   "source": []
  }
 ],
 "metadata": {
  "kernelspec": {
   "display_name": "Python 3 (ipykernel)",
   "language": "python",
   "name": "python3"
  },
  "language_info": {
   "codemirror_mode": {
    "name": "ipython",
    "version": 3
   },
   "file_extension": ".py",
   "mimetype": "text/x-python",
   "name": "python",
   "nbconvert_exporter": "python",
   "pygments_lexer": "ipython3",
   "version": "3.8.10"
  }
 },
 "nbformat": 4,
 "nbformat_minor": 5
}
