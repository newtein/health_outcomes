{
 "cells": [
  {
   "cell_type": "code",
   "execution_count": 1,
   "id": "82f6d198",
   "metadata": {},
   "outputs": [],
   "source": [
    "import pandas as pd"
   ]
  },
  {
   "cell_type": "code",
   "execution_count": 5,
   "id": "b25277bb",
   "metadata": {},
   "outputs": [],
   "source": [
    "df1 = pd.read_csv(\"data/CENSUS/sc-est2019-agesex-civ.csv\")\n",
    "df2 = pd.read_csv(\"data/CENSUS/sc-est2021-agesex-civ.csv\")"
   ]
  },
  {
   "cell_type": "code",
   "execution_count": 6,
   "id": "c926c07d",
   "metadata": {},
   "outputs": [
    {
     "data": {
      "text/plain": [
       "(Index(['SUMLEV', 'REGION', 'DIVISION', 'STATE', 'NAME', 'SEX', 'AGE',\n",
       "        'ESTBASE2010_CIV', 'POPEST2010_CIV', 'POPEST2011_CIV', 'POPEST2012_CIV',\n",
       "        'POPEST2013_CIV', 'POPEST2014_CIV', 'POPEST2015_CIV', 'POPEST2016_CIV',\n",
       "        'POPEST2017_CIV', 'POPEST2018_CIV', 'POPEST2019_CIV'],\n",
       "       dtype='object'),\n",
       " Index(['SUMLEV', 'REGION', 'DIVISION', 'STATE', 'NAME', 'SEX', 'AGE',\n",
       "        'ESTBASE2020_CIV', 'POPEST2020_CIV', 'POPEST2021_CIV'],\n",
       "       dtype='object'))"
      ]
     },
     "execution_count": 6,
     "metadata": {},
     "output_type": "execute_result"
    }
   ],
   "source": [
    "df1.columns, df2.columns"
   ]
  },
  {
   "cell_type": "code",
   "execution_count": 7,
   "id": "d52ff915",
   "metadata": {},
   "outputs": [
    {
     "data": {
      "text/plain": [
       "((13572, 18), (13572, 10))"
      ]
     },
     "execution_count": 7,
     "metadata": {},
     "output_type": "execute_result"
    }
   ],
   "source": [
    "df1.shape, df2.shape"
   ]
  },
  {
   "cell_type": "code",
   "execution_count": null,
   "id": "bbf8822d",
   "metadata": {},
   "outputs": [],
   "source": []
  }
 ],
 "metadata": {
  "kernelspec": {
   "display_name": "Python 3 (ipykernel)",
   "language": "python",
   "name": "python3"
  },
  "language_info": {
   "codemirror_mode": {
    "name": "ipython",
    "version": 3
   },
   "file_extension": ".py",
   "mimetype": "text/x-python",
   "name": "python",
   "nbconvert_exporter": "python",
   "pygments_lexer": "ipython3",
   "version": "3.10.4"
  }
 },
 "nbformat": 4,
 "nbformat_minor": 5
}
