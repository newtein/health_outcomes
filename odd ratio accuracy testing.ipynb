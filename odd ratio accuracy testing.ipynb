{
 "cells": [
  {
   "cell_type": "code",
   "execution_count": 1,
   "metadata": {},
   "outputs": [],
   "source": [
    "from prepare_data_for_modeling_or import ModelingData\n",
    "import statsmodels.api as sm\n",
    "from constants import *\n",
    "import numpy as np\n",
    "from sklearn.metrics import accuracy_score\n"
   ]
  },
  {
   "cell_type": "code",
   "execution_count": 2,
   "metadata": {},
   "outputs": [
    {
     "name": "stdout",
     "output_type": "stream",
     "text": [
      "File already exists: reading now...\n",
      "File already exists: reading now...\n",
      "File already exists: reading now...\n"
     ]
    }
   ],
   "source": [
    "obj = ModelingData()"
   ]
  },
  {
   "cell_type": "code",
   "execution_count": 3,
   "metadata": {},
   "outputs": [],
   "source": [
    "mdf = obj.get_data_with_pop()"
   ]
  },
  {
   "cell_type": "code",
   "execution_count": 4,
   "metadata": {},
   "outputs": [
    {
     "data": {
      "text/plain": [
       "13333118090.0"
      ]
     },
     "execution_count": 4,
     "metadata": {},
     "output_type": "execute_result"
    }
   ],
   "source": [
    "mdf['POVERTY_GUIDE'].sum()"
   ]
  },
  {
   "cell_type": "code",
   "execution_count": 5,
   "metadata": {},
   "outputs": [],
   "source": [
    "def fit_logistic(X, y):\n",
    "    res = sm.Logit(y, X).fit()\n",
    "    params = res.params\n",
    "    conf = res.conf_int()\n",
    "    conf['Odds Ratio'] = params\n",
    "    conf.columns = ['5%', '95%', 'Odds Ratio']\n",
    "    prediction = res.predict(X).apply(lambda x: 0 if x<0.5 else 1).tolist()\n",
    "    print(\"Accuracy: \", accuracy_score(y,prediction))\n",
    "    print(np.exp(conf))\n",
    "    return conf, res"
   ]
  },
  {
   "cell_type": "code",
   "execution_count": 6,
   "metadata": {},
   "outputs": [],
   "source": [
    "sc = MODELING_COLUMNS + ['_INCOMG']"
   ]
  },
  {
   "cell_type": "code",
   "execution_count": 7,
   "metadata": {},
   "outputs": [],
   "source": [
    "df = mdf[sc]"
   ]
  },
  {
   "cell_type": "code",
   "execution_count": 8,
   "metadata": {},
   "outputs": [
    {
     "data": {
      "text/html": [
       "<div>\n",
       "<style scoped>\n",
       "    .dataframe tbody tr th:only-of-type {\n",
       "        vertical-align: middle;\n",
       "    }\n",
       "\n",
       "    .dataframe tbody tr th {\n",
       "        vertical-align: top;\n",
       "    }\n",
       "\n",
       "    .dataframe thead th {\n",
       "        text-align: right;\n",
       "    }\n",
       "</style>\n",
       "<table border=\"1\" class=\"dataframe\">\n",
       "  <thead>\n",
       "    <tr style=\"text-align: right;\">\n",
       "      <th></th>\n",
       "      <th>TAILPIPE</th>\n",
       "      <th>_AGEG5YR</th>\n",
       "      <th>SEX</th>\n",
       "      <th>_RACE_G1</th>\n",
       "      <th>POVERTY</th>\n",
       "      <th>POPEST2017_CIV</th>\n",
       "      <th>_EDUCAG</th>\n",
       "      <th>_BMI5CAT</th>\n",
       "      <th>ASTHMA</th>\n",
       "      <th>_INCOMG</th>\n",
       "    </tr>\n",
       "  </thead>\n",
       "  <tbody>\n",
       "    <tr>\n",
       "      <th>0</th>\n",
       "      <td>0</td>\n",
       "      <td>5.0</td>\n",
       "      <td>1.0</td>\n",
       "      <td>1.0</td>\n",
       "      <td>0.0</td>\n",
       "      <td>-0.204798</td>\n",
       "      <td>2.0</td>\n",
       "      <td>2.0</td>\n",
       "      <td>0</td>\n",
       "      <td>3.0</td>\n",
       "    </tr>\n",
       "    <tr>\n",
       "      <th>1</th>\n",
       "      <td>0</td>\n",
       "      <td>8.0</td>\n",
       "      <td>2.0</td>\n",
       "      <td>1.0</td>\n",
       "      <td>0.0</td>\n",
       "      <td>-0.204798</td>\n",
       "      <td>2.0</td>\n",
       "      <td>3.0</td>\n",
       "      <td>0</td>\n",
       "      <td>5.0</td>\n",
       "    </tr>\n",
       "    <tr>\n",
       "      <th>2</th>\n",
       "      <td>0</td>\n",
       "      <td>1.0</td>\n",
       "      <td>1.0</td>\n",
       "      <td>1.0</td>\n",
       "      <td>NaN</td>\n",
       "      <td>-0.204798</td>\n",
       "      <td>2.0</td>\n",
       "      <td>2.0</td>\n",
       "      <td>0</td>\n",
       "      <td>9.0</td>\n",
       "    </tr>\n",
       "    <tr>\n",
       "      <th>3</th>\n",
       "      <td>0</td>\n",
       "      <td>10.0</td>\n",
       "      <td>2.0</td>\n",
       "      <td>1.0</td>\n",
       "      <td>NaN</td>\n",
       "      <td>-0.204798</td>\n",
       "      <td>2.0</td>\n",
       "      <td>NaN</td>\n",
       "      <td>0</td>\n",
       "      <td>9.0</td>\n",
       "    </tr>\n",
       "    <tr>\n",
       "      <th>4</th>\n",
       "      <td>0</td>\n",
       "      <td>12.0</td>\n",
       "      <td>2.0</td>\n",
       "      <td>1.0</td>\n",
       "      <td>0.0</td>\n",
       "      <td>-0.204798</td>\n",
       "      <td>3.0</td>\n",
       "      <td>4.0</td>\n",
       "      <td>1</td>\n",
       "      <td>5.0</td>\n",
       "    </tr>\n",
       "    <tr>\n",
       "      <th>...</th>\n",
       "      <td>...</td>\n",
       "      <td>...</td>\n",
       "      <td>...</td>\n",
       "      <td>...</td>\n",
       "      <td>...</td>\n",
       "      <td>...</td>\n",
       "      <td>...</td>\n",
       "      <td>...</td>\n",
       "      <td>...</td>\n",
       "      <td>...</td>\n",
       "    </tr>\n",
       "    <tr>\n",
       "      <th>747245</th>\n",
       "      <td>0</td>\n",
       "      <td>7.0</td>\n",
       "      <td>1.0</td>\n",
       "      <td>3.0</td>\n",
       "      <td>1.0</td>\n",
       "      <td>NaN</td>\n",
       "      <td>2.0</td>\n",
       "      <td>3.0</td>\n",
       "      <td>0</td>\n",
       "      <td>2.0</td>\n",
       "    </tr>\n",
       "    <tr>\n",
       "      <th>747246</th>\n",
       "      <td>0</td>\n",
       "      <td>2.0</td>\n",
       "      <td>2.0</td>\n",
       "      <td>3.0</td>\n",
       "      <td>0.0</td>\n",
       "      <td>NaN</td>\n",
       "      <td>4.0</td>\n",
       "      <td>4.0</td>\n",
       "      <td>1</td>\n",
       "      <td>3.0</td>\n",
       "    </tr>\n",
       "    <tr>\n",
       "      <th>747247</th>\n",
       "      <td>0</td>\n",
       "      <td>11.0</td>\n",
       "      <td>2.0</td>\n",
       "      <td>3.0</td>\n",
       "      <td>NaN</td>\n",
       "      <td>NaN</td>\n",
       "      <td>3.0</td>\n",
       "      <td>1.0</td>\n",
       "      <td>0</td>\n",
       "      <td>9.0</td>\n",
       "    </tr>\n",
       "    <tr>\n",
       "      <th>747248</th>\n",
       "      <td>0</td>\n",
       "      <td>10.0</td>\n",
       "      <td>2.0</td>\n",
       "      <td>3.0</td>\n",
       "      <td>0.0</td>\n",
       "      <td>NaN</td>\n",
       "      <td>4.0</td>\n",
       "      <td>NaN</td>\n",
       "      <td>0</td>\n",
       "      <td>3.0</td>\n",
       "    </tr>\n",
       "    <tr>\n",
       "      <th>747249</th>\n",
       "      <td>0</td>\n",
       "      <td>6.0</td>\n",
       "      <td>2.0</td>\n",
       "      <td>3.0</td>\n",
       "      <td>0.0</td>\n",
       "      <td>NaN</td>\n",
       "      <td>4.0</td>\n",
       "      <td>3.0</td>\n",
       "      <td>0</td>\n",
       "      <td>3.0</td>\n",
       "    </tr>\n",
       "  </tbody>\n",
       "</table>\n",
       "<p>747250 rows × 10 columns</p>\n",
       "</div>"
      ],
      "text/plain": [
       "        TAILPIPE  _AGEG5YR  SEX  _RACE_G1  POVERTY  POPEST2017_CIV  _EDUCAG  \\\n",
       "0              0       5.0  1.0       1.0      0.0       -0.204798      2.0   \n",
       "1              0       8.0  2.0       1.0      0.0       -0.204798      2.0   \n",
       "2              0       1.0  1.0       1.0      NaN       -0.204798      2.0   \n",
       "3              0      10.0  2.0       1.0      NaN       -0.204798      2.0   \n",
       "4              0      12.0  2.0       1.0      0.0       -0.204798      3.0   \n",
       "...          ...       ...  ...       ...      ...             ...      ...   \n",
       "747245         0       7.0  1.0       3.0      1.0             NaN      2.0   \n",
       "747246         0       2.0  2.0       3.0      0.0             NaN      4.0   \n",
       "747247         0      11.0  2.0       3.0      NaN             NaN      3.0   \n",
       "747248         0      10.0  2.0       3.0      0.0             NaN      4.0   \n",
       "747249         0       6.0  2.0       3.0      0.0             NaN      4.0   \n",
       "\n",
       "        _BMI5CAT  ASTHMA  _INCOMG  \n",
       "0            2.0       0      3.0  \n",
       "1            3.0       0      5.0  \n",
       "2            2.0       0      9.0  \n",
       "3            NaN       0      9.0  \n",
       "4            4.0       1      5.0  \n",
       "...          ...     ...      ...  \n",
       "747245       3.0       0      2.0  \n",
       "747246       4.0       1      3.0  \n",
       "747247       1.0       0      9.0  \n",
       "747248       NaN       0      3.0  \n",
       "747249       3.0       0      3.0  \n",
       "\n",
       "[747250 rows x 10 columns]"
      ]
     },
     "execution_count": 8,
     "metadata": {},
     "output_type": "execute_result"
    }
   ],
   "source": [
    "df"
   ]
  },
  {
   "cell_type": "code",
   "execution_count": 9,
   "metadata": {},
   "outputs": [
    {
     "name": "stdout",
     "output_type": "stream",
     "text": [
      "_RACE_G1\n",
      "POVERTY\n",
      "POPEST2017_CIV\n",
      "_BMI5CAT\n"
     ]
    },
    {
     "name": "stderr",
     "output_type": "stream",
     "text": [
      "c:\\users\\administrator\\appdata\\local\\programs\\python\\python37\\lib\\site-packages\\ipykernel_launcher.py:5: SettingWithCopyWarning: \n",
      "A value is trying to be set on a copy of a slice from a DataFrame.\n",
      "Try using .loc[row_indexer,col_indexer] = value instead\n",
      "\n",
      "See the caveats in the documentation: https://pandas.pydata.org/pandas-docs/stable/user_guide/indexing.html#returning-a-view-versus-a-copy\n",
      "  \"\"\"\n"
     ]
    }
   ],
   "source": [
    "# keeping the same method for fillna\n",
    "for column in df.columns:\n",
    "    if df[column].isna().mean() > 0:\n",
    "        print(column)\n",
    "        df[column] = df[column].fillna(df[column].mode()[0])"
   ]
  },
  {
   "cell_type": "code",
   "execution_count": 10,
   "metadata": {},
   "outputs": [
    {
     "name": "stdout",
     "output_type": "stream",
     "text": [
      "Optimization terminated successfully.\n",
      "         Current function value: 0.297962\n",
      "         Iterations 7\n",
      "Accuracy:  0.9141237872198059\n",
      "                      5%       95%  Odds Ratio\n",
      "TAILPIPE        1.080235  1.120927    1.100393\n",
      "_AGEG5YR        0.932296  0.936237    0.934264\n",
      "SEX             1.048688  1.077385    1.062940\n",
      "_RACE_G1        0.805283  0.819884    0.812551\n",
      "POVERTY         0.796461  0.845339    0.820536\n",
      "POPEST2017_CIV  0.949196  0.963132    0.956139\n",
      "_EDUCAG         0.741512  0.752329    0.746901\n",
      "_BMI5CAT        0.941968  0.957349    0.949627\n",
      "_INCOMG         0.877797  0.884642    0.881213\n"
     ]
    }
   ],
   "source": [
    "# A: just adding poverty/no income\n",
    "X = df.drop(['ASTHMA'], axis=1)\n",
    "y = df['ASTHMA']\n",
    "conf, res = fit_logistic(X, y)"
   ]
  },
  {
   "cell_type": "code",
   "execution_count": 17,
   "metadata": {},
   "outputs": [
    {
     "name": "stdout",
     "output_type": "stream",
     "text": [
      "Optimization terminated successfully.\n",
      "         Current function value: 0.300981\n",
      "         Iterations 7\n",
      "Accuracy:  0.9141237872198059\n",
      "                5%       95%  Odds Ratio\n",
      "TAILPIPE  1.021190  1.058635    1.039744\n",
      "_AGEG5YR  0.928974  0.932861    0.930915\n",
      "SEX       0.961610  0.987870    0.974651\n",
      "_RACE_G1  0.770755  0.784736    0.777714\n",
      "POVERTY   1.169568  1.236341    1.202491\n",
      "_EDUCAG   0.691458  0.700922    0.696174\n",
      "_BMI5CAT  0.893516  0.907794    0.900627\n"
     ]
    }
   ],
   "source": [
    "# : just adding poverty removing income\n",
    "X = df.drop(['ASTHMA', '_INCOMG', 'POPEST2017_CIV'], axis=1)\n",
    "y = df['ASTHMA']\n",
    "conf, res = fit_logistic(X, y)"
   ]
  },
  {
   "cell_type": "code",
   "execution_count": 12,
   "metadata": {},
   "outputs": [],
   "source": [
    "df2 = mdf[sc]"
   ]
  },
  {
   "cell_type": "code",
   "execution_count": 13,
   "metadata": {},
   "outputs": [
    {
     "data": {
      "text/plain": [
       "TAILPIPE          0.000000\n",
       "_AGEG5YR          0.000000\n",
       "SEX               0.000000\n",
       "_RACE_G1          0.017295\n",
       "POVERTY           0.166773\n",
       "POPEST2017_CIV    0.019281\n",
       "_EDUCAG           0.000000\n",
       "_BMI5CAT          0.074042\n",
       "ASTHMA            0.000000\n",
       "_INCOMG           0.000000\n",
       "dtype: float64"
      ]
     },
     "execution_count": 13,
     "metadata": {},
     "output_type": "execute_result"
    }
   ],
   "source": [
    "df2.isna().mean()"
   ]
  },
  {
   "cell_type": "code",
   "execution_count": 14,
   "metadata": {},
   "outputs": [],
   "source": [
    "df2 = df2.dropna()"
   ]
  },
  {
   "cell_type": "code",
   "execution_count": 15,
   "metadata": {},
   "outputs": [
    {
     "name": "stdout",
     "output_type": "stream",
     "text": [
      "Optimization terminated successfully.\n",
      "         Current function value: 0.294294\n",
      "         Iterations 7\n",
      "Accuracy:  0.9143583609630531\n",
      "                      5%       95%  Odds Ratio\n",
      "TAILPIPE        1.123345  1.172146    1.147486\n",
      "_AGEG5YR        0.923133  0.927688    0.925407\n",
      "SEX             1.068258  1.102303    1.085147\n",
      "_RACE_G1        0.812318  0.829328    0.820779\n",
      "POVERTY         0.615151  0.657701    0.636070\n",
      "POPEST2017_CIV  0.943915  0.959894    0.951871\n",
      "_EDUCAG         0.841675  0.858103    0.849849\n",
      "_BMI5CAT        1.008834  1.027701    1.018224\n",
      "_INCOMG         0.732551  0.743244    0.737878\n"
     ]
    }
   ],
   "source": [
    "# C: [dropping na]just adding poverty\n",
    "X = df2.drop(['ASTHMA'], axis=1)\n",
    "y = df2['ASTHMA']\n",
    "conf, res = fit_logistic(X, y)"
   ]
  },
  {
   "cell_type": "code",
   "execution_count": 16,
   "metadata": {},
   "outputs": [
    {
     "name": "stdout",
     "output_type": "stream",
     "text": [
      "Optimization terminated successfully.\n",
      "         Current function value: 0.300082\n",
      "         Iterations 7\n",
      "Accuracy:  0.9143583609630531\n",
      "                      5%       95%  Odds Ratio\n",
      "TAILPIPE        1.058027  1.103684    1.080614\n",
      "_AGEG5YR        0.924192  0.928775    0.926481\n",
      "SEX             0.993199  1.024748    1.008850\n",
      "_RACE_G1        0.785600  0.802369    0.793940\n",
      "POVERTY         1.142097  1.214616    1.177798\n",
      "POPEST2017_CIV  0.950729  0.966666    0.958664\n",
      "_EDUCAG         0.667665  0.678288    0.672956\n",
      "_BMI5CAT        0.909310  0.925598    0.917418\n"
     ]
    }
   ],
   "source": [
    "# D: just adding poverty removing income\n",
    "X = df2.drop(['ASTHMA', '_INCOMG'], axis=1)\n",
    "y = df2['ASTHMA']\n",
    "conf, res = fit_logistic(X, y)"
   ]
  },
  {
   "cell_type": "code",
   "execution_count": null,
   "metadata": {},
   "outputs": [],
   "source": []
  },
  {
   "cell_type": "code",
   "execution_count": null,
   "metadata": {},
   "outputs": [],
   "source": []
  },
  {
   "cell_type": "code",
   "execution_count": null,
   "metadata": {},
   "outputs": [],
   "source": []
  }
 ],
 "metadata": {
  "kernelspec": {
   "display_name": "Python 3 (ipykernel)",
   "language": "python",
   "name": "python3"
  },
  "language_info": {
   "codemirror_mode": {
    "name": "ipython",
    "version": 3
   },
   "file_extension": ".py",
   "mimetype": "text/x-python",
   "name": "python",
   "nbconvert_exporter": "python",
   "pygments_lexer": "ipython3",
   "version": "3.10.4"
  }
 },
 "nbformat": 4,
 "nbformat_minor": 4
}
