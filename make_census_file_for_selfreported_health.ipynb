{
 "cells": [
  {
   "cell_type": "code",
   "execution_count": 16,
   "id": "818d1377",
   "metadata": {},
   "outputs": [],
   "source": [
    "import pandas as pd\n",
    "from constants import *"
   ]
  },
  {
   "cell_type": "code",
   "execution_count": 17,
   "id": "037f6f9d",
   "metadata": {},
   "outputs": [],
   "source": [
    "epa_region = pd.read_csv(\"data/states_and_counties.csv\")\n",
    "epa_region = epa_region[['State Name','State Code', \"EPA Region\"]]\n",
    "epa_region = epa_region[epa_region['State Code'] != 'CC']\n",
    "epa_region['State Code'] = epa_region['State Code'].apply(int)\n",
    "epa_region = epa_region.drop_duplicates(['State Code'], keep='first')"
   ]
  },
  {
   "cell_type": "code",
   "execution_count": 18,
   "id": "ca3070f4",
   "metadata": {},
   "outputs": [],
   "source": [
    "epa_region = epa_region[epa_region['State Name']!='Country Of Mexico']"
   ]
  },
  {
   "cell_type": "code",
   "execution_count": 19,
   "id": "19bc85f8",
   "metadata": {},
   "outputs": [],
   "source": [
    "CENSUS_REGIONS = {\n",
    "\n",
    "    1: \"Connecticut, Maine, Massachusetts, New Hampshire, Rhode Island, Vermont, New Jersey, New York, Pennsylvania\",\n",
    "    2: \"Illinois, Indiana, Michigan, Ohio, Wisconsin, Iowa, Kansas, Minnesota, Missouri, Nebraska, North Dakota, South Dakota\",\n",
    "    3: \"Delaware, Florida, Georgia, Maryland, North Carolina, South Carolina, Virginia, Washington, District Of Columbia, West Virginia, Alabama, Kentucky, Mississippi, Tennessee, Arkansas, Louisiana, Oklahoma, Texas\",\n",
    "    4: \"Arizona, Colorado, Idaho, Montana, Nevada, New Mexico, Utah, Wyoming, Alaska, California, Hawaii, Oregon, Washington\",\n",
    "    5: \"Guam, Puerto Rico, Virgin Islands\"\n",
    "\n",
    "}\n",
    "\n",
    "CENSUS_REG_NAME = {\n",
    "    1: \"Northeast\",\n",
    "    2: \"Midwest\",\n",
    "    3: \"South\",\n",
    "    4: \"West\",\n",
    "    5: \"Territories\"\n",
    "}\n",
    "\n",
    "CENSUS_DIVISIONS = {\n",
    "    1: \"Connecticut, Maine, Massachusetts, New Hampshire, Rhode Island, Vermont\",\n",
    "    2: \"New Jersey, New York, Pennsylvania\",\n",
    "    3: \"Illinois, Indiana, Michigan, Ohio, Wisconsin\",\n",
    "    4: \"Iowa, Kansas, Minnesota, Missouri, Nebraska, North Dakota, South Dakota\",\n",
    "    5: \"Delaware, Florida, Georgia, Maryland, North Carolina, South Carolina, Virginia, Washington, District Of Columbia, West Virginia\",\n",
    "    6: \"Alabama, Kentucky, Mississippi, Tennessee\",\n",
    "    7: \"Arkansas, Louisiana, Oklahoma, Texas\",\n",
    "    8: \"Arizona, Colorado, Idaho, Montana, Nevada, New Mexico, Utah, Wyoming\",\n",
    "    9: \"Alaska, California, Hawaii, Oregon, Washington\",\n",
    "    10: \"Guam, Puerto Rico, Virgin Islands\"\n",
    "}\n",
    "\n",
    "CENSUS_DIV_NAME = {\n",
    "    1: \"New England\",\n",
    "    2: \"Middle Atlantic\",\n",
    "    3: \"East North Central\",\n",
    "    4: \"West North Central\",\n",
    "    5: \"South Atlantic\",\n",
    "    6: \"East South Central\",\n",
    "    7: \"West South Central\",\n",
    "    8: \"Mountain\",\n",
    "    9: \"Pacific\",\n",
    "    10: \"Territories\"\n",
    "}"
   ]
  },
  {
   "cell_type": "code",
   "execution_count": 20,
   "id": "1a8fa938",
   "metadata": {},
   "outputs": [],
   "source": [
    "REGION_DICT = {i: [k.strip() for k in j.split(\",\")] for i, j in CENSUS_REGIONS.items()}\n",
    "REGION_LOOKUP = {k: i for i, j in REGION_DICT.items() for k in j}\n",
    "\n",
    "DIV_DICT = {i: [k.strip() for k in j.split(\",\")] for i, j in CENSUS_DIVISIONS.items()}\n",
    "DIV_LOOKUP = {k:i for i, j in DIV_DICT.items() for k in j}"
   ]
  },
  {
   "cell_type": "code",
   "execution_count": 26,
   "id": "44d29511",
   "metadata": {},
   "outputs": [],
   "source": [
    "epa_region['REGION'] = epa_region['State Name'].apply(lambda x: REGION_LOOKUP.get(x))\n",
    "epa_region['REGION_NAME'] = epa_region['REGION'].apply(lambda x: CENSUS_REG_NAME.get(x))\n",
    "\n",
    "epa_region['DIVISION'] = epa_region['State Name'].apply(lambda x: DIV_LOOKUP.get(x))\n",
    "epa_region['DIVISION_NAME'] = epa_region['DIVISION'].apply(lambda x: CENSUS_DIV_NAME.get(x))\n"
   ]
  },
  {
   "cell_type": "code",
   "execution_count": 28,
   "id": "7c0bdf6d",
   "metadata": {},
   "outputs": [],
   "source": [
    "columns = ['State Name', 'State Code', \"REGION\", \"REGION_NAME\", \"DIVISION\", \"DIVISION_NAME\"]\n",
    "epa_region[columns].to_csv(\"output_files/state_code_to_region_mapping.csv\", index=False)"
   ]
  },
  {
   "cell_type": "code",
   "execution_count": null,
   "id": "e4ddf85c",
   "metadata": {},
   "outputs": [],
   "source": []
  }
 ],
 "metadata": {
  "kernelspec": {
   "display_name": "Python 3 (ipykernel)",
   "language": "python",
   "name": "python3"
  },
  "language_info": {
   "codemirror_mode": {
    "name": "ipython",
    "version": 3
   },
   "file_extension": ".py",
   "mimetype": "text/x-python",
   "name": "python",
   "nbconvert_exporter": "python",
   "pygments_lexer": "ipython3",
   "version": "3.8.10"
  }
 },
 "nbformat": 4,
 "nbformat_minor": 5
}
