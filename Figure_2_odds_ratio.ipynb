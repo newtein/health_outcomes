{
 "cells": [
  {
   "cell_type": "code",
   "execution_count": 25,
   "id": "cb0aa192",
   "metadata": {},
   "outputs": [],
   "source": [
    "import pandas as pd\n",
    "from constants import *\n",
    "import matplotlib.pyplot as plt\n",
    "import numpy as np\n",
    "import seaborn as sns\n",
    "import matplotlib.gridspec as gridspec\n",
    "import csv\n",
    "from collections import OrderedDict"
   ]
  },
  {
   "cell_type": "code",
   "execution_count": 26,
   "id": "dc62cab5",
   "metadata": {},
   "outputs": [],
   "source": [
    "PATH = \"odds_ratio_module/data\""
   ]
  },
  {
   "cell_type": "code",
   "execution_count": 27,
   "id": "d59190c1",
   "metadata": {},
   "outputs": [
    {
     "name": "stdout",
     "output_type": "stream",
     "text": [
      "['odds_ratio_module/data/2016/EPA Region 0 Odds Ratio CHILD.csv', 'odds_ratio_module/data/2016_2017/EPA Region 0 Odds Ratio CHILD.csv', 'odds_ratio_module/data/2016_2017_2018/EPA Region 0 Odds Ratio CHILD.csv', 'odds_ratio_module/data/2016_2017_2018_2019/EPA Region 0 Odds Ratio CHILD.csv', 'odds_ratio_module/data/2016_2017_2018_2019_2020/EPA Region 0 Odds Ratio CHILD.csv']\n"
     ]
    }
   ],
   "source": [
    "syear, eyear = 2016, 2020\n",
    "\n",
    "dirs = []\n",
    "temp_year = None\n",
    "for year in range(syear, eyear+1):\n",
    "    if temp_year == None:\n",
    "        temp_year = year\n",
    "    else:\n",
    "        temp_year = \"{}_{}\".format(temp_year, year)\n",
    "    dirs.append(\"{}/{}/EPA Region 0 Odds Ratio CHILD.csv\".format(PATH,temp_year))\n",
    "print(dirs)"
   ]
  },
  {
   "cell_type": "code",
   "execution_count": 28,
   "id": "ab58cde8",
   "metadata": {},
   "outputs": [],
   "source": [
    "def f2(x):\n",
    "    if x:\n",
    "        return float(\"{:.2f}\".format(float(x)))\n",
    "    else:\n",
    "        return None\n",
    "\n",
    "def read_file(file):\n",
    "    f = open(file, \"r\")\n",
    "    next(f)\n",
    "    data = {}\n",
    "    reader = csv.reader(f)\n",
    "    for row in reader:\n",
    "        key = row[0]\n",
    "        OR = f2(row[3])\n",
    "        CI = [f2(row[1]), f2(row[2])]\n",
    "        data[key] = {\"OR\": OR, \"CI\": CI}\n",
    "    return data\n",
    "        \n",
    "data = OrderedDict()\n",
    "for file, year in zip(dirs, range(syear, eyear+1)):\n",
    "    data[year] = read_file(file)"
   ]
  },
  {
   "cell_type": "code",
   "execution_count": 29,
   "id": "4985c6e1",
   "metadata": {},
   "outputs": [
    {
     "data": {
      "text/plain": [
       "OrderedDict([(2016,\n",
       "              {'NONCARB': {'OR': 0.92, 'CI': [0.92, 0.92]},\n",
       "               'RCSGENDR': {'OR': 0.18, 'CI': [0.18, 0.18]},\n",
       "               '_CPRACE': {'OR': 0.99, 'CI': [0.99, 0.99]},\n",
       "               'POVERTY': {'OR': 1.01, 'CI': [1.0, 1.01]},\n",
       "               'DENSITY': {'OR': 3.26, 'CI': [3.24, 3.29]},\n",
       "               '_CLLCPWT': {'OR': 1.0, 'CI': [1.0, 1.0]}}),\n",
       "             (2017,\n",
       "              {'NONCARB': {'OR': 0.81, 'CI': [0.81, 0.82]},\n",
       "               'RCSGENDR': {'OR': 0.18, 'CI': [0.18, 0.18]},\n",
       "               '_CPRACE': {'OR': 1.0, 'CI': [1.0, 1.0]},\n",
       "               'POVERTY': {'OR': 1.18, 'CI': [1.17, 1.18]},\n",
       "               'DENSITY': {'OR': 3.81, 'CI': [3.79, 3.83]},\n",
       "               '_CLLCPWT': {'OR': 1.0, 'CI': [1.0, 1.0]}}),\n",
       "             (2018,\n",
       "              {'NONCARB': {'OR': 0.79, 'CI': [0.79, 0.79]},\n",
       "               'RCSGENDR': {'OR': 0.24, 'CI': [0.24, 0.25]},\n",
       "               '_CPRACE': {'OR': 1.0, 'CI': [1.0, 1.0]},\n",
       "               'POVERTY': {'OR': 1.09, 'CI': [1.08, 1.09]},\n",
       "               'DENSITY': {'OR': 4.74, 'CI': [4.72, 4.76]},\n",
       "               '_CLLCPWT': {'OR': 1.0, 'CI': [1.0, 1.0]}}),\n",
       "             (2019,\n",
       "              {'NONCARB': {'OR': 0.77, 'CI': [0.77, 0.77]},\n",
       "               'RCSGENDR': {'OR': 0.25, 'CI': [0.25, 0.25]},\n",
       "               '_CPRACE': {'OR': 1.0, 'CI': [1.0, 1.0]},\n",
       "               'POVERTY': {'OR': 1.06, 'CI': [1.06, 1.06]},\n",
       "               'DENSITY': {'OR': 5.85, 'CI': [5.83, 5.87]},\n",
       "               '_CLLCPWT': {'OR': 1.0, 'CI': [1.0, 1.0]}}),\n",
       "             (2020,\n",
       "              {'NONCARB': {'OR': 0.88, 'CI': [0.88, 0.88]},\n",
       "               'RCSGENDR': {'OR': 0.33, 'CI': [0.33, 0.33]},\n",
       "               '_CPRACE': {'OR': 1.0, 'CI': [1.0, 1.0]},\n",
       "               'POVERTY': {'OR': 1.04, 'CI': [1.04, 1.04]},\n",
       "               'DENSITY': {'OR': 4.42, 'CI': [4.41, 4.43]},\n",
       "               '_CLLCPWT': {'OR': 1.0, 'CI': [1.0, 1.0]}})])"
      ]
     },
     "execution_count": 29,
     "metadata": {},
     "output_type": "execute_result"
    }
   ],
   "source": [
    "data"
   ]
  },
  {
   "cell_type": "code",
   "execution_count": null,
   "id": "606274e6",
   "metadata": {},
   "outputs": [],
   "source": []
  },
  {
   "cell_type": "code",
   "execution_count": null,
   "id": "14471e68",
   "metadata": {},
   "outputs": [],
   "source": []
  }
 ],
 "metadata": {
  "kernelspec": {
   "display_name": "Python 3 (ipykernel)",
   "language": "python",
   "name": "python3"
  },
  "language_info": {
   "codemirror_mode": {
    "name": "ipython",
    "version": 3
   },
   "file_extension": ".py",
   "mimetype": "text/x-python",
   "name": "python",
   "nbconvert_exporter": "python",
   "pygments_lexer": "ipython3",
   "version": "3.10.4"
  }
 },
 "nbformat": 4,
 "nbformat_minor": 5
}
