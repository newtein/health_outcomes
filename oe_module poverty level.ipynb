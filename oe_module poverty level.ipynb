{
 "cells": [
  {
   "cell_type": "code",
   "execution_count": 1,
   "metadata": {},
   "outputs": [],
   "source": [
    "from make_file_for_odds_ratio import GetData\n",
    "import pandas as pd\n",
    "import numpy as np\n",
    "from config import CONFIG"
   ]
  },
  {
   "cell_type": "code",
   "execution_count": 17,
   "metadata": {},
   "outputs": [
    {
     "name": "stdout",
     "output_type": "stream",
     "text": [
      "File already exists: reading now...\n",
      "File already exists: reading now...\n",
      "File already exists: reading now...\n"
     ]
    }
   ],
   "source": [
    "dfs = GetData().execute()"
   ]
  },
  {
   "cell_type": "code",
   "execution_count": 18,
   "metadata": {},
   "outputs": [
    {
     "data": {
      "text/plain": [
       "Index(['SMOKE100', '_STATE', 'ASTHMA3', 'ASTHNOW', '_AGEG5YR', 'SEX',\n",
       "       '_RACE_G1', 'INCOME2', '_INCOMG', 'EDUCA', '_EDUCAG', '_BMI5',\n",
       "       '_BMI5CAT', 'CHILDREN', 'NUMADULT', 'HHADULT', '_CHLDCNT'],\n",
       "      dtype='object')"
      ]
     },
     "execution_count": 18,
     "metadata": {},
     "output_type": "execute_result"
    }
   ],
   "source": [
    "dfs[0].columns"
   ]
  },
  {
   "cell_type": "code",
   "execution_count": 19,
   "metadata": {},
   "outputs": [],
   "source": [
    "mdf = pd.DataFrame()\n",
    "for i in [0, 1, 2]:\n",
    "    mdf = mdf.append(dfs[i])"
   ]
  },
  {
   "cell_type": "code",
   "execution_count": 20,
   "metadata": {},
   "outputs": [],
   "source": [
    "def count_adults(x):\n",
    "    landline = x['NUMADULT']\n",
    "    cell = x['HHADULT']\n",
    "    if not pd.isna(landline):\n",
    "        return landline\n",
    "    return cell\n",
    "\n",
    "mdf['ADULTS'] = mdf.apply(count_adults, axis=1)"
   ]
  },
  {
   "cell_type": "code",
   "execution_count": 21,
   "metadata": {},
   "outputs": [],
   "source": [
    "def add_adults_and_children(x):\n",
    "    children = x['CHILDREN']\n",
    "    adults = x['ADULTS']\n",
    "    if not pd.isna(children) and not pd.isna(adults):\n",
    "        if adults not in [77, 99] and children not in [99]:\n",
    "            if children == 88:\n",
    "                children = 0\n",
    "            return adults + children\n",
    "        elif adults not in [77, 99]:\n",
    "            return adults\n",
    "    elif (not pd.isna(adults)) and (adults not in [77, 99]):\n",
    "        return adults\n",
    "    return np.nan\n",
    "    \n",
    "mdf['HOUSEHOLD'] = mdf.apply(add_adults_and_children, axis=1)"
   ]
  },
  {
   "cell_type": "code",
   "execution_count": 22,
   "metadata": {},
   "outputs": [],
   "source": [
    "def calculate_poverty_guideline_flag(x):\n",
    "    if x['_STATE'] == 2:\n",
    "        poverty_table = CONFIG.get(\"POVERTY\").get(\"HOUSEHOLD_DATA\").get(\"AK\")\n",
    "    elif x['_STATE'] == 15:\n",
    "        poverty_table = CONFIG.get(\"POVERTY\").get(\"HOUSEHOLD_DATA\").get(\"HW\")\n",
    "    else:\n",
    "        poverty_table = CONFIG.get(\"POVERTY\").get(\"HOUSEHOLD_DATA\").get(\"DATA\")\n",
    "    household = x['HOUSEHOLD']\n",
    "    if not pd.isna(household):\n",
    "        if household>8:\n",
    "            poverty_guideline = poverty_table.get(\"8\") + (poverty_table.get(\"+8\") * (household-8))\n",
    "        else:\n",
    "            poverty_guideline = poverty_table.get(str(int(household)))\n",
    "        return poverty_guideline\n",
    "    return np.nan\n",
    "    \n",
    "\n",
    "mdf['POVERTY_GUIDE'] = mdf.apply(calculate_poverty_guideline_flag, axis=1)"
   ]
  },
  {
   "cell_type": "code",
   "execution_count": 23,
   "metadata": {},
   "outputs": [
    {
     "data": {
      "text/plain": [
       "23950336070.0"
      ]
     },
     "execution_count": 23,
     "metadata": {},
     "output_type": "execute_result"
    }
   ],
   "source": [
    "mdf['POVERTY_GUIDE'].sum()"
   ]
  },
  {
   "cell_type": "code",
   "execution_count": 9,
   "metadata": {},
   "outputs": [],
   "source": [
    "def get_poverty_flag(x):\n",
    "    income_table = CONFIG.get(\"POVERTY\").get(\"INCOME_INDEX\").get(\"DATA\")\n",
    "    reported_income = x['INCOME2']\n",
    "    if pd.isna(reported_income) or (reported_income in [77, 99]):\n",
    "        return np.nan\n",
    "    income = income_table.get(str(int(reported_income)))\n",
    "    if income <= x['POVERTY_GUIDE']:\n",
    "        return 1\n",
    "    return 0\n",
    "    \n",
    "\n",
    "mdf['POVERTY'] = mdf.apply(get_poverty_flag, axis=1)"
   ]
  },
  {
   "cell_type": "code",
   "execution_count": 10,
   "metadata": {},
   "outputs": [
    {
     "data": {
      "text/plain": [
       "0.16924706370495468"
      ]
     },
     "execution_count": 10,
     "metadata": {},
     "output_type": "execute_result"
    }
   ],
   "source": [
    "mdf['POVERTY'].isna().mean()"
   ]
  },
  {
   "cell_type": "code",
   "execution_count": 13,
   "metadata": {},
   "outputs": [
    {
     "data": {
      "text/plain": [
       "array([77., 99., nan])"
      ]
     },
     "execution_count": 13,
     "metadata": {},
     "output_type": "execute_result"
    }
   ],
   "source": [
    "mdf[pd.isna(mdf['POVERTY'])]['INCOME2'].unique()"
   ]
  },
  {
   "cell_type": "code",
   "execution_count": null,
   "metadata": {},
   "outputs": [],
   "source": []
  }
 ],
 "metadata": {
  "kernelspec": {
   "display_name": "Python 3",
   "language": "python",
   "name": "python3"
  },
  "language_info": {
   "codemirror_mode": {
    "name": "ipython",
    "version": 3
   },
   "file_extension": ".py",
   "mimetype": "text/x-python",
   "name": "python",
   "nbconvert_exporter": "python",
   "pygments_lexer": "ipython3",
   "version": "3.7.9"
  }
 },
 "nbformat": 4,
 "nbformat_minor": 4
}
