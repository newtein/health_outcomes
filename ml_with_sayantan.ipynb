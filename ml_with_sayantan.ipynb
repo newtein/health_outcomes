{
 "cells": [
  {
   "cell_type": "code",
   "execution_count": 118,
   "id": "58417eb1",
   "metadata": {},
   "outputs": [],
   "source": [
    "import pandas as pd\n",
    "import csv\n",
    "from constants import *\n",
    "import numpy as np\n",
    "from math import log, floor\n"
   ]
  },
  {
   "cell_type": "code",
   "execution_count": 119,
   "id": "46b3d68a",
   "metadata": {},
   "outputs": [],
   "source": [
    "year = 2019\n",
    "path = \"odds_ratio_module/data/{}/df_AFv2_EPA0_CHILD.csv\".format(year)"
   ]
  },
  {
   "cell_type": "code",
   "execution_count": 120,
   "id": "5ac85958",
   "metadata": {},
   "outputs": [],
   "source": [
    "label_dict = {\n",
    "   \n",
    "    'GENDER' : {\n",
    "                1.0: \"Male\",\n",
    "                2.0: \"Female\",\n",
    "                9.0: \"Missing\"\n",
    "               },\n",
    "    'RACE': {\n",
    "        1.0: \"White\",\n",
    "        2.0: \"Black or African American\",\n",
    "        3.0: \"American Indian or Alaskan Native\",\n",
    "        4.0: \"Asian\",\n",
    "        5.0: \"Native Hawaiian or other Pacific Islander\",\n",
    "        6.0: \"Other race\",\n",
    "        77.0: \"Missing\"\n",
    "        # 7.0: 'No Preferred race',\n",
    "        # 77.0: \"Don't know/Not sure\",\n",
    "        # 99.0: 'Refused'\n",
    "    },\n",
    "    'POVERTY': {\n",
    "        1.0: \"Below Poverty Guideline\",\n",
    "        0.0: \"Above Poverty Guideline\",\n",
    "        77.0: \"Missing\"\n",
    "    }\n",
    "}"
   ]
  },
  {
   "cell_type": "code",
   "execution_count": 146,
   "id": "2ac2a578",
   "metadata": {},
   "outputs": [
    {
     "data": {
      "text/plain": [
       "Index(['index', 'ZEV_MANDATES', 'GENDER', 'RACE', 'POVERTY', 'DENSITY',\n",
       "       'ASTHMA', 'STATE', 'EPA_REGION', 'YEAR'],\n",
       "      dtype='object')"
      ]
     },
     "execution_count": 146,
     "metadata": {},
     "output_type": "execute_result"
    }
   ],
   "source": [
    "df = pd.read_csv(path)\n",
    "df.columns"
   ]
  },
  {
   "cell_type": "code",
   "execution_count": 122,
   "id": "ae5415c4",
   "metadata": {},
   "outputs": [],
   "source": [
    "race_dict = {7.0: 77.0, 99.0:77.0}\n",
    "df['RACE'] = df['RACE'].replace(race_dict)"
   ]
  },
  {
   "cell_type": "code",
   "execution_count": 123,
   "id": "d63d6e56",
   "metadata": {},
   "outputs": [
    {
     "data": {
      "text/plain": [
       "(39951209, 10)"
      ]
     },
     "execution_count": 123,
     "metadata": {},
     "output_type": "execute_result"
    }
   ],
   "source": [
    "df.shape"
   ]
  },
  {
   "cell_type": "code",
   "execution_count": 126,
   "id": "da46a781",
   "metadata": {},
   "outputs": [],
   "source": [
    "def filter_df(df, col):\n",
    "    tdf = df        .groupby([col])['ASTHMA'].count().reset_index()\n",
    "    tdf['LABEL'] = tdf[col].apply(label_dict.get(col).get)\n",
    "    return tdf.reset_index()\n",
    "\n",
    "def get_value(df, value_col):\n",
    "    return df.loc[df['LABEL']==value_col, ['ASTHMA']].values[0][0]\n",
    "\n",
    "def get_per(a, b):\n",
    "    value = (a*100)/b\n",
    "    return \"{:.2f}\".format(value)\n",
    "\n",
    "def human_format(number):\n",
    "    units = ['', 'K', 'M', 'G', 'T', 'P']\n",
    "    k = 1000.0\n",
    "    magnitude = int(floor(log(number, k)))\n",
    "    return '%.2f%s' % (number / k**magnitude, units[magnitude])\n",
    "\n",
    "def combine_row(total_row, zev_row, other_row, col):\n",
    "    rows = []\n",
    "    missing = human_format(get_value(total_row, 'Missing'))\n",
    "    row1 = [\"{} (missing n = {})\".format(col, missing), np.nan, np.nan]\n",
    "    rows.append(row1)\n",
    "    x = label_dict.get(col)\n",
    "    sorted_labels = sorted(x.items(), key=lambda item: item[1])\n",
    "    sorted_labels = [(i[0], i[1]) for i in sorted_labels if i[1]!='Missing']\n",
    "    for i in sorted_labels:\n",
    "        label = i[1]\n",
    "        zev_value = get_value(zev_row, label)\n",
    "        other_value = get_value(other_row, label)\n",
    "        total_value = get_value(total_row, label)\n",
    "        # zev_per = get_per(zev_value, total_value)\n",
    "        # other_per = get_per(other_value, total_value)\n",
    "        \n",
    "        trow = [label, human_format(zev_value), human_format(other_value), human_format(total_value)]\n",
    "        rows.append(trow)\n",
    "    return rows\n",
    "    \n",
    "\n",
    "def make_row(df, col):\n",
    "    total_row = filter_df(df, col)\n",
    "    zev_df = df[df['STATE'].isin(ZEV_STATES)]\n",
    "    zev_row = filter_df(zev_df, col)\n",
    "    other_df = df[~df['STATE'].isin(ZEV_STATES)]\n",
    "    other_row = filter_df(other_df, col)\n",
    "    rows = combine_row(total_row, zev_row, other_row, col)\n",
    "    return rows\n",
    "    "
   ]
  },
  {
   "cell_type": "code",
   "execution_count": 127,
   "id": "7d4537d4",
   "metadata": {},
   "outputs": [
    {
     "name": "stdout",
     "output_type": "stream",
     "text": [
      "[['GENDER (missing n = 505.43K)', nan, nan], ['Female', '5.32M', '14.25M', '19.57M'], ['Male', '5.41M', '14.46M', '19.88M'], ['RACE (missing n = 3.43M)', nan, nan], ['American Indian or Alaskan Native', '203.90K', '400.16K', '604.06K'], ['Asian', '1.15M', '792.86K', '1.94M'], ['Black or African American', '812.04K', '4.94M', '5.75M'], ['Native Hawaiian or other Pacific Islander', '20.85K', '167.58K', '188.44K'], ['Other race', '728.78K', '1.31M', '2.04M'], ['White', '6.93M', '19.07M', '26.00M'], ['POVERTY (missing n = 4.07M)', nan, nan], ['Above Poverty Guideline', '7.49M', '20.90M', '28.39M'], ['Below Poverty Guideline', '2.38M', '5.12M', '7.50M']]\n"
     ]
    }
   ],
   "source": [
    "features = ['GENDER', \"RACE\", \"POVERTY\"]    \n",
    "rows = []\n",
    "for feature in features:\n",
    "    row = make_row(df, feature)\n",
    "    rows.extend(row)\n",
    "print(rows)"
   ]
  },
  {
   "cell_type": "code",
   "execution_count": 130,
   "id": "429f7641",
   "metadata": {},
   "outputs": [
    {
     "data": {
      "text/html": [
       "<div>\n",
       "<style scoped>\n",
       "    .dataframe tbody tr th:only-of-type {\n",
       "        vertical-align: middle;\n",
       "    }\n",
       "\n",
       "    .dataframe tbody tr th {\n",
       "        vertical-align: top;\n",
       "    }\n",
       "\n",
       "    .dataframe thead th {\n",
       "        text-align: right;\n",
       "    }\n",
       "</style>\n",
       "<table border=\"1\" class=\"dataframe\">\n",
       "  <thead>\n",
       "    <tr style=\"text-align: right;\">\n",
       "      <th></th>\n",
       "      <th>index</th>\n",
       "      <th>GENDER</th>\n",
       "      <th>ASTHMA</th>\n",
       "      <th>LABEL</th>\n",
       "    </tr>\n",
       "  </thead>\n",
       "  <tbody>\n",
       "    <tr>\n",
       "      <th>0</th>\n",
       "      <td>0</td>\n",
       "      <td>1.0</td>\n",
       "      <td>19875886</td>\n",
       "      <td>Male</td>\n",
       "    </tr>\n",
       "    <tr>\n",
       "      <th>1</th>\n",
       "      <td>1</td>\n",
       "      <td>2.0</td>\n",
       "      <td>19569889</td>\n",
       "      <td>Female</td>\n",
       "    </tr>\n",
       "    <tr>\n",
       "      <th>2</th>\n",
       "      <td>2</td>\n",
       "      <td>9.0</td>\n",
       "      <td>505434</td>\n",
       "      <td>Missing</td>\n",
       "    </tr>\n",
       "  </tbody>\n",
       "</table>\n",
       "</div>"
      ],
      "text/plain": [
       "   index  GENDER    ASTHMA    LABEL\n",
       "0      0     1.0  19875886     Male\n",
       "1      1     2.0  19569889   Female\n",
       "2      2     9.0    505434  Missing"
      ]
     },
     "execution_count": 130,
     "metadata": {},
     "output_type": "execute_result"
    }
   ],
   "source": [
    "filter_df(df, \"GENDER\")"
   ]
  },
  {
   "cell_type": "code",
   "execution_count": 95,
   "id": "fc6083d8",
   "metadata": {},
   "outputs": [
    {
     "data": {
      "text/plain": [
       "array([ 7.,  1.,  6.,  2.,  3.,  4., 77., 99.,  5., nan])"
      ]
     },
     "execution_count": 95,
     "metadata": {},
     "output_type": "execute_result"
    }
   ],
   "source": [
    "df['RACE'].unique()"
   ]
  },
  {
   "cell_type": "code",
   "execution_count": 129,
   "id": "34d07013",
   "metadata": {},
   "outputs": [
    {
     "data": {
      "text/plain": [
       "ASTHMA\n",
       "0    17.891079\n",
       "1    18.992018\n",
       "Name: DENSITY, dtype: float64"
      ]
     },
     "execution_count": 129,
     "metadata": {},
     "output_type": "execute_result"
    }
   ],
   "source": [
    "df.groupby(['ASTHMA'])['DENSITY'].mean()"
   ]
  },
  {
   "cell_type": "code",
   "execution_count": 131,
   "id": "589c6ef8",
   "metadata": {},
   "outputs": [
    {
     "data": {
      "text/html": [
       "<div>\n",
       "<style scoped>\n",
       "    .dataframe tbody tr th:only-of-type {\n",
       "        vertical-align: middle;\n",
       "    }\n",
       "\n",
       "    .dataframe tbody tr th {\n",
       "        vertical-align: top;\n",
       "    }\n",
       "\n",
       "    .dataframe thead th {\n",
       "        text-align: right;\n",
       "    }\n",
       "</style>\n",
       "<table border=\"1\" class=\"dataframe\">\n",
       "  <thead>\n",
       "    <tr style=\"text-align: right;\">\n",
       "      <th></th>\n",
       "      <th>index</th>\n",
       "      <th>ZEV_MANDATES</th>\n",
       "      <th>GENDER</th>\n",
       "      <th>RACE</th>\n",
       "      <th>POVERTY</th>\n",
       "      <th>DENSITY</th>\n",
       "      <th>ASTHMA</th>\n",
       "      <th>STATE</th>\n",
       "      <th>EPA_REGION</th>\n",
       "      <th>YEAR</th>\n",
       "    </tr>\n",
       "  </thead>\n",
       "  <tbody>\n",
       "    <tr>\n",
       "      <th>0</th>\n",
       "      <td>0</td>\n",
       "      <td>1</td>\n",
       "      <td>1.0</td>\n",
       "      <td>77.0</td>\n",
       "      <td>0</td>\n",
       "      <td>22.423151</td>\n",
       "      <td>0</td>\n",
       "      <td>6.0</td>\n",
       "      <td>9</td>\n",
       "      <td>1</td>\n",
       "    </tr>\n",
       "    <tr>\n",
       "      <th>1</th>\n",
       "      <td>0</td>\n",
       "      <td>1</td>\n",
       "      <td>1.0</td>\n",
       "      <td>77.0</td>\n",
       "      <td>0</td>\n",
       "      <td>22.423151</td>\n",
       "      <td>0</td>\n",
       "      <td>6.0</td>\n",
       "      <td>9</td>\n",
       "      <td>1</td>\n",
       "    </tr>\n",
       "    <tr>\n",
       "      <th>2</th>\n",
       "      <td>0</td>\n",
       "      <td>1</td>\n",
       "      <td>1.0</td>\n",
       "      <td>77.0</td>\n",
       "      <td>0</td>\n",
       "      <td>22.423151</td>\n",
       "      <td>0</td>\n",
       "      <td>6.0</td>\n",
       "      <td>9</td>\n",
       "      <td>1</td>\n",
       "    </tr>\n",
       "    <tr>\n",
       "      <th>3</th>\n",
       "      <td>0</td>\n",
       "      <td>1</td>\n",
       "      <td>1.0</td>\n",
       "      <td>77.0</td>\n",
       "      <td>0</td>\n",
       "      <td>22.423151</td>\n",
       "      <td>0</td>\n",
       "      <td>6.0</td>\n",
       "      <td>9</td>\n",
       "      <td>1</td>\n",
       "    </tr>\n",
       "    <tr>\n",
       "      <th>4</th>\n",
       "      <td>0</td>\n",
       "      <td>1</td>\n",
       "      <td>1.0</td>\n",
       "      <td>77.0</td>\n",
       "      <td>0</td>\n",
       "      <td>22.423151</td>\n",
       "      <td>0</td>\n",
       "      <td>6.0</td>\n",
       "      <td>9</td>\n",
       "      <td>1</td>\n",
       "    </tr>\n",
       "    <tr>\n",
       "      <th>...</th>\n",
       "      <td>...</td>\n",
       "      <td>...</td>\n",
       "      <td>...</td>\n",
       "      <td>...</td>\n",
       "      <td>...</td>\n",
       "      <td>...</td>\n",
       "      <td>...</td>\n",
       "      <td>...</td>\n",
       "      <td>...</td>\n",
       "      <td>...</td>\n",
       "    </tr>\n",
       "    <tr>\n",
       "      <th>39951204</th>\n",
       "      <td>46508</td>\n",
       "      <td>0</td>\n",
       "      <td>2.0</td>\n",
       "      <td>3.0</td>\n",
       "      <td>1</td>\n",
       "      <td>9.056478</td>\n",
       "      <td>0</td>\n",
       "      <td>55.0</td>\n",
       "      <td>5</td>\n",
       "      <td>1</td>\n",
       "    </tr>\n",
       "    <tr>\n",
       "      <th>39951205</th>\n",
       "      <td>46508</td>\n",
       "      <td>0</td>\n",
       "      <td>2.0</td>\n",
       "      <td>3.0</td>\n",
       "      <td>1</td>\n",
       "      <td>9.056478</td>\n",
       "      <td>0</td>\n",
       "      <td>55.0</td>\n",
       "      <td>5</td>\n",
       "      <td>1</td>\n",
       "    </tr>\n",
       "    <tr>\n",
       "      <th>39951206</th>\n",
       "      <td>46508</td>\n",
       "      <td>0</td>\n",
       "      <td>2.0</td>\n",
       "      <td>3.0</td>\n",
       "      <td>1</td>\n",
       "      <td>9.056478</td>\n",
       "      <td>0</td>\n",
       "      <td>55.0</td>\n",
       "      <td>5</td>\n",
       "      <td>1</td>\n",
       "    </tr>\n",
       "    <tr>\n",
       "      <th>39951207</th>\n",
       "      <td>46508</td>\n",
       "      <td>0</td>\n",
       "      <td>2.0</td>\n",
       "      <td>3.0</td>\n",
       "      <td>1</td>\n",
       "      <td>9.056478</td>\n",
       "      <td>0</td>\n",
       "      <td>55.0</td>\n",
       "      <td>5</td>\n",
       "      <td>1</td>\n",
       "    </tr>\n",
       "    <tr>\n",
       "      <th>39951208</th>\n",
       "      <td>46508</td>\n",
       "      <td>0</td>\n",
       "      <td>2.0</td>\n",
       "      <td>3.0</td>\n",
       "      <td>1</td>\n",
       "      <td>9.056478</td>\n",
       "      <td>0</td>\n",
       "      <td>55.0</td>\n",
       "      <td>5</td>\n",
       "      <td>1</td>\n",
       "    </tr>\n",
       "  </tbody>\n",
       "</table>\n",
       "<p>39951209 rows × 10 columns</p>\n",
       "</div>"
      ],
      "text/plain": [
       "          index  ZEV_MANDATES  GENDER  RACE  POVERTY    DENSITY  ASTHMA  \\\n",
       "0             0             1     1.0  77.0        0  22.423151       0   \n",
       "1             0             1     1.0  77.0        0  22.423151       0   \n",
       "2             0             1     1.0  77.0        0  22.423151       0   \n",
       "3             0             1     1.0  77.0        0  22.423151       0   \n",
       "4             0             1     1.0  77.0        0  22.423151       0   \n",
       "...         ...           ...     ...   ...      ...        ...     ...   \n",
       "39951204  46508             0     2.0   3.0        1   9.056478       0   \n",
       "39951205  46508             0     2.0   3.0        1   9.056478       0   \n",
       "39951206  46508             0     2.0   3.0        1   9.056478       0   \n",
       "39951207  46508             0     2.0   3.0        1   9.056478       0   \n",
       "39951208  46508             0     2.0   3.0        1   9.056478       0   \n",
       "\n",
       "          STATE  EPA_REGION  YEAR  \n",
       "0           6.0           9     1  \n",
       "1           6.0           9     1  \n",
       "2           6.0           9     1  \n",
       "3           6.0           9     1  \n",
       "4           6.0           9     1  \n",
       "...         ...         ...   ...  \n",
       "39951204   55.0           5     1  \n",
       "39951205   55.0           5     1  \n",
       "39951206   55.0           5     1  \n",
       "39951207   55.0           5     1  \n",
       "39951208   55.0           5     1  \n",
       "\n",
       "[39951209 rows x 10 columns]"
      ]
     },
     "execution_count": 131,
     "metadata": {},
     "output_type": "execute_result"
    }
   ],
   "source": [
    "df"
   ]
  },
  {
   "cell_type": "code",
   "execution_count": 189,
   "id": "8345b1e1",
   "metadata": {},
   "outputs": [
    {
     "name": "stdout",
     "output_type": "stream",
     "text": [
      "XGBoost\n",
      "0.646\n",
      "[[18230  9695]\n",
      " [11545 20530]]\n"
     ]
    }
   ],
   "source": [
    "one_hot = ['RACE', \"GENDER\"]\n",
    "ttdf = pd.get_dummies(df, columns=one_hot)\n",
    "\n",
    "\n",
    "# Separate majority and minority classes\n",
    "df_majority = ttdf[ttdf['ASTHMA']==0]\n",
    "df_minority = ttdf[ttdf['ASTHMA']==1]\n",
    "\n",
    "# Downsample majority class\n",
    "from sklearn.utils import resample\n",
    "df_majority_downsampled = resample(df_majority, \n",
    "                                 replace=False,    # sample without replacement\n",
    "                                 n_samples=515500,     # to match minority class\n",
    "                                 random_state=123) # reproducible results\n",
    " \n",
    "# Combine minority class with downsampled majority class\n",
    "tdf = pd.concat([df_majority_downsampled, df_minority])\n",
    " \n",
    "# Display new class counts\n",
    "tdf['ASTHMA'].value_counts()\n",
    "\n",
    "n_samples=300000\n",
    "y=tdf['ASTHMA'].values\n",
    "X=tdf.drop([\"STATE\", \"EPA_REGION\", \"ASTHMA\", \"YEAR\", \"index\"], axis=1).values\n",
    "np.random.seed(100)\n",
    "idx=np.random.permutation(X.shape[0])\n",
    "X=X[idx[:n_samples]]\n",
    "y=y[idx[:n_samples]]\n",
    "\n",
    "\n",
    "        \n",
    "from sklearn.model_selection import train_test_split\n",
    "X_train, X_test, y_train, y_test=train_test_split(X, y, test_size=0.2, random_state=100)\n",
    "\n",
    "from sklearn.preprocessing import StandardScaler, OneHotEncoder\n",
    "scl=StandardScaler()\n",
    "X_train=scl.fit_transform(X_train)\n",
    "X_test=scl.transform(X_test)\n",
    "\n",
    "enc=OneHotEncoder(sparse=False)\n",
    "y_train=enc.fit_transform(y_train.reshape(-1,1))\n",
    "\n",
    "import xgboost\n",
    "from xgboost import XGBClassifier\n",
    "model_xgb=XGBClassifier(n_estimators=100)\n",
    "model_xgb.fit(X_train,y_train)\n",
    "y_pred=np.argmax(model_xgb.predict(X_test), 1)\n",
    "from sklearn.metrics import accuracy_score, confusion_matrix\n",
    "print('XGBoost')\n",
    "print(accuracy_score(y_pred,y_test))\n",
    "print(confusion_matrix(y_pred,y_test))\n"
   ]
  },
  {
   "cell_type": "code",
   "execution_count": 178,
   "id": "9b108937",
   "metadata": {},
   "outputs": [
    {
     "data": {
      "text/plain": [
       "515500"
      ]
     },
     "execution_count": 178,
     "metadata": {},
     "output_type": "execute_result"
    }
   ],
   "source": [
    "from keras.models import Sequential\n",
    "from keras.layers import Dense\n",
    "\n",
    "def model(d):\n",
    "    nn=Sequential()\n",
    "    nn.add(Dense(50, activation='relu', input_shape=(d,)))\n",
    "    nn.add(Dense(50, activation='relu'))\n",
    "    nn.add(Dense(1, activation='sigmoid'))\n",
    "    nn.compile(optimizer='adam', loss='binary_crossentropy')\n",
    "    nn.summary()\n",
    "    return nn\n",
    "\n",
    "model_nn=model(X_train.shape[1])\n",
    "model_nn.fit(X_train,y_train, epochs=200, batch_size=64, verbose=0)\n",
    "p_pred=model_nn(X_test)\n",
    "y_pred=p_pred>=0.5\n",
    "print('Neural Network')\n",
    "print(accuracy_score(y_pred,y_test))\n",
    "print(confusion_matrix(y_pred,y_test))"
   ]
  },
  {
   "cell_type": "code",
   "execution_count": 182,
   "id": "6edcdfe6",
   "metadata": {},
   "outputs": [
    {
     "data": {
      "text/plain": [
       "<AxesSubplot:title={'center':'Feature importance'}, xlabel='F score', ylabel='Features'>"
      ]
     },
     "execution_count": 182,
     "metadata": {},
     "output_type": "execute_result"
    },
    {
     "data": {
      "image/png": "[encoded data removed]",
      "text/plain": [
       "<Figure size 432x288 with 1 Axes>"
      ]
     },
     "metadata": {
      "needs_background": "light"
     },
     "output_type": "display_data"
    }
   ],
   "source": [
    "from xgboost import plot_importance\n",
    "\n",
    "plot_importance(model_xgb)"
   ]
  },
  {
   "cell_type": "code",
   "execution_count": 172,
   "id": "3c90f5b3",
   "metadata": {},
   "outputs": [
    {
     "data": {
      "text/plain": [
       "Index(['index', 'ZEV_MANDATES', 'POVERTY', 'DENSITY', 'ASTHMA', 'STATE',\n",
       "       'EPA_REGION', 'YEAR', 'RACE_1.0', 'RACE_2.0', 'RACE_3.0', 'RACE_4.0',\n",
       "       'RACE_5.0', 'RACE_6.0', 'RACE_7.0', 'RACE_77.0', 'RACE_99.0',\n",
       "       'GENDER_1.0', 'GENDER_2.0', 'GENDER_9.0'],\n",
       "      dtype='object')"
      ]
     },
     "execution_count": 172,
     "metadata": {},
     "output_type": "execute_result"
    }
   ],
   "source": [
    "tdf.columns"
   ]
  },
  {
   "cell_type": "code",
   "execution_count": 190,
   "id": "a8f2b00d",
   "metadata": {},
   "outputs": [
    {
     "name": "stderr",
     "output_type": "stream",
     "text": [
      "ntree_limit is deprecated, use `iteration_range` or model slicing instead.\n"
     ]
    },
    {
     "data": {
      "image/png": "[encoded data removed]",
      "text/plain": [
       "<Figure size 576x540 with 1 Axes>"
      ]
     },
     "metadata": {
      "needs_background": "light"
     },
     "output_type": "display_data"
    }
   ],
   "source": [
    "import shap\n",
    "\n",
    "explained = shap.TreeExplainer(model_xgb)\n",
    "shap_values = explained.shap_values(X_test)\n",
    "shap.summary_plot(shap_values, X_test)"
   ]
  },
  {
   "cell_type": "code",
   "execution_count": null,
   "id": "e9cfcd8b",
   "metadata": {},
   "outputs": [],
   "source": []
  }
 ],
 "metadata": {
  "kernelspec": {
   "display_name": "Python 3 (ipykernel)",
   "language": "python",
   "name": "python3"
  },
  "language_info": {
   "codemirror_mode": {
    "name": "ipython",
    "version": 3
   },
   "file_extension": ".py",
   "mimetype": "text/x-python",
   "name": "python",
   "nbconvert_exporter": "python",
   "pygments_lexer": "ipython3",
   "version": "3.10.4"
  }
 },
 "nbformat": 4,
 "nbformat_minor": 5
}
